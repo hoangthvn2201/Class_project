{
 "cells": [
  {
   "cell_type": "markdown",
   "metadata": {},
   "source": [
    "<p style=\"text-align:center\">\n",
    "    <a href=\"https://skills.network/?utm_medium=Exinfluencer&utm_source=Exinfluencer&utm_content=000026UJ&utm_term=10006555&utm_id=NA-SkillsNetwork-Channel-SkillsNetworkCoursesIBMDeveloperSkillsNetworkRP0103ENSkillsNetwork896-2023-01-01\">\n",
    "    <img src=\"https://cf-courses-data.s3.us.cloud-object-storage.appdomain.cloud/assets/logos/SN_web_lightmode.png\" width=\"200\" alt=\"Skills Network Logo\"  />\n",
    "    </a>\n",
    "</p>\n",
    "\n",
    "<h1 align=center> <font size = 6>Hands-on Lab: Accessing Your Database using RJDBC</font></h1>\n"
   ]
  },
  {
   "cell_type": "markdown",
   "metadata": {},
   "source": [
    "### Welcome!\n",
    "\n",
    "In this hands-on lab, we will discover how to connect and query data from database servers with R using RJDBC.\n"
   ]
  },
  {
   "cell_type": "markdown",
   "metadata": {},
   "source": [
    "<div class=\"alert alert-block alert-info\" style=\"margin-top: 20px\">\n",
    "<h3>Tasks</h3>\n",
    "<ol><ol><ol>\n",
    "<li><a href=\"https://#refa\">Load the RJDBC library</a></li>\n",
    "<li><a href=\"https://#refb\">Download the SQLite Database and SQLite JDBC jar files</a></li>\n",
    "<li><a href=\"https://#refc\">Provide Database Driver class details</a></li>\n",
    "<li><a href=\"https://#refd\">Connect to the database</a></li>\n",
    "<li><a href=\"https://#refe\">Execute a query</a></li>\n",
    "<li><a href=\"https://#refe\">Dis-connect</a></li>    \n",
    "</ol></ol></ol>\n",
    "<p></p>\n",
    "Estimated Time Needed: <strong>20 min</strong>\n",
    "</div>\n"
   ]
  },
  {
   "cell_type": "code",
   "execution_count": null,
   "metadata": {
    "vscode": {
     "languageId": "r"
    }
   },
   "outputs": [],
   "source": []
  },
  {
   "cell_type": "code",
   "execution_count": null,
   "metadata": {
    "vscode": {
     "languageId": "r"
    }
   },
   "outputs": [],
   "source": []
  },
  {
   "cell_type": "code",
   "execution_count": null,
   "metadata": {
    "vscode": {
     "languageId": "r"
    }
   },
   "outputs": [],
   "source": []
  },
  {
   "cell_type": "markdown",
   "metadata": {},
   "source": [
    "**Pre-requisite**: In this lab we will use Jupyter Notebooks within SN Labs to access data in a SQLite database  using RJDBC.  \n"
   ]
  },
  {
   "cell_type": "markdown",
   "metadata": {},
   "source": [
    "\n",
    "<a id=\"refa\"></a>\n",
    "\n",
    "### a. Load the RJDBC library\n",
    "\n",
    "The RJDBC package is pre-installed in SN Labs. Let’s load the RJDBC package and other required libraries by clicking on the following cell and executing it (Shift+Enter):\n",
    "\n",
    "> Note: If you want to execute the lab in your local system, you need to install RJDBC and other required libraries by using the code **install.packages(libraryname)**\n"
   ]
  },
  {
   "cell_type": "code",
   "execution_count": 1,
   "metadata": {
    "vscode": {
     "languageId": "r"
    }
   },
   "outputs": [
    {
     "name": "stderr",
     "output_type": "stream",
     "text": [
      "Warning message:\n",
      "\"package 'DBI' was built under R version 3.6.3\"Warning message:\n",
      "\"package 'rJava' was built under R version 3.6.3\""
     ]
    }
   ],
   "source": [
    "# install.packages(\"RJDBC\")\n",
    "library(DBI);\n",
    "library(rJava);\n",
    "library(RJDBC);"
   ]
  },
  {
   "cell_type": "markdown",
   "metadata": {},
   "source": [
    "\n",
    "\n",
    "### b. Download the SQLite Database and SQLite JDBC jar files.\n",
    "\n",
    "* **Loading the curl package:** The curl package suppports retrieving data, writing data to disk and streaming data using R connection interface.\n",
    "* **Use the curl_download()  function to download the database and the JDBC jar file:** This function specifies 2 parameters, the **URL** of the file to be downloaded, and the **name** of the downloaded file.\n"
   ]
  },
  {
   "cell_type": "code",
   "execution_count": 2,
   "metadata": {
    "vscode": {
     "languageId": "r"
    }
   },
   "outputs": [],
   "source": [
    "library(curl)"
   ]
  },
  {
   "cell_type": "code",
   "execution_count": 3,
   "metadata": {
    "vscode": {
     "languageId": "r"
    }
   },
   "outputs": [],
   "source": [
    "curl_download(\"https://cf-courses-data.s3.us.cloud-object-storage.appdomain.cloud/IBMDeveloperSkillsNetwork-DB0201EN-SkillsNetwork/labs/Labs_Coursera_V5/datasets/Instructors.db\",\"Instructors.db\")"
   ]
  },
  {
   "cell_type": "code",
   "execution_count": 4,
   "metadata": {
    "vscode": {
     "languageId": "r"
    }
   },
   "outputs": [],
   "source": [
    "curl_download(\"https://cf-courses-data.s3.us.cloud-object-storage.appdomain.cloud/IBMDeveloperSkillsNetwork-RP0103EN-SkillsNetwork/jars/sqlite-jdbc-3.27.2.1.jar\",\"sqlite-jdbc-3.27.2.1.jar\")"
   ]
  },
  {
   "cell_type": "markdown",
   "metadata": {},
   "source": [
    "\n",
    "### c. Provide Database Driver class details\n",
    "\n",
    "Next, you need to enter the **SQLITE jdbc driver class details which will be used for connecting to SQLite database**\n"
   ]
  },
  {
   "cell_type": "code",
   "execution_count": 13,
   "metadata": {
    "vscode": {
     "languageId": "r"
    }
   },
   "outputs": [],
   "source": [
    "dsn_driver = \"org.sqlite.JDBC\""
   ]
  },
  {
   "cell_type": "markdown",
   "metadata": {},
   "source": [
    "\n",
    "### d. Connect to the database\n",
    "\n",
    "Next steps are:\n",
    "* **Specify the database driver to be used:** Here, you will use the function **JDBC()** which takes 2 arguments i.e. the **driver classname** and the **classpath to the driver file**\n",
    "* **Create a JDBC connection string:** Here, you will create the connection string to SQLite database using details such as hostname, port and database name.\n",
    "* **Connect to the database:** Then you will use the driver and connection string to actually connect to the database using the RJDBC function dbConnect()\n"
   ]
  },
  {
   "cell_type": "code",
   "execution_count": 14,
   "metadata": {
    "vscode": {
     "languageId": "r"
    }
   },
   "outputs": [],
   "source": [
    "jcc = JDBC(dsn_driver, \"sqlite-jdbc-3.27.2.1.jar\");\n",
    "jdbc_path = paste(\"jdbc:sqlite:Instructors.db\");\n",
    "conn = dbConnect(jcc, jdbc_path)"
   ]
  },
  {
   "cell_type": "markdown",
   "metadata": {},
   "source": [
    "### e. Execute a Query\n",
    "\n",
    "Here, you will:\n",
    "* **Create a sample query:** Here, you will define a **select** statement to select rows from the SQLIte system catalog table **sqlite_master**\n",
    "* **Use the function dbSendQuery() to query the table:** dbSendQuery() is a function available in the DBI library. dbSendQuery() function takes 2 arguments: **connection object and the SQL query** defined earlier. It returns the resultset from the database.\n",
    "* **Use the function fetch() to get the results as a dataframe:** fetch() is a function available in the DBI library. This function takes 2 arguments: the **resultset** and the **number of records(n)**. Here, for example if n=2, we are retrieving 2 records from the table. \n",
    "* Here, n=-1 is used to retrieve all pending records.\n"
   ]
  },
  {
   "cell_type": "code",
   "execution_count": 17,
   "metadata": {
    "vscode": {
     "languageId": "r"
    }
   },
   "outputs": [],
   "source": [
    "query = \"SELECT name FROM sqlite_master\"\n",
    "rs = dbSendQuery(conn, query);\n",
    "df = fetch(rs, -1);"
   ]
  },
  {
   "cell_type": "markdown",
   "metadata": {},
   "source": [
    "#### Let's examine the results of the dataframe by looking at the first few rows:\n"
   ]
  },
  {
   "cell_type": "code",
   "execution_count": 16,
   "metadata": {
    "vscode": {
     "languageId": "r"
    }
   },
   "outputs": [
    {
     "data": {
      "text/html": [
       "<table>\n",
       "<thead><tr><th scope=col>name</th></tr></thead>\n",
       "<tbody>\n",
       "\t<tr><td>Instructor</td></tr>\n",
       "</tbody>\n",
       "</table>\n"
      ],
      "text/latex": [
       "\\begin{tabular}{r|l}\n",
       " name\\\\\n",
       "\\hline\n",
       "\t Instructor\\\\\n",
       "\\end{tabular}\n"
      ],
      "text/markdown": [
       "\n",
       "| name |\n",
       "|---|\n",
       "| Instructor |\n",
       "\n"
      ],
      "text/plain": [
       "  name      \n",
       "1 Instructor"
      ]
     },
     "metadata": {},
     "output_type": "display_data"
    }
   ],
   "source": [
    "head(df)"
   ]
  },
  {
   "cell_type": "code",
   "execution_count": 18,
   "metadata": {},
   "outputs": [
    {
     "data": {
      "text/html": [
       "<table>\n",
       "<thead><tr><th scope=col>type</th><th scope=col>name</th><th scope=col>tbl_name</th><th scope=col>rootpage</th><th scope=col>sql</th></tr></thead>\n",
       "<tbody>\n",
       "\t<tr><td>table                                                                                                                                                              </td><td>Instructor                                                                                                                                                         </td><td>Instructor                                                                                                                                                         </td><td>2                                                                                                                                                                  </td><td>CREATE TABLE Instructor (ins_id INTEGER PRIMARY KEY NOT NULL, lastname VARCHAR (15) NOT NULL, firstname VARCHAR (15) NOT NULL, city VARCHAR (15), country CHAR (2))</td></tr>\n",
       "</tbody>\n",
       "</table>\n"
      ],
      "text/latex": [
       "\\begin{tabular}{r|lllll}\n",
       " type & name & tbl\\_name & rootpage & sql\\\\\n",
       "\\hline\n",
       "\t table                                                                                                                                                                 & Instructor                                                                                                                                                            & Instructor                                                                                                                                                            & 2                                                                                                                                                                     & CREATE TABLE Instructor (ins\\_id INTEGER PRIMARY KEY NOT NULL, lastname VARCHAR (15) NOT NULL, firstname VARCHAR (15) NOT NULL, city VARCHAR (15), country CHAR (2))\\\\\n",
       "\\end{tabular}\n"
      ],
      "text/markdown": [
       "\n",
       "| type | name | tbl_name | rootpage | sql |\n",
       "|---|---|---|---|---|\n",
       "| table                                                                                                                                                               | Instructor                                                                                                                                                          | Instructor                                                                                                                                                          | 2                                                                                                                                                                   | CREATE TABLE Instructor (ins_id INTEGER PRIMARY KEY NOT NULL, lastname VARCHAR (15) NOT NULL, firstname VARCHAR (15) NOT NULL, city VARCHAR (15), country CHAR (2)) |\n",
       "\n"
      ],
      "text/plain": [
       "  type  name       tbl_name   rootpage\n",
       "1 table Instructor Instructor 2       \n",
       "  sql                                                                                                                                                                \n",
       "1 CREATE TABLE Instructor (ins_id INTEGER PRIMARY KEY NOT NULL, lastname VARCHAR (15) NOT NULL, firstname VARCHAR (15) NOT NULL, city VARCHAR (15), country CHAR (2))"
      ]
     },
     "metadata": {},
     "output_type": "display_data"
    }
   ],
   "source": [
    "query = \"SELECT * from sqlite_master\"\n",
    "rs = dbSendQuery(conn, query)\n",
    "df = fetch(rs,-1)\n",
    "df"
   ]
  },
  {
   "cell_type": "code",
   "execution_count": 19,
   "metadata": {},
   "outputs": [
    {
     "data": {
      "text/html": [
       "<table>\n",
       "<thead><tr><th scope=col>ins_id</th><th scope=col>lastname</th><th scope=col>firstname</th><th scope=col>city</th><th scope=col>country</th></tr></thead>\n",
       "<tbody>\n",
       "\t<tr><td>1        </td><td>Ahuja    </td><td>Rav      </td><td>Toronto  </td><td>CA       </td></tr>\n",
       "\t<tr><td>2        </td><td>Chong    </td><td>Raul     </td><td>Toronto  </td><td>CA       </td></tr>\n",
       "\t<tr><td>3        </td><td>Vasudevan</td><td>Hima     </td><td>Chicago  </td><td>US       </td></tr>\n",
       "</tbody>\n",
       "</table>\n"
      ],
      "text/latex": [
       "\\begin{tabular}{r|lllll}\n",
       " ins\\_id & lastname & firstname & city & country\\\\\n",
       "\\hline\n",
       "\t 1         & Ahuja     & Rav       & Toronto   & CA       \\\\\n",
       "\t 2         & Chong     & Raul      & Toronto   & CA       \\\\\n",
       "\t 3         & Vasudevan & Hima      & Chicago   & US       \\\\\n",
       "\\end{tabular}\n"
      ],
      "text/markdown": [
       "\n",
       "| ins_id | lastname | firstname | city | country |\n",
       "|---|---|---|---|---|\n",
       "| 1         | Ahuja     | Rav       | Toronto   | CA        |\n",
       "| 2         | Chong     | Raul      | Toronto   | CA        |\n",
       "| 3         | Vasudevan | Hima      | Chicago   | US        |\n",
       "\n"
      ],
      "text/plain": [
       "  ins_id lastname  firstname city    country\n",
       "1 1      Ahuja     Rav       Toronto CA     \n",
       "2 2      Chong     Raul      Toronto CA     \n",
       "3 3      Vasudevan Hima      Chicago US     "
      ]
     },
     "metadata": {},
     "output_type": "display_data"
    }
   ],
   "source": [
    "query = \"SELECT * from Instructor\"\n",
    "rs = dbSendQuery(conn, query)\n",
    "df = fetch(rs,-1)\n",
    "df"
   ]
  },
  {
   "cell_type": "markdown",
   "metadata": {},
   "source": [
    "<a id=\"refe\"></a>\n",
    "\n",
    "### f. Dis-connect\n",
    "\n",
    "Finally, as a best practice we should close the database connection once we're done with it.\n",
    "\n"
   ]
  },
  {
   "cell_type": "code",
   "execution_count": 9,
   "metadata": {
    "vscode": {
     "languageId": "r"
    }
   },
   "outputs": [
    {
     "data": {
      "text/html": [
       "TRUE"
      ],
      "text/latex": [
       "TRUE"
      ],
      "text/markdown": [
       "TRUE"
      ],
      "text/plain": [
       "[1] TRUE"
      ]
     },
     "metadata": {},
     "output_type": "display_data"
    }
   ],
   "source": [
    "dbDisconnect(conn)"
   ]
  },
  {
   "cell_type": "markdown",
   "metadata": {},
   "source": [
    "### Practice exercises\n"
   ]
  },
  {
   "cell_type": "markdown",
   "metadata": {},
   "source": [
    "##### 1.  Enter the SQLITE jdbc driver class details which will be used  for connecting to **SQLite** database\n"
   ]
  },
  {
   "cell_type": "code",
   "execution_count": 10,
   "metadata": {
    "vscode": {
     "languageId": "r"
    }
   },
   "outputs": [],
   "source": [
    "#write your code here\n",
    "dsn_driver = \"org.sqlite.JDBC\""
   ]
  },
  {
   "cell_type": "markdown",
   "metadata": {},
   "source": [
    "<details>\n",
    "<summary>Click here to view/hide hint</summary>\n",
    "<p>\n",
    "\n",
    "\n",
    "Load the related SQLite JDBC driver class in a variable called **dsn_driver**.\n",
    "     \n",
    "\n",
    "\n",
    "</details>\n"
   ]
  },
  {
   "cell_type": "markdown",
   "metadata": {},
   "source": [
    "<details>\n",
    "<summary>Click here to view/hide solution</summary>\n",
    "<p>\n",
    "\n",
    "```\n",
    "#Enter the values for you database connection\n",
    "dsn_driver = \"org.sqlite.JDBC\"\n",
    "\n",
    "```\n",
    "</details>\n"
   ]
  },
  {
   "cell_type": "markdown",
   "metadata": {},
   "source": [
    "##### 2. Create a JDBC connection string\n"
   ]
  },
  {
   "cell_type": "code",
   "execution_count": 11,
   "metadata": {
    "vscode": {
     "languageId": "r"
    }
   },
   "outputs": [],
   "source": [
    "#write your code here\n",
    "jcc = JDBC(dsn_driver, \"sqlite-jdbc-3.27.2.1.jar\");\n",
    "jdbc_path = paste(\"jdbc:sqlite:Instructors.db\");"
   ]
  },
  {
   "cell_type": "markdown",
   "metadata": {},
   "source": [
    "<details>\n",
    "<summary>Click here to view/hide hint</summary>\n",
    "<p>\n",
    "\n",
    "Create a jdbc connection string containing the Driver class and  class path of the jar file and save it in a variable called **jcc**.\n",
    " \n",
    "Next create another connection string to load the SQLite database and save it in a variable called **jdbc_path**.\n",
    "\n",
    "\n",
    "\n",
    "\n",
    "</details>\n"
   ]
  },
  {
   "cell_type": "markdown",
   "metadata": {},
   "source": [
    "<details>\n",
    "<summary>Click here to view/hide solution</summary>\n",
    "<p>\n",
    "\n",
    "```\n",
    "jcc = JDBC(dsn_driver, \"sqlite-jdbc-3.27.2.1.jar\");\n",
    "jdbc_path = paste(\"jdbc:sqlite:Instructors.db\");\n",
    "```\n",
    "\n",
    "</details>\n"
   ]
  },
  {
   "cell_type": "markdown",
   "metadata": {},
   "source": [
    "##### 3. Use the driver and connection string to actually connect to the database using the RJDBC function dbConnect().\n",
    " \n"
   ]
  },
  {
   "cell_type": "code",
   "execution_count": 20,
   "metadata": {
    "vscode": {
     "languageId": "r"
    }
   },
   "outputs": [],
   "source": [
    "#write your code here\n",
    "conn2 = dbConnect(jcc,jdbc_path)"
   ]
  },
  {
   "cell_type": "markdown",
   "metadata": {},
   "source": [
    "<details>\n",
    "<summary>Click here to view/hide hint</summary>\n",
    "<p>\n",
    "\n",
    "\n",
    "Connect to the database by providing the connection strings related to driver class and loading of SQLite database and save it in a variable called **conn**.\n",
    "</details>\n"
   ]
  },
  {
   "cell_type": "markdown",
   "metadata": {},
   "source": [
    "<details>\n",
    "<summary>Click here to view/hide solution</summary>\n",
    "<p>\n",
    "\n",
    "```\n",
    "conn = dbConnect(jcc, jdbc_path)\n",
    "```\n",
    "\n",
    "</details>\n"
   ]
  },
  {
   "cell_type": "markdown",
   "metadata": {},
   "source": [
    "##### 4. Execute a query against the **SQLITE** user defined  table **Instructor** and fetch the first 3 rows into a R dataframe.\n"
   ]
  },
  {
   "cell_type": "code",
   "execution_count": 21,
   "metadata": {
    "vscode": {
     "languageId": "r"
    }
   },
   "outputs": [
    {
     "data": {
      "text/html": [
       "<table>\n",
       "<thead><tr><th scope=col>ins_id</th><th scope=col>lastname</th><th scope=col>firstname</th><th scope=col>city</th><th scope=col>country</th></tr></thead>\n",
       "<tbody>\n",
       "\t<tr><td>1        </td><td>Ahuja    </td><td>Rav      </td><td>Toronto  </td><td>CA       </td></tr>\n",
       "\t<tr><td>2        </td><td>Chong    </td><td>Raul     </td><td>Toronto  </td><td>CA       </td></tr>\n",
       "\t<tr><td>3        </td><td>Vasudevan</td><td>Hima     </td><td>Chicago  </td><td>US       </td></tr>\n",
       "</tbody>\n",
       "</table>\n"
      ],
      "text/latex": [
       "\\begin{tabular}{r|lllll}\n",
       " ins\\_id & lastname & firstname & city & country\\\\\n",
       "\\hline\n",
       "\t 1         & Ahuja     & Rav       & Toronto   & CA       \\\\\n",
       "\t 2         & Chong     & Raul      & Toronto   & CA       \\\\\n",
       "\t 3         & Vasudevan & Hima      & Chicago   & US       \\\\\n",
       "\\end{tabular}\n"
      ],
      "text/markdown": [
       "\n",
       "| ins_id | lastname | firstname | city | country |\n",
       "|---|---|---|---|---|\n",
       "| 1         | Ahuja     | Rav       | Toronto   | CA        |\n",
       "| 2         | Chong     | Raul      | Toronto   | CA        |\n",
       "| 3         | Vasudevan | Hima      | Chicago   | US        |\n",
       "\n"
      ],
      "text/plain": [
       "  ins_id lastname  firstname city    country\n",
       "1 1      Ahuja     Rav       Toronto CA     \n",
       "2 2      Chong     Raul      Toronto CA     \n",
       "3 3      Vasudevan Hima      Chicago US     "
      ]
     },
     "metadata": {},
     "output_type": "display_data"
    }
   ],
   "source": [
    "#write your code here\n",
    "query = \"Select * from Instructor\"\n",
    "rs = dbSendQuery(conn2,query)\n",
    "df = fetch(rs,3)\n",
    "df"
   ]
  },
  {
   "cell_type": "markdown",
   "metadata": {},
   "source": [
    "<details>\n",
    "<summary>Click here to view/hide hint</summary>\n",
    "<p>\n",
    "\n",
    "```\n",
    "Fill in the ...\n",
    "query = \"SELECT * FROM ...\";\n",
    "rs = dbSendQuery(...);\n",
    "df = fetch(...);\n",
    "```\n",
    "\n",
    "</details>\n"
   ]
  },
  {
   "cell_type": "markdown",
   "metadata": {},
   "source": [
    "<details>\n",
    "<summary>Click here to view/hide solution</summary>\n",
    "<p>\n",
    "\n",
    "```\n",
    "query = \"SELECT * FROM Instructor;\"\n",
    "rs = dbSendQuery(conn, query);\n",
    "df = fetch(rs, 3);\n",
    "```\n",
    "\n",
    "</details>\n"
   ]
  },
  {
   "cell_type": "markdown",
   "metadata": {},
   "source": [
    "##### 5. Dis-connect the database\n"
   ]
  },
  {
   "cell_type": "code",
   "execution_count": 22,
   "metadata": {
    "vscode": {
     "languageId": "r"
    }
   },
   "outputs": [
    {
     "data": {
      "text/html": [
       "TRUE"
      ],
      "text/latex": [
       "TRUE"
      ],
      "text/markdown": [
       "TRUE"
      ],
      "text/plain": [
       "[1] TRUE"
      ]
     },
     "metadata": {},
     "output_type": "display_data"
    }
   ],
   "source": [
    "#write your code here\n",
    "dbDisconnect(conn2)"
   ]
  },
  {
   "cell_type": "markdown",
   "metadata": {},
   "source": [
    "<details>\n",
    "<summary>Click here to view/hide hint</summary>\n",
    "<p>\n",
    "\n",
    "Use the function which closes the connection and frees resources\n",
    "\n",
    "</details>\n"
   ]
  },
  {
   "cell_type": "markdown",
   "metadata": {},
   "source": [
    "<details>\n",
    "<summary>Click here to view/hide solution</summary>\n",
    "<p>\n",
    "\n",
    "```\n",
    "dbDisconnect(conn)\n",
    "```\n",
    "\n",
    "</details>\n"
   ]
  },
  {
   "cell_type": "markdown",
   "metadata": {},
   "source": [
    "<a id=\"ref4g\"></a>\n",
    "\n",
    "### Summary\n",
    "\n",
    "In this lab you accessed data in a SQLIte database using RJDBC connection from a R notebook in Jupyter, and fetched the results of a query for analysis in a R dataframe.\n"
   ]
  },
  {
   "cell_type": "markdown",
   "metadata": {},
   "source": [
    "<hr>\n",
    "\n",
    "## Authors\n",
    "\n",
    "*   [Lakshmi Holla](https://www.linkedin.com/in/lakshmi-holla-b39062149/?utm_medium=Exinfluencer&utm_source=Exinfluencer&utm_content=000026UJ&utm_term=10006555&utm_id=NA-SkillsNetwork-Channel-SkillsNetworkCoursesIBMDeveloperSkillsNetworkRP0103ENSkillsNetwork896-2023-01-01)\n",
    "*   [Shreya Khurana](https://www.linkedin.com/in/shreya-khurana-437211237/?utm_medium=Exinfluencer&utm_source=Exinfluencer&utm_content=000026UJ&utm_term=10006555&utm_id=NA-SkillsNetwork-Channel-SkillsNetworkCoursesIBMDeveloperSkillsNetworkRP0103ENSkillsNetwork896-2023-01-01)\n",
    "## Changelog\n",
    "\n",
    "| Date (YYYY-MM-DD) | Version | Changed By                   | Change Description                 |\n",
    "| ----------------- | ------- | ---------------------------- | ---------------------------------- |\n",
    "| 2023-04-04        | 2.0    | Shreya Khurana            | Created revised version of the lab|\n",
    "| 2022-03-16        | 1.0    | Lakshmi Holla            | Created Initial Version using SQLite with RJDBC|\n",
    "\n",
    "\n",
    "<hr>\n",
    "\n",
    "<h2 align=center><font size = 5>Copyright &copy; IBM Corporation 2021-2022. All rights reserved.</h2>\n"
   ]
  }
 ],
 "metadata": {
  "kernelspec": {
   "display_name": "R",
   "language": "R",
   "name": "ir"
  },
  "language_info": {
   "codemirror_mode": "r",
   "file_extension": ".r",
   "mimetype": "text/x-r-source",
   "name": "R",
   "pygments_lexer": "r",
   "version": "3.6.1"
  }
 },
 "nbformat": 4,
 "nbformat_minor": 4
}
