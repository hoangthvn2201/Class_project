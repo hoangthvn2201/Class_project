{
 "cells": [
  {
   "cell_type": "markdown",
   "metadata": {
    "id": "MR1_85Eu4QnW"
   },
   "source": [
    "<center>\n",
    "<img src=\"https://cf-courses-data.s3.us.cloud-object-storage.appdomain.cloud/IBMDeveloperSkillsNetwork-RP0101EN-Coursera/v2/M3_R_Foundamentals/images/SN_web_lightmode.png\" width=\"300\">\n",
    "<center/>\n"
   ]
  },
  {
   "cell_type": "markdown",
   "metadata": {
    "id": "eAnP_V-44QnX"
   },
   "source": [
    "<h1>Importing Data in R</h1>\n",
    "\n",
    "\n",
    "## Objectives\n",
    "\n",
    "After completing this lab you will be able to:\n",
    "\n",
    "-   Import csv and excel file\n",
    "-   Access rows and columns from dataset\n",
    "-   Access R built-in dataset\n"
   ]
  },
  {
   "cell_type": "markdown",
   "metadata": {
    "id": "P8fhQw4l4QnY"
   },
   "source": [
    "## Table of Contents\n",
    "\n",
    "<ul>\n",
    "<li><a href=\"#About-the-Dataset\">About the Dataset</a></li>\n",
    "<li><a href=\"#Reading-CSV-Files\">Reading CSV Files</a></li>\n",
    "<li><a href=\"#Reading-Excel-Files\">Reading Excel Files</a></li>\n",
    "<li><a href=\"#Accessing-Rows-and-Columns\">Accessing Rows and Columns from dataset</a></li>\n",
    "<li><a href=\"#Accessing-Built-in-Datasets-in-R\">Accessing Built-in Datasets in R</a></li>\n",
    "</ul>\n",
    "\n",
    "<hr>\n"
   ]
  },
  {
   "cell_type": "markdown",
   "metadata": {
    "id": "HoxCxmEp4QnY"
   },
   "source": [
    "<a id=\"ref0\"></a>\n",
    "\n",
    "<h2 align=center>About the Dataset</h2>\n"
   ]
  },
  {
   "cell_type": "markdown",
   "metadata": {
    "id": "jXgnuEvm4QnY"
   },
   "source": [
    "**Movies dataset**\n",
    "\n",
    "Here we have a dataset that includes one row for each movie, with several columns for each movie characteristic:\n",
    "\n",
    "-   **name** - Name of the movie\n",
    "-   **year** - Year the movie was released\n",
    "-   **length_min** - Length of the movie (minutes)\n",
    "-   **genre** - Genre of the movie\n",
    "-   **average_rating** - Average rating on [IMDB](http://www.imdb.com?cm_mmc=Email_Newsletter-_-Developer_Ed%2BTech-_-WW_WW-_-SkillsNetwork-Courses-IBMDeveloperSkillsNetwork-RP0101EN-SkillsNetwork-20900564&cm_mmca1=000026UJ&cm_mmca2=10006555&cm_mmca3=M12345678&cvosrc=email.Newsletter.M12345678&cvo_campaign=000026UJ&cm_mmc=Email_Newsletter-_-Developer_Ed%2BTech-_-WW_WW-_-SkillsNetwork-Courses-IBMDeveloperSkillsNetwork-RP0101EN-SkillsNetwork-20900564&cm_mmca1=000026UJ&cm_mmca2=10006555&cm_mmca3=M12345678&cvosrc=email.Newsletter.M12345678&cvo_campaign=000026UJ&cm_mmc=Email_Newsletter-_-Developer_Ed%2BTech-_-WW_WW-_-SkillsNetwork-Courses-IBMDeveloperSkillsNetwork-RP0101EN-SkillsNetwork-20900564&cm_mmca1=000026UJ&cm_mmca2=10006555&cm_mmca3=M12345678&cvosrc=email.Newsletter.M12345678&cvo_campaign=000026UJ)\n",
    "-   **cost_millions** - Movie's production cost (millions in USD)\n",
    "-   **foreign** - Is the movie foreign (1) or domestic (0)?\n",
    "-   **age_restriction** - Age restriction for the movie\n",
    "    <br>\n"
   ]
  },
  {
   "cell_type": "markdown",
   "metadata": {
    "id": "-lRMiDCc4QnY"
   },
   "source": [
    "<img src=\"https://ibm.box.com/shared/static/6kr8sg0n6pc40zd1xn6hjhtvy3k7cmeq.png\" width=\"90%\" align=\"left\">\n"
   ]
  },
  {
   "cell_type": "markdown",
   "metadata": {
    "id": "Yfy607co4QnY"
   },
   "source": [
    "Let's learn how to **import and read data** from two common types of files used to store tabular data (when data is stored in a table or a spreadsheet.)\n",
    "\n",
    "-   **CSV files** (.csv)\n",
    "-   **Excel files** (.xls or .xlsx)\n",
    "\n",
    "To begin, we'll need to **download the data**!\n"
   ]
  },
  {
   "cell_type": "markdown",
   "metadata": {
    "id": "jP8LPPZO4QnY"
   },
   "source": [
    "<a id=\"ref0\"></a>\n",
    "\n",
    "<h2 align=center>Download the Data</h2>\n"
   ]
  },
  {
   "cell_type": "markdown",
   "metadata": {
    "id": "bnGH_KUd4QnY"
   },
   "source": [
    "We've made it easy for you to get the data, which we've hosted online. Simply run the code cell below (Shift + Enter) to download the data to your current folder.\n"
   ]
  },
  {
   "cell_type": "code",
   "execution_count": 1,
   "metadata": {
    "executionInfo": {
     "elapsed": 2145,
     "status": "ok",
     "timestamp": 1715049057682,
     "user": {
      "displayName": "Huy Hoàng",
      "userId": "01332833307816836629"
     },
     "user_tz": -420
    },
    "id": "rCFslNta4QnY",
    "vscode": {
     "languageId": "r"
    }
   },
   "outputs": [],
   "source": [
    "# Download datasets\n",
    "\n",
    "# CSV file\n",
    "download.file(\"https://cf-courses-data.s3.us.cloud-object-storage.appdomain.cloud/IBMDeveloperSkillsNetwork-RP0101EN-Coursera/v2/dataset/movies-db.csv\",\n",
    "              destfile=\"movies-db.csv\")\n",
    "\n",
    "# XLS file\n",
    "download.file(\"https://cf-courses-data.s3.us.cloud-object-storage.appdomain.cloud/IBMDeveloperSkillsNetwork-RP0101EN-Coursera/v2/dataset/movies-db.xls\",\n",
    "              destfile=\"movies-db.xls\")\n"
   ]
  },
  {
   "cell_type": "markdown",
   "metadata": {
    "id": "joq1gLXB4Qna"
   },
   "source": [
    "**If you ran the cell above, you have now downloaded the following files to your current folder:**\n",
    "\n",
    "> movies-db.csv  \n",
    "> movies-db.xls\n"
   ]
  },
  {
   "cell_type": "markdown",
   "metadata": {
    "id": "q5TZ1B9y4Qna"
   },
   "source": [
    "<a id=\"ref1\"></a>\n",
    "\n",
    "<center><h2>Reading CSV Files</h2></center>\n"
   ]
  },
  {
   "cell_type": "markdown",
   "metadata": {
    "id": "i8Ny7ZNc4Qna"
   },
   "source": [
    "#### What are CSV files?\n"
   ]
  },
  {
   "cell_type": "markdown",
   "metadata": {
    "id": "_mVzJcWQ4Qna"
   },
   "source": [
    "Let's read data from a CSV file. CSV (Comma Separated Values) is one of the most common formats of structured data you will find. These files contain data in a table format, where in each row, columns are separated by a delimiter -- traditionally, a comma (hence comma-separated values).   \n",
    "\n",
    "Usually, the first line in a CSV file contains the column names for the table itself. CSV files are popular because you do not need a particular program to open it.\n"
   ]
  },
  {
   "cell_type": "markdown",
   "metadata": {
    "id": "8u6hqi264Qnb"
   },
   "source": [
    "#### Reading CSV files in R\n"
   ]
  },
  {
   "cell_type": "markdown",
   "metadata": {
    "id": "FcTM2SK24Qnb"
   },
   "source": [
    "In the **`movies-db.csv`** file, the first line of text is the header (names of each of the columns), followed by rows of movie information.\n",
    "\n",
    "To read CSV files into R, we use the core function **`read.csv`**.  \n",
    "\n",
    "`read.csv` easy to use. All you need is the filepath to the CSV file. Let's try loading the file using the filepath to the `movies-db.csv` file we downloaded earlier:\n"
   ]
  },
  {
   "cell_type": "code",
   "execution_count": 5,
   "metadata": {
    "colab": {
     "base_uri": "https://localhost:8080/",
     "height": 1000
    },
    "executionInfo": {
     "elapsed": 462,
     "status": "ok",
     "timestamp": 1715049172511,
     "user": {
      "displayName": "Huy Hoàng",
      "userId": "01332833307816836629"
     },
     "user_tz": -420
    },
    "id": "kbOQVQ-H4Qnb",
    "outputId": "108c6d33-66d5-4169-d225-2e1fb0b7505f",
    "vscode": {
     "languageId": "r"
    }
   },
   "outputs": [
    {
     "data": {
      "text/html": [
       "<table>\n",
       "<thead><tr><th scope=col>name</th><th scope=col>year</th><th scope=col>length_min</th><th scope=col>genre</th><th scope=col>average_rating</th><th scope=col>cost_millions</th><th scope=col>foreign</th><th scope=col>age_restriction</th></tr></thead>\n",
       "<tbody>\n",
       "\t<tr><td>Toy Story                                </td><td>1995                                     </td><td> 81                                      </td><td>Animation                                </td><td>8.3                                      </td><td> 30.0                                    </td><td>0                                        </td><td> 0                                       </td></tr>\n",
       "\t<tr><td>Akira                                    </td><td>1998                                     </td><td>125                                      </td><td>Animation                                </td><td>8.1                                      </td><td> 10.4                                    </td><td>1                                        </td><td>14                                       </td></tr>\n",
       "\t<tr><td>The Breakfast Club                       </td><td>1985                                     </td><td> 97                                      </td><td>Drama                                    </td><td>7.9                                      </td><td>  1.0                                    </td><td>0                                        </td><td>14                                       </td></tr>\n",
       "\t<tr><td>The Artist                               </td><td>2011                                     </td><td>100                                      </td><td>Romance                                  </td><td>8.0                                      </td><td> 15.0                                    </td><td>1                                        </td><td>12                                       </td></tr>\n",
       "\t<tr><td>Modern Times                             </td><td>1936                                     </td><td> 87                                      </td><td>Comedy                                   </td><td>8.6                                      </td><td>  1.5                                    </td><td>0                                        </td><td>10                                       </td></tr>\n",
       "\t<tr><td>Fight Club                               </td><td>1999                                     </td><td>139                                      </td><td>Drama                                    </td><td>8.9                                      </td><td> 63.0                                    </td><td>0                                        </td><td>18                                       </td></tr>\n",
       "\t<tr><td>City of God                              </td><td>2002                                     </td><td>130                                      </td><td>Crime                                    </td><td>8.7                                      </td><td>  3.3                                    </td><td>1                                        </td><td>18                                       </td></tr>\n",
       "\t<tr><td>The Untouchables                         </td><td>1987                                     </td><td>119                                      </td><td>Drama                                    </td><td>7.9                                      </td><td> 25.0                                    </td><td>0                                        </td><td>14                                       </td></tr>\n",
       "\t<tr><td>Star Wars Episode IV                     </td><td>1977                                     </td><td>121                                      </td><td>Action                                   </td><td>8.7                                      </td><td> 11.0                                    </td><td>0                                        </td><td>10                                       </td></tr>\n",
       "\t<tr><td>American Beauty                          </td><td>1999                                     </td><td>122                                      </td><td>Drama                                    </td><td>8.4                                      </td><td> 15.0                                    </td><td>0                                        </td><td>14                                       </td></tr>\n",
       "\t<tr><td>Room                                     </td><td>2015                                     </td><td>118                                      </td><td>Drama                                    </td><td>8.3                                      </td><td> 13.0                                    </td><td>1                                        </td><td>14                                       </td></tr>\n",
       "\t<tr><td>Dr. Strangelove                          </td><td>1964                                     </td><td> 94                                      </td><td>Comedy                                   </td><td>8.5                                      </td><td>  1.8                                    </td><td>1                                        </td><td>10                                       </td></tr>\n",
       "\t<tr><td>The Ring                                 </td><td>1998                                     </td><td> 95                                      </td><td>Horror                                   </td><td>7.3                                      </td><td>  1.2                                    </td><td>1                                        </td><td>18                                       </td></tr>\n",
       "\t<tr><td>Monty Python and the Holy Grail          </td><td>1975                                     </td><td> 91                                      </td><td>Comedy                                   </td><td>8.3                                      </td><td>  0.4                                    </td><td>1                                        </td><td>18                                       </td></tr>\n",
       "\t<tr><td>High School Musical                      </td><td>2006                                     </td><td> 98                                      </td><td>Comedy                                   </td><td>5.2                                      </td><td>  4.2                                    </td><td>0                                        </td><td> 0                                       </td></tr>\n",
       "\t<tr><td>Shaun of the Dead                        </td><td>2004                                     </td><td> 99                                      </td><td>Horror                                   </td><td>8.0                                      </td><td>  6.1                                    </td><td>1                                        </td><td>18                                       </td></tr>\n",
       "\t<tr><td>Taxi Driver                              </td><td>1976                                     </td><td>113                                      </td><td>Crime                                    </td><td>8.3                                      </td><td>  1.3                                    </td><td>1                                        </td><td>14                                       </td></tr>\n",
       "\t<tr><td>The Shawshank Redemption                 </td><td>1994                                     </td><td>142                                      </td><td>Crime                                    </td><td>9.3                                      </td><td> 25.0                                    </td><td>0                                        </td><td>16                                       </td></tr>\n",
       "\t<tr><td>Interstellar                             </td><td>2014                                     </td><td>169                                      </td><td>Adventure                                </td><td>8.6                                      </td><td>165.0                                    </td><td>0                                        </td><td>10                                       </td></tr>\n",
       "\t<tr><td>Casino                                   </td><td>1995                                     </td><td>178                                      </td><td>Biography                                </td><td>8.2                                      </td><td> 50.0                                    </td><td>0                                        </td><td>18                                       </td></tr>\n",
       "\t<tr><td>The Goodfellas                           </td><td>1990                                     </td><td>145                                      </td><td>Biography                                </td><td>8.7                                      </td><td> 25.0                                    </td><td>0                                        </td><td>14                                       </td></tr>\n",
       "\t<tr><td>Blue is the Warmest Colour               </td><td>2013                                     </td><td>179                                      </td><td>Romance                                  </td><td>7.8                                      </td><td>  4.5                                    </td><td>1                                        </td><td>18                                       </td></tr>\n",
       "\t<tr><td>Black Swan                               </td><td>2010                                     </td><td>108                                      </td><td>Thriller                                 </td><td>8.0                                      </td><td> 13.0                                    </td><td>0                                        </td><td>16                                       </td></tr>\n",
       "\t<tr><td>Back to the Future                       </td><td>1985                                     </td><td>116                                      </td><td>Sci-fi                                   </td><td>8.5                                      </td><td> 19.0                                    </td><td>0                                        </td><td> 0                                       </td></tr>\n",
       "\t<tr><td>The Wave                                 </td><td>2008                                     </td><td>107                                      </td><td>Thriller                                 </td><td>7.6                                      </td><td>  5.5                                    </td><td>1                                        </td><td>16                                       </td></tr>\n",
       "\t<tr><td>Whiplash                                 </td><td>2014                                     </td><td>106                                      </td><td>Drama                                    </td><td>8.5                                      </td><td>  3.3                                    </td><td>1                                        </td><td>12                                       </td></tr>\n",
       "\t<tr><td>The Grand Hotel Budapest                 </td><td>2014                                     </td><td>100                                      </td><td>Crime                                    </td><td>8.1                                      </td><td> 25.5                                    </td><td>0                                        </td><td>14                                       </td></tr>\n",
       "\t<tr><td>Jumanji                                  </td><td>1995                                     </td><td>104                                      </td><td>Fantasy                                  </td><td>6.9                                      </td><td> 65.0                                    </td><td>0                                        </td><td>12                                       </td></tr>\n",
       "\t<tr><td>The Eternal Sunshine of the Spotless Mind</td><td>2004                                     </td><td>108                                      </td><td>Drama                                    </td><td>8.3                                      </td><td> 20.0                                    </td><td>0                                        </td><td>14                                       </td></tr>\n",
       "\t<tr><td>Chicago                                  </td><td>2002                                     </td><td>113                                      </td><td>Comedy                                   </td><td>7.2                                      </td><td> 45.0                                    </td><td>0                                        </td><td>12                                       </td></tr>\n",
       "</tbody>\n",
       "</table>\n"
      ],
      "text/latex": [
       "\\begin{tabular}{r|llllllll}\n",
       " name & year & length\\_min & genre & average\\_rating & cost\\_millions & foreign & age\\_restriction\\\\\n",
       "\\hline\n",
       "\t Toy Story                                 & 1995                                      &  81                                       & Animation                                 & 8.3                                       &  30.0                                     & 0                                         &  0                                       \\\\\n",
       "\t Akira                                     & 1998                                      & 125                                       & Animation                                 & 8.1                                       &  10.4                                     & 1                                         & 14                                       \\\\\n",
       "\t The Breakfast Club                        & 1985                                      &  97                                       & Drama                                     & 7.9                                       &   1.0                                     & 0                                         & 14                                       \\\\\n",
       "\t The Artist                                & 2011                                      & 100                                       & Romance                                   & 8.0                                       &  15.0                                     & 1                                         & 12                                       \\\\\n",
       "\t Modern Times                              & 1936                                      &  87                                       & Comedy                                    & 8.6                                       &   1.5                                     & 0                                         & 10                                       \\\\\n",
       "\t Fight Club                                & 1999                                      & 139                                       & Drama                                     & 8.9                                       &  63.0                                     & 0                                         & 18                                       \\\\\n",
       "\t City of God                               & 2002                                      & 130                                       & Crime                                     & 8.7                                       &   3.3                                     & 1                                         & 18                                       \\\\\n",
       "\t The Untouchables                          & 1987                                      & 119                                       & Drama                                     & 7.9                                       &  25.0                                     & 0                                         & 14                                       \\\\\n",
       "\t Star Wars Episode IV                      & 1977                                      & 121                                       & Action                                    & 8.7                                       &  11.0                                     & 0                                         & 10                                       \\\\\n",
       "\t American Beauty                           & 1999                                      & 122                                       & Drama                                     & 8.4                                       &  15.0                                     & 0                                         & 14                                       \\\\\n",
       "\t Room                                      & 2015                                      & 118                                       & Drama                                     & 8.3                                       &  13.0                                     & 1                                         & 14                                       \\\\\n",
       "\t Dr. Strangelove                           & 1964                                      &  94                                       & Comedy                                    & 8.5                                       &   1.8                                     & 1                                         & 10                                       \\\\\n",
       "\t The Ring                                  & 1998                                      &  95                                       & Horror                                    & 7.3                                       &   1.2                                     & 1                                         & 18                                       \\\\\n",
       "\t Monty Python and the Holy Grail           & 1975                                      &  91                                       & Comedy                                    & 8.3                                       &   0.4                                     & 1                                         & 18                                       \\\\\n",
       "\t High School Musical                       & 2006                                      &  98                                       & Comedy                                    & 5.2                                       &   4.2                                     & 0                                         &  0                                       \\\\\n",
       "\t Shaun of the Dead                         & 2004                                      &  99                                       & Horror                                    & 8.0                                       &   6.1                                     & 1                                         & 18                                       \\\\\n",
       "\t Taxi Driver                               & 1976                                      & 113                                       & Crime                                     & 8.3                                       &   1.3                                     & 1                                         & 14                                       \\\\\n",
       "\t The Shawshank Redemption                  & 1994                                      & 142                                       & Crime                                     & 9.3                                       &  25.0                                     & 0                                         & 16                                       \\\\\n",
       "\t Interstellar                              & 2014                                      & 169                                       & Adventure                                 & 8.6                                       & 165.0                                     & 0                                         & 10                                       \\\\\n",
       "\t Casino                                    & 1995                                      & 178                                       & Biography                                 & 8.2                                       &  50.0                                     & 0                                         & 18                                       \\\\\n",
       "\t The Goodfellas                            & 1990                                      & 145                                       & Biography                                 & 8.7                                       &  25.0                                     & 0                                         & 14                                       \\\\\n",
       "\t Blue is the Warmest Colour                & 2013                                      & 179                                       & Romance                                   & 7.8                                       &   4.5                                     & 1                                         & 18                                       \\\\\n",
       "\t Black Swan                                & 2010                                      & 108                                       & Thriller                                  & 8.0                                       &  13.0                                     & 0                                         & 16                                       \\\\\n",
       "\t Back to the Future                        & 1985                                      & 116                                       & Sci-fi                                    & 8.5                                       &  19.0                                     & 0                                         &  0                                       \\\\\n",
       "\t The Wave                                  & 2008                                      & 107                                       & Thriller                                  & 7.6                                       &   5.5                                     & 1                                         & 16                                       \\\\\n",
       "\t Whiplash                                  & 2014                                      & 106                                       & Drama                                     & 8.5                                       &   3.3                                     & 1                                         & 12                                       \\\\\n",
       "\t The Grand Hotel Budapest                  & 2014                                      & 100                                       & Crime                                     & 8.1                                       &  25.5                                     & 0                                         & 14                                       \\\\\n",
       "\t Jumanji                                   & 1995                                      & 104                                       & Fantasy                                   & 6.9                                       &  65.0                                     & 0                                         & 12                                       \\\\\n",
       "\t The Eternal Sunshine of the Spotless Mind & 2004                                      & 108                                       & Drama                                     & 8.3                                       &  20.0                                     & 0                                         & 14                                       \\\\\n",
       "\t Chicago                                   & 2002                                      & 113                                       & Comedy                                    & 7.2                                       &  45.0                                     & 0                                         & 12                                       \\\\\n",
       "\\end{tabular}\n"
      ],
      "text/markdown": [
       "\n",
       "| name | year | length_min | genre | average_rating | cost_millions | foreign | age_restriction |\n",
       "|---|---|---|---|---|---|---|---|\n",
       "| Toy Story                                 | 1995                                      |  81                                       | Animation                                 | 8.3                                       |  30.0                                     | 0                                         |  0                                        |\n",
       "| Akira                                     | 1998                                      | 125                                       | Animation                                 | 8.1                                       |  10.4                                     | 1                                         | 14                                        |\n",
       "| The Breakfast Club                        | 1985                                      |  97                                       | Drama                                     | 7.9                                       |   1.0                                     | 0                                         | 14                                        |\n",
       "| The Artist                                | 2011                                      | 100                                       | Romance                                   | 8.0                                       |  15.0                                     | 1                                         | 12                                        |\n",
       "| Modern Times                              | 1936                                      |  87                                       | Comedy                                    | 8.6                                       |   1.5                                     | 0                                         | 10                                        |\n",
       "| Fight Club                                | 1999                                      | 139                                       | Drama                                     | 8.9                                       |  63.0                                     | 0                                         | 18                                        |\n",
       "| City of God                               | 2002                                      | 130                                       | Crime                                     | 8.7                                       |   3.3                                     | 1                                         | 18                                        |\n",
       "| The Untouchables                          | 1987                                      | 119                                       | Drama                                     | 7.9                                       |  25.0                                     | 0                                         | 14                                        |\n",
       "| Star Wars Episode IV                      | 1977                                      | 121                                       | Action                                    | 8.7                                       |  11.0                                     | 0                                         | 10                                        |\n",
       "| American Beauty                           | 1999                                      | 122                                       | Drama                                     | 8.4                                       |  15.0                                     | 0                                         | 14                                        |\n",
       "| Room                                      | 2015                                      | 118                                       | Drama                                     | 8.3                                       |  13.0                                     | 1                                         | 14                                        |\n",
       "| Dr. Strangelove                           | 1964                                      |  94                                       | Comedy                                    | 8.5                                       |   1.8                                     | 1                                         | 10                                        |\n",
       "| The Ring                                  | 1998                                      |  95                                       | Horror                                    | 7.3                                       |   1.2                                     | 1                                         | 18                                        |\n",
       "| Monty Python and the Holy Grail           | 1975                                      |  91                                       | Comedy                                    | 8.3                                       |   0.4                                     | 1                                         | 18                                        |\n",
       "| High School Musical                       | 2006                                      |  98                                       | Comedy                                    | 5.2                                       |   4.2                                     | 0                                         |  0                                        |\n",
       "| Shaun of the Dead                         | 2004                                      |  99                                       | Horror                                    | 8.0                                       |   6.1                                     | 1                                         | 18                                        |\n",
       "| Taxi Driver                               | 1976                                      | 113                                       | Crime                                     | 8.3                                       |   1.3                                     | 1                                         | 14                                        |\n",
       "| The Shawshank Redemption                  | 1994                                      | 142                                       | Crime                                     | 9.3                                       |  25.0                                     | 0                                         | 16                                        |\n",
       "| Interstellar                              | 2014                                      | 169                                       | Adventure                                 | 8.6                                       | 165.0                                     | 0                                         | 10                                        |\n",
       "| Casino                                    | 1995                                      | 178                                       | Biography                                 | 8.2                                       |  50.0                                     | 0                                         | 18                                        |\n",
       "| The Goodfellas                            | 1990                                      | 145                                       | Biography                                 | 8.7                                       |  25.0                                     | 0                                         | 14                                        |\n",
       "| Blue is the Warmest Colour                | 2013                                      | 179                                       | Romance                                   | 7.8                                       |   4.5                                     | 1                                         | 18                                        |\n",
       "| Black Swan                                | 2010                                      | 108                                       | Thriller                                  | 8.0                                       |  13.0                                     | 0                                         | 16                                        |\n",
       "| Back to the Future                        | 1985                                      | 116                                       | Sci-fi                                    | 8.5                                       |  19.0                                     | 0                                         |  0                                        |\n",
       "| The Wave                                  | 2008                                      | 107                                       | Thriller                                  | 7.6                                       |   5.5                                     | 1                                         | 16                                        |\n",
       "| Whiplash                                  | 2014                                      | 106                                       | Drama                                     | 8.5                                       |   3.3                                     | 1                                         | 12                                        |\n",
       "| The Grand Hotel Budapest                  | 2014                                      | 100                                       | Crime                                     | 8.1                                       |  25.5                                     | 0                                         | 14                                        |\n",
       "| Jumanji                                   | 1995                                      | 104                                       | Fantasy                                   | 6.9                                       |  65.0                                     | 0                                         | 12                                        |\n",
       "| The Eternal Sunshine of the Spotless Mind | 2004                                      | 108                                       | Drama                                     | 8.3                                       |  20.0                                     | 0                                         | 14                                        |\n",
       "| Chicago                                   | 2002                                      | 113                                       | Comedy                                    | 7.2                                       |  45.0                                     | 0                                         | 12                                        |\n",
       "\n"
      ],
      "text/plain": [
       "   name                                      year length_min genre    \n",
       "1  Toy Story                                 1995  81        Animation\n",
       "2  Akira                                     1998 125        Animation\n",
       "3  The Breakfast Club                        1985  97        Drama    \n",
       "4  The Artist                                2011 100        Romance  \n",
       "5  Modern Times                              1936  87        Comedy   \n",
       "6  Fight Club                                1999 139        Drama    \n",
       "7  City of God                               2002 130        Crime    \n",
       "8  The Untouchables                          1987 119        Drama    \n",
       "9  Star Wars Episode IV                      1977 121        Action   \n",
       "10 American Beauty                           1999 122        Drama    \n",
       "11 Room                                      2015 118        Drama    \n",
       "12 Dr. Strangelove                           1964  94        Comedy   \n",
       "13 The Ring                                  1998  95        Horror   \n",
       "14 Monty Python and the Holy Grail           1975  91        Comedy   \n",
       "15 High School Musical                       2006  98        Comedy   \n",
       "16 Shaun of the Dead                         2004  99        Horror   \n",
       "17 Taxi Driver                               1976 113        Crime    \n",
       "18 The Shawshank Redemption                  1994 142        Crime    \n",
       "19 Interstellar                              2014 169        Adventure\n",
       "20 Casino                                    1995 178        Biography\n",
       "21 The Goodfellas                            1990 145        Biography\n",
       "22 Blue is the Warmest Colour                2013 179        Romance  \n",
       "23 Black Swan                                2010 108        Thriller \n",
       "24 Back to the Future                        1985 116        Sci-fi   \n",
       "25 The Wave                                  2008 107        Thriller \n",
       "26 Whiplash                                  2014 106        Drama    \n",
       "27 The Grand Hotel Budapest                  2014 100        Crime    \n",
       "28 Jumanji                                   1995 104        Fantasy  \n",
       "29 The Eternal Sunshine of the Spotless Mind 2004 108        Drama    \n",
       "30 Chicago                                   2002 113        Comedy   \n",
       "   average_rating cost_millions foreign age_restriction\n",
       "1  8.3             30.0         0        0             \n",
       "2  8.1             10.4         1       14             \n",
       "3  7.9              1.0         0       14             \n",
       "4  8.0             15.0         1       12             \n",
       "5  8.6              1.5         0       10             \n",
       "6  8.9             63.0         0       18             \n",
       "7  8.7              3.3         1       18             \n",
       "8  7.9             25.0         0       14             \n",
       "9  8.7             11.0         0       10             \n",
       "10 8.4             15.0         0       14             \n",
       "11 8.3             13.0         1       14             \n",
       "12 8.5              1.8         1       10             \n",
       "13 7.3              1.2         1       18             \n",
       "14 8.3              0.4         1       18             \n",
       "15 5.2              4.2         0        0             \n",
       "16 8.0              6.1         1       18             \n",
       "17 8.3              1.3         1       14             \n",
       "18 9.3             25.0         0       16             \n",
       "19 8.6            165.0         0       10             \n",
       "20 8.2             50.0         0       18             \n",
       "21 8.7             25.0         0       14             \n",
       "22 7.8              4.5         1       18             \n",
       "23 8.0             13.0         0       16             \n",
       "24 8.5             19.0         0        0             \n",
       "25 7.6              5.5         1       16             \n",
       "26 8.5              3.3         1       12             \n",
       "27 8.1             25.5         0       14             \n",
       "28 6.9             65.0         0       12             \n",
       "29 8.3             20.0         0       14             \n",
       "30 7.2             45.0         0       12             "
      ]
     },
     "metadata": {},
     "output_type": "display_data"
    }
   ],
   "source": [
    "# Load the CSV table into the my_data variable.\n",
    "my_data <- read.csv(\"movies-db.csv\")\n",
    "my_data"
   ]
  },
  {
   "cell_type": "markdown",
   "metadata": {
    "id": "3f_ez3Q64Qnb"
   },
   "source": [
    "The data was loaded into the `my_data` variable. But instead of viewing all the data at once, we can use the `head` function to take a look at only the top six rows of our table, like so:\n",
    "\n",
    "### 1- Print out the first six rows of my_data\n"
   ]
  },
  {
   "cell_type": "code",
   "execution_count": 6,
   "metadata": {
    "colab": {
     "base_uri": "https://localhost:8080/",
     "height": 286
    },
    "executionInfo": {
     "elapsed": 10,
     "status": "ok",
     "timestamp": 1715049267886,
     "user": {
      "displayName": "Huy Hoàng",
      "userId": "01332833307816836629"
     },
     "user_tz": -420
    },
    "id": "SSjQMP4u4Qnb",
    "outputId": "5f24aedd-162d-4370-eced-ea4ccb1d2c3f",
    "vscode": {
     "languageId": "r"
    }
   },
   "outputs": [
    {
     "data": {
      "text/html": [
       "<table>\n",
       "<thead><tr><th scope=col>name</th><th scope=col>year</th><th scope=col>length_min</th><th scope=col>genre</th><th scope=col>average_rating</th><th scope=col>cost_millions</th><th scope=col>foreign</th><th scope=col>age_restriction</th></tr></thead>\n",
       "<tbody>\n",
       "\t<tr><td>Toy Story         </td><td>1995              </td><td> 81               </td><td>Animation         </td><td>8.3               </td><td>30.0              </td><td>0                 </td><td> 0                </td></tr>\n",
       "\t<tr><td>Akira             </td><td>1998              </td><td>125               </td><td>Animation         </td><td>8.1               </td><td>10.4              </td><td>1                 </td><td>14                </td></tr>\n",
       "\t<tr><td>The Breakfast Club</td><td>1985              </td><td> 97               </td><td>Drama             </td><td>7.9               </td><td> 1.0              </td><td>0                 </td><td>14                </td></tr>\n",
       "\t<tr><td>The Artist        </td><td>2011              </td><td>100               </td><td>Romance           </td><td>8.0               </td><td>15.0              </td><td>1                 </td><td>12                </td></tr>\n",
       "\t<tr><td>Modern Times      </td><td>1936              </td><td> 87               </td><td>Comedy            </td><td>8.6               </td><td> 1.5              </td><td>0                 </td><td>10                </td></tr>\n",
       "\t<tr><td>Fight Club        </td><td>1999              </td><td>139               </td><td>Drama             </td><td>8.9               </td><td>63.0              </td><td>0                 </td><td>18                </td></tr>\n",
       "</tbody>\n",
       "</table>\n"
      ],
      "text/latex": [
       "\\begin{tabular}{r|llllllll}\n",
       " name & year & length\\_min & genre & average\\_rating & cost\\_millions & foreign & age\\_restriction\\\\\n",
       "\\hline\n",
       "\t Toy Story          & 1995               &  81                & Animation          & 8.3                & 30.0               & 0                  &  0                \\\\\n",
       "\t Akira              & 1998               & 125                & Animation          & 8.1                & 10.4               & 1                  & 14                \\\\\n",
       "\t The Breakfast Club & 1985               &  97                & Drama              & 7.9                &  1.0               & 0                  & 14                \\\\\n",
       "\t The Artist         & 2011               & 100                & Romance            & 8.0                & 15.0               & 1                  & 12                \\\\\n",
       "\t Modern Times       & 1936               &  87                & Comedy             & 8.6                &  1.5               & 0                  & 10                \\\\\n",
       "\t Fight Club         & 1999               & 139                & Drama              & 8.9                & 63.0               & 0                  & 18                \\\\\n",
       "\\end{tabular}\n"
      ],
      "text/markdown": [
       "\n",
       "| name | year | length_min | genre | average_rating | cost_millions | foreign | age_restriction |\n",
       "|---|---|---|---|---|---|---|---|\n",
       "| Toy Story          | 1995               |  81                | Animation          | 8.3                | 30.0               | 0                  |  0                 |\n",
       "| Akira              | 1998               | 125                | Animation          | 8.1                | 10.4               | 1                  | 14                 |\n",
       "| The Breakfast Club | 1985               |  97                | Drama              | 7.9                |  1.0               | 0                  | 14                 |\n",
       "| The Artist         | 2011               | 100                | Romance            | 8.0                | 15.0               | 1                  | 12                 |\n",
       "| Modern Times       | 1936               |  87                | Comedy             | 8.6                |  1.5               | 0                  | 10                 |\n",
       "| Fight Club         | 1999               | 139                | Drama              | 8.9                | 63.0               | 0                  | 18                 |\n",
       "\n"
      ],
      "text/plain": [
       "  name               year length_min genre     average_rating cost_millions\n",
       "1 Toy Story          1995  81        Animation 8.3            30.0         \n",
       "2 Akira              1998 125        Animation 8.1            10.4         \n",
       "3 The Breakfast Club 1985  97        Drama     7.9             1.0         \n",
       "4 The Artist         2011 100        Romance   8.0            15.0         \n",
       "5 Modern Times       1936  87        Comedy    8.6             1.5         \n",
       "6 Fight Club         1999 139        Drama     8.9            63.0         \n",
       "  foreign age_restriction\n",
       "1 0        0             \n",
       "2 1       14             \n",
       "3 0       14             \n",
       "4 1       12             \n",
       "5 0       10             \n",
       "6 0       18             "
      ]
     },
     "metadata": {},
     "output_type": "display_data"
    }
   ],
   "source": [
    "# Write your code below. Don't forget to press Shift+Enter to execute the cell\n",
    "\n",
    "head(my_data)"
   ]
  },
  {
   "cell_type": "markdown",
   "metadata": {
    "id": "IYnAIX-r4Qnc"
   },
   "source": [
    "Additionally, you may want to take a look at the **structure** of your newly created table. R provides us with a function that summarizes an entire table's properties, called `str`. Let's try it out.\n",
    "\n",
    "### 2- Prints out the structure of your table.\n"
   ]
  },
  {
   "cell_type": "code",
   "execution_count": 7,
   "metadata": {
    "colab": {
     "base_uri": "https://localhost:8080/"
    },
    "executionInfo": {
     "elapsed": 391,
     "status": "ok",
     "timestamp": 1715050491992,
     "user": {
      "displayName": "Huy Hoàng",
      "userId": "01332833307816836629"
     },
     "user_tz": -420
    },
    "id": "f9X7Uzvr4Qnc",
    "outputId": "45617e38-2c5a-4666-94c3-149c345994b2",
    "vscode": {
     "languageId": "r"
    }
   },
   "outputs": [
    {
     "name": "stdout",
     "output_type": "stream",
     "text": [
      "function (..., list = character(), package = NULL, lib.loc = NULL, verbose = getOption(\"verbose\"), \n",
      "    envir = .GlobalEnv, overwrite = TRUE)  \n"
     ]
    }
   ],
   "source": [
    "# Write your code below. Don't forget to press Shift+Enter to execute ts\n",
    "str(data)"
   ]
  },
  {
   "cell_type": "markdown",
   "metadata": {
    "id": "T85-tfTC4Qnc"
   },
   "source": [
    "When we loaded the file with the `read.csv` function, we had to only pass it one parameter -- the **path** to our desired file.\n"
   ]
  },
  {
   "cell_type": "markdown",
   "metadata": {
    "id": "SppF3z4g4Qnc"
   },
   "source": [
    "\n",
    "\n",
    "### 3 - Get the summary of my_data data frame\n"
   ]
  },
  {
   "cell_type": "code",
   "execution_count": 8,
   "metadata": {
    "colab": {
     "base_uri": "https://localhost:8080/",
     "height": 260
    },
    "executionInfo": {
     "elapsed": 1157,
     "status": "ok",
     "timestamp": 1715049355243,
     "user": {
      "displayName": "Huy Hoàng",
      "userId": "01332833307816836629"
     },
     "user_tz": -420
    },
    "id": "D5dyVSdJ4Qnc",
    "outputId": "be56e5aa-c358-46a8-d31b-9130b107252f",
    "vscode": {
     "languageId": "r"
    }
   },
   "outputs": [
    {
     "data": {
      "text/plain": [
       "                         name         year        length_min           genre  \n",
       " Akira                     : 1   Min.   :1936   Min.   : 81.00   Drama    :7  \n",
       " American Beauty           : 1   1st Qu.:1988   1st Qu.: 99.25   Comedy   :5  \n",
       " Back to the Future        : 1   Median :1998   Median :110.50   Crime    :4  \n",
       " Black Swan                : 1   Mean   :1996   Mean   :116.80   Animation:2  \n",
       " Blue is the Warmest Colour: 1   3rd Qu.:2008   3rd Qu.:124.25   Biography:2  \n",
       " Casino                    : 1   Max.   :2015   Max.   :179.00   Horror   :2  \n",
       " (Other)                   :24                                   (Other)  :8  \n",
       " average_rating  cost_millions        foreign    age_restriction\n",
       " Min.   :5.200   Min.   :  0.400   Min.   :0.0   Min.   : 0.00  \n",
       " 1st Qu.:7.925   1st Qu.:  3.525   1st Qu.:0.0   1st Qu.:12.00  \n",
       " Median :8.300   Median : 13.000   Median :0.0   Median :14.00  \n",
       " Mean   :8.103   Mean   : 22.300   Mean   :0.4   Mean   :12.93  \n",
       " 3rd Qu.:8.500   3rd Qu.: 25.000   3rd Qu.:1.0   3rd Qu.:16.00  \n",
       " Max.   :9.300   Max.   :165.000   Max.   :1.0   Max.   :18.00  \n",
       "                                                                "
      ]
     },
     "metadata": {},
     "output_type": "display_data"
    }
   ],
   "source": [
    "# Write your code below. Don't forget to press Shift+Enter to execute the cell\n",
    "\n",
    "summary(my_data)"
   ]
  },
  {
   "cell_type": "markdown",
   "metadata": {
    "id": "qMfnFox_4Qnc"
   },
   "source": [
    "<details><summary>Click here for the solution</summary>\n",
    "\n",
    "```R\n",
    "summary(my_data)\n",
    "\n",
    "```\n",
    "\n",
    "</details>\n",
    "\n",
    "<hr>\n"
   ]
  },
  {
   "cell_type": "markdown",
   "metadata": {
    "id": "wt_H8arG4Qnd"
   },
   "source": [
    "<a id=\"ref2\"></a>\n",
    "\n",
    "<center><h2>Reading Excel Files</h2></center>\n"
   ]
  },
  {
   "cell_type": "markdown",
   "metadata": {
    "id": "Xpebi2Ri4Qnd"
   },
   "source": [
    "Reading XLS (Excel Spreadsheet) files is similar to reading CSV files, but there's one catch -- R does not have a native function to read them. However, thankfully, R has an extremely large repository of user-created functions, called _CRAN_. From there, we can download a library package to make us able to read XLS files.\n",
    "\n",
    "To download a package, we use the `install.packages` function (may take minutes because it is a big library). Once installed, you do not need to install that same library ever again, unless, of course, you uninstall it.\n"
   ]
  },
  {
   "cell_type": "markdown",
   "metadata": {
    "id": "xFfyqTRM4Qnd"
   },
   "source": [
    "Whenever you are going to use a library that is not native to R, you have to load it into the R environment after you install it. In other words, you need to install once only, but to use it, you must load it into R for every new session. To do so, use the `library` function, which loads up everything we can use in that library into R.\n"
   ]
  },
  {
   "cell_type": "code",
   "execution_count": 2,
   "metadata": {
    "executionInfo": {
     "elapsed": 420,
     "status": "ok",
     "timestamp": 1715050513572,
     "user": {
      "displayName": "Huy Hoàng",
      "userId": "01332833307816836629"
     },
     "user_tz": -420
    },
    "id": "SOCFPIDr4Qnd",
    "vscode": {
     "languageId": "r"
    }
   },
   "outputs": [],
   "source": [
    "# Load the \"readxl\" library into the R environment.\n",
    "library(readxl)"
   ]
  },
  {
   "cell_type": "markdown",
   "metadata": {
    "id": "_JkyiyUZ4Qnd"
   },
   "source": [
    "Now that we have our library and its functions ready, we can move on to actually reading the file. In `readxl`, there is a function called `read_excel`, which does all the work for us. You can use it like this:\n",
    "\n",
    "### 4- Read data from the XLS file and attribute the table to the my_excel_data variable.\n"
   ]
  },
  {
   "cell_type": "code",
   "execution_count": 14,
   "metadata": {
    "id": "zrcZBRKS4Qnd",
    "vscode": {
     "languageId": "r"
    }
   },
   "outputs": [
    {
     "ename": "ERROR",
     "evalue": "Error in read_excel(\"movies-db.xlsx\", encoding = \"utf8\"): unused argument (encoding = \"utf8\")\n",
     "output_type": "error",
     "traceback": [
      "Error in read_excel(\"movies-db.xlsx\", encoding = \"utf8\"): unused argument (encoding = \"utf8\")\nTraceback:\n"
     ]
    }
   ],
   "source": [
    "# Write your code below. Don't forget to press Shift+Enter to execute the cell\n",
    " my_excel_data <- read_excel(\"movies-db.xlsx\")"
   ]
  },
  {
   "cell_type": "code",
   "execution_count": null,
   "metadata": {},
   "outputs": [],
   "source": []
  },
  {
   "cell_type": "code",
   "execution_count": 4,
   "metadata": {
    "id": "7brMES-Z-o5M"
   },
   "outputs": [
    {
     "ename": "ERROR",
     "evalue": "Error in eval(expr, envir, enclos): object 'my_excel_data' not found\n",
     "output_type": "error",
     "traceback": [
      "Error in eval(expr, envir, enclos): object 'my_excel_data' not found\nTraceback:\n"
     ]
    }
   ],
   "source": [
    "my_excel_data"
   ]
  },
  {
   "cell_type": "markdown",
   "metadata": {
    "id": "YFd-ie-X4Qnd"
   },
   "source": [
    "Since `my_excel_data` is now a dataframe in R, much like the one we created out of the CSV file, all of the native R functions can be applied to it, like `head` ad `str`.\n",
    "\n",
    "### 5- Prints out the structure of your table.\n",
    " Tells you how many rows and columns there are, and the names and type of each column.\n",
    " This should be the very same as the other table we created, as they are the same dataset."
   ]
  },
  {
   "cell_type": "code",
   "execution_count": null,
   "metadata": {
    "id": "JAQjcpmC4Qnd",
    "outputId": "611f4d2f-0c96-4bcf-f818-aa2cb5cf5261",
    "vscode": {
     "languageId": "r"
    }
   },
   "outputs": [
    {
     "name": "stdout",
     "output_type": "stream",
     "text": [
      "Classes 'tbl_df', 'tbl' and 'data.frame':\t30 obs. of  8 variables:\n",
      " $ name           : chr  \"Toy Story\" \"Akira\" \"The Breakfast Club\" \"The Artist\" ...\n",
      " $ year           : num  1995 1998 1985 2011 1936 ...\n",
      " $ length_min     : num  81 125 97 100 87 139 130 119 121 122 ...\n",
      " $ genre          : chr  \"Animation\" \"Animation\" \"Drama\" \"Romance\" ...\n",
      " $ average_rating : num  8.3 8.1 7.9 8 8.6 8.9 8.7 7.9 8.7 8.4 ...\n",
      " $ cost_millions  : num  30 10.4 1 15 1.5 63 3.3 25 11 15 ...\n",
      " $ foreign        : num  0 1 0 1 0 0 1 0 0 0 ...\n",
      " $ age_restriction: num  0 14 14 12 10 18 18 14 10 14 ...\n"
     ]
    }
   ],
   "source": [
    "# Write your code below. Don't forget to press Shift+Enter to execute the cell\n",
    "\n",
    "str(my_excel_data)"
   ]
  },
  {
   "cell_type": "markdown",
   "metadata": {
    "id": "XuoMzLcP4Qnd"
   },
   "source": [
    "Much like the `read.csv` function, `read_excel` takes as its main parameter the **path** to the desired file.\n"
   ]
  },
  {
   "cell_type": "markdown",
   "metadata": {
    "id": "knIW2Hlv4Qnd"
   },
   "source": [
    "<div class=\"alert alert-success alertsuccess\">\n",
    "<b>[Tip]</b>   \n",
    "A library is basically a collection of different classes and functions which are used to perform some specific operations. You can install and use libraries to add more functions that are not included on the core R files.\n",
    "For example, the readxl library adds functions to read data from excel files.\n",
    "<br><br>\n",
    "It's important to know that there are many other libraries too which can be used for a variety of things. There are also plenty of other libraries to read Excel files -- readxl is just one of them.\n",
    "</div>\n"
   ]
  },
  {
   "cell_type": "markdown",
   "metadata": {
    "id": "vdDN7sn14Qnd"
   },
   "source": [
    "* * *\n"
   ]
  },
  {
   "cell_type": "markdown",
   "metadata": {
    "id": "eZQLmV7a4Qnd"
   },
   "source": [
    "<center><h2>Accessing Rows and Columns</h2></center>\n"
   ]
  },
  {
   "cell_type": "markdown",
   "metadata": {
    "id": "Xpn2ialb4Qnd"
   },
   "source": [
    "Whenever we use functions to read tabular data in R, the default method of structuring this data in the R environment is using Data Frames -- R's primary data structure. Data Frames are extremely versatile, and R presents us many options to manipulate them.\n",
    "\n",
    "Suppose we want to access the \"name\" column of our dataset. We can directly reference the column name on our data frame to retrieve this data.\n",
    "\n",
    "### 6- Retrieve a subset of the data frame consisting of the \"name\" columns\n"
   ]
  },
  {
   "cell_type": "code",
   "execution_count": 10,
   "metadata": {
    "colab": {
     "base_uri": "https://localhost:8080/",
     "height": 1000
    },
    "executionInfo": {
     "elapsed": 988,
     "status": "ok",
     "timestamp": 1715050648346,
     "user": {
      "displayName": "Huy Hoàng",
      "userId": "01332833307816836629"
     },
     "user_tz": -420
    },
    "id": "sE5mJcdr4Qnd",
    "outputId": "b9abfc7c-776b-4714-b355-5eed7f4922fd",
    "vscode": {
     "languageId": "r"
    }
   },
   "outputs": [
    {
     "data": {
      "text/html": [
       "<table>\n",
       "<thead><tr><th scope=col>name</th></tr></thead>\n",
       "<tbody>\n",
       "\t<tr><td>Toy Story                                </td></tr>\n",
       "\t<tr><td>Akira                                    </td></tr>\n",
       "\t<tr><td>The Breakfast Club                       </td></tr>\n",
       "\t<tr><td>The Artist                               </td></tr>\n",
       "\t<tr><td>Modern Times                             </td></tr>\n",
       "\t<tr><td>Fight Club                               </td></tr>\n",
       "\t<tr><td>City of God                              </td></tr>\n",
       "\t<tr><td>The Untouchables                         </td></tr>\n",
       "\t<tr><td>Star Wars Episode IV                     </td></tr>\n",
       "\t<tr><td>American Beauty                          </td></tr>\n",
       "\t<tr><td>Room                                     </td></tr>\n",
       "\t<tr><td>Dr. Strangelove                          </td></tr>\n",
       "\t<tr><td>The Ring                                 </td></tr>\n",
       "\t<tr><td>Monty Python and the Holy Grail          </td></tr>\n",
       "\t<tr><td>High School Musical                      </td></tr>\n",
       "\t<tr><td>Shaun of the Dead                        </td></tr>\n",
       "\t<tr><td>Taxi Driver                              </td></tr>\n",
       "\t<tr><td>The Shawshank Redemption                 </td></tr>\n",
       "\t<tr><td>Interstellar                             </td></tr>\n",
       "\t<tr><td>Casino                                   </td></tr>\n",
       "\t<tr><td>The Goodfellas                           </td></tr>\n",
       "\t<tr><td>Blue is the Warmest Colour               </td></tr>\n",
       "\t<tr><td>Black Swan                               </td></tr>\n",
       "\t<tr><td>Back to the Future                       </td></tr>\n",
       "\t<tr><td>The Wave                                 </td></tr>\n",
       "\t<tr><td>Whiplash                                 </td></tr>\n",
       "\t<tr><td>The Grand Hotel Budapest                 </td></tr>\n",
       "\t<tr><td>Jumanji                                  </td></tr>\n",
       "\t<tr><td>The Eternal Sunshine of the Spotless Mind</td></tr>\n",
       "\t<tr><td>Chicago                                  </td></tr>\n",
       "</tbody>\n",
       "</table>\n"
      ],
      "text/latex": [
       "\\begin{tabular}{r|l}\n",
       " name\\\\\n",
       "\\hline\n",
       "\t Toy Story                                \\\\\n",
       "\t Akira                                    \\\\\n",
       "\t The Breakfast Club                       \\\\\n",
       "\t The Artist                               \\\\\n",
       "\t Modern Times                             \\\\\n",
       "\t Fight Club                               \\\\\n",
       "\t City of God                              \\\\\n",
       "\t The Untouchables                         \\\\\n",
       "\t Star Wars Episode IV                     \\\\\n",
       "\t American Beauty                          \\\\\n",
       "\t Room                                     \\\\\n",
       "\t Dr. Strangelove                          \\\\\n",
       "\t The Ring                                 \\\\\n",
       "\t Monty Python and the Holy Grail          \\\\\n",
       "\t High School Musical                      \\\\\n",
       "\t Shaun of the Dead                        \\\\\n",
       "\t Taxi Driver                              \\\\\n",
       "\t The Shawshank Redemption                 \\\\\n",
       "\t Interstellar                             \\\\\n",
       "\t Casino                                   \\\\\n",
       "\t The Goodfellas                           \\\\\n",
       "\t Blue is the Warmest Colour               \\\\\n",
       "\t Black Swan                               \\\\\n",
       "\t Back to the Future                       \\\\\n",
       "\t The Wave                                 \\\\\n",
       "\t Whiplash                                 \\\\\n",
       "\t The Grand Hotel Budapest                 \\\\\n",
       "\t Jumanji                                  \\\\\n",
       "\t The Eternal Sunshine of the Spotless Mind\\\\\n",
       "\t Chicago                                  \\\\\n",
       "\\end{tabular}\n"
      ],
      "text/markdown": [
       "\n",
       "| name |\n",
       "|---|\n",
       "| Toy Story                                 |\n",
       "| Akira                                     |\n",
       "| The Breakfast Club                        |\n",
       "| The Artist                                |\n",
       "| Modern Times                              |\n",
       "| Fight Club                                |\n",
       "| City of God                               |\n",
       "| The Untouchables                          |\n",
       "| Star Wars Episode IV                      |\n",
       "| American Beauty                           |\n",
       "| Room                                      |\n",
       "| Dr. Strangelove                           |\n",
       "| The Ring                                  |\n",
       "| Monty Python and the Holy Grail           |\n",
       "| High School Musical                       |\n",
       "| Shaun of the Dead                         |\n",
       "| Taxi Driver                               |\n",
       "| The Shawshank Redemption                  |\n",
       "| Interstellar                              |\n",
       "| Casino                                    |\n",
       "| The Goodfellas                            |\n",
       "| Blue is the Warmest Colour                |\n",
       "| Black Swan                                |\n",
       "| Back to the Future                        |\n",
       "| The Wave                                  |\n",
       "| Whiplash                                  |\n",
       "| The Grand Hotel Budapest                  |\n",
       "| Jumanji                                   |\n",
       "| The Eternal Sunshine of the Spotless Mind |\n",
       "| Chicago                                   |\n",
       "\n"
      ],
      "text/plain": [
       "   name                                     \n",
       "1  Toy Story                                \n",
       "2  Akira                                    \n",
       "3  The Breakfast Club                       \n",
       "4  The Artist                               \n",
       "5  Modern Times                             \n",
       "6  Fight Club                               \n",
       "7  City of God                              \n",
       "8  The Untouchables                         \n",
       "9  Star Wars Episode IV                     \n",
       "10 American Beauty                          \n",
       "11 Room                                     \n",
       "12 Dr. Strangelove                          \n",
       "13 The Ring                                 \n",
       "14 Monty Python and the Holy Grail          \n",
       "15 High School Musical                      \n",
       "16 Shaun of the Dead                        \n",
       "17 Taxi Driver                              \n",
       "18 The Shawshank Redemption                 \n",
       "19 Interstellar                             \n",
       "20 Casino                                   \n",
       "21 The Goodfellas                           \n",
       "22 Blue is the Warmest Colour               \n",
       "23 Black Swan                               \n",
       "24 Back to the Future                       \n",
       "25 The Wave                                 \n",
       "26 Whiplash                                 \n",
       "27 The Grand Hotel Budapest                 \n",
       "28 Jumanji                                  \n",
       "29 The Eternal Sunshine of the Spotless Mind\n",
       "30 Chicago                                  "
      ]
     },
     "metadata": {},
     "output_type": "display_data"
    }
   ],
   "source": [
    "# Write your code below. Don't forget to press Shift+Enter to execute the cell\n",
    "# my_data['name']\n",
    "my_data['name']"
   ]
  },
  {
   "cell_type": "markdown",
   "metadata": {
    "id": "fTcnUDDM4Qng"
   },
   "source": [
    " Another way to do this is by using the `$` notation which at the output will provide a vector:\n",
    "### 7-Retrieve the data for the \"name\" column in the data frame.\n"
   ]
  },
  {
   "cell_type": "code",
   "execution_count": 11,
   "metadata": {
    "colab": {
     "base_uri": "https://localhost:8080/",
     "height": 104
    },
    "executionInfo": {
     "elapsed": 19382,
     "status": "ok",
     "timestamp": 1715050714830,
     "user": {
      "displayName": "Huy Hoàng",
      "userId": "01332833307816836629"
     },
     "user_tz": -420
    },
    "id": "eajJKAFJ4Qnh",
    "outputId": "6a91c9a3-33cb-4045-dae0-cb23640bbad6",
    "vscode": {
     "languageId": "r"
    }
   },
   "outputs": [
    {
     "data": {
      "text/html": [
       "<ol class=list-inline>\n",
       "\t<li>Toy Story</li>\n",
       "\t<li>Akira</li>\n",
       "\t<li>The Breakfast Club</li>\n",
       "\t<li>The Artist</li>\n",
       "\t<li>Modern Times</li>\n",
       "\t<li>Fight Club</li>\n",
       "\t<li>City of God</li>\n",
       "\t<li>The Untouchables</li>\n",
       "\t<li>Star Wars Episode IV</li>\n",
       "\t<li>American Beauty</li>\n",
       "\t<li>Room</li>\n",
       "\t<li>Dr. Strangelove</li>\n",
       "\t<li>The Ring</li>\n",
       "\t<li>Monty Python and the Holy Grail</li>\n",
       "\t<li>High School Musical</li>\n",
       "\t<li>Shaun of the Dead</li>\n",
       "\t<li>Taxi Driver</li>\n",
       "\t<li>The Shawshank Redemption</li>\n",
       "\t<li>Interstellar</li>\n",
       "\t<li>Casino</li>\n",
       "\t<li>The Goodfellas</li>\n",
       "\t<li>Blue is the Warmest Colour</li>\n",
       "\t<li>Black Swan</li>\n",
       "\t<li>Back to the Future</li>\n",
       "\t<li>The Wave</li>\n",
       "\t<li>Whiplash</li>\n",
       "\t<li>The Grand Hotel Budapest</li>\n",
       "\t<li>Jumanji</li>\n",
       "\t<li>The Eternal Sunshine of the Spotless Mind</li>\n",
       "\t<li>Chicago</li>\n",
       "</ol>\n",
       "\n",
       "<details>\n",
       "\t<summary style=display:list-item;cursor:pointer>\n",
       "\t\t<strong>Levels</strong>:\n",
       "\t</summary>\n",
       "\t<ol class=list-inline>\n",
       "\t\t<li>'Akira'</li>\n",
       "\t\t<li>'American Beauty'</li>\n",
       "\t\t<li>'Back to the Future'</li>\n",
       "\t\t<li>'Black Swan'</li>\n",
       "\t\t<li>'Blue is the Warmest Colour'</li>\n",
       "\t\t<li>'Casino'</li>\n",
       "\t\t<li>'Chicago'</li>\n",
       "\t\t<li>'City of God'</li>\n",
       "\t\t<li>'Dr. Strangelove'</li>\n",
       "\t\t<li>'Fight Club'</li>\n",
       "\t\t<li>'High School Musical'</li>\n",
       "\t\t<li>'Interstellar'</li>\n",
       "\t\t<li>'Jumanji'</li>\n",
       "\t\t<li>'Modern Times'</li>\n",
       "\t\t<li>'Monty Python and the Holy Grail'</li>\n",
       "\t\t<li>'Room'</li>\n",
       "\t\t<li>'Shaun of the Dead'</li>\n",
       "\t\t<li>'Star Wars Episode IV'</li>\n",
       "\t\t<li>'Taxi Driver'</li>\n",
       "\t\t<li>'The Artist'</li>\n",
       "\t\t<li>'The Breakfast Club'</li>\n",
       "\t\t<li>'The Eternal Sunshine of the Spotless Mind'</li>\n",
       "\t\t<li>'The Goodfellas'</li>\n",
       "\t\t<li>'The Grand Hotel Budapest'</li>\n",
       "\t\t<li>'The Ring'</li>\n",
       "\t\t<li>'The Shawshank Redemption'</li>\n",
       "\t\t<li>'The Untouchables'</li>\n",
       "\t\t<li>'The Wave'</li>\n",
       "\t\t<li>'Toy Story'</li>\n",
       "\t\t<li>'Whiplash'</li>\n",
       "\t</ol>\n",
       "</details>"
      ],
      "text/latex": [
       "\\begin{enumerate*}\n",
       "\\item Toy Story\n",
       "\\item Akira\n",
       "\\item The Breakfast Club\n",
       "\\item The Artist\n",
       "\\item Modern Times\n",
       "\\item Fight Club\n",
       "\\item City of God\n",
       "\\item The Untouchables\n",
       "\\item Star Wars Episode IV\n",
       "\\item American Beauty\n",
       "\\item Room\n",
       "\\item Dr. Strangelove\n",
       "\\item The Ring\n",
       "\\item Monty Python and the Holy Grail\n",
       "\\item High School Musical\n",
       "\\item Shaun of the Dead\n",
       "\\item Taxi Driver\n",
       "\\item The Shawshank Redemption\n",
       "\\item Interstellar\n",
       "\\item Casino\n",
       "\\item The Goodfellas\n",
       "\\item Blue is the Warmest Colour\n",
       "\\item Black Swan\n",
       "\\item Back to the Future\n",
       "\\item The Wave\n",
       "\\item Whiplash\n",
       "\\item The Grand Hotel Budapest\n",
       "\\item Jumanji\n",
       "\\item The Eternal Sunshine of the Spotless Mind\n",
       "\\item Chicago\n",
       "\\end{enumerate*}\n",
       "\n",
       "\\emph{Levels}: \\begin{enumerate*}\n",
       "\\item 'Akira'\n",
       "\\item 'American Beauty'\n",
       "\\item 'Back to the Future'\n",
       "\\item 'Black Swan'\n",
       "\\item 'Blue is the Warmest Colour'\n",
       "\\item 'Casino'\n",
       "\\item 'Chicago'\n",
       "\\item 'City of God'\n",
       "\\item 'Dr. Strangelove'\n",
       "\\item 'Fight Club'\n",
       "\\item 'High School Musical'\n",
       "\\item 'Interstellar'\n",
       "\\item 'Jumanji'\n",
       "\\item 'Modern Times'\n",
       "\\item 'Monty Python and the Holy Grail'\n",
       "\\item 'Room'\n",
       "\\item 'Shaun of the Dead'\n",
       "\\item 'Star Wars Episode IV'\n",
       "\\item 'Taxi Driver'\n",
       "\\item 'The Artist'\n",
       "\\item 'The Breakfast Club'\n",
       "\\item 'The Eternal Sunshine of the Spotless Mind'\n",
       "\\item 'The Goodfellas'\n",
       "\\item 'The Grand Hotel Budapest'\n",
       "\\item 'The Ring'\n",
       "\\item 'The Shawshank Redemption'\n",
       "\\item 'The Untouchables'\n",
       "\\item 'The Wave'\n",
       "\\item 'Toy Story'\n",
       "\\item 'Whiplash'\n",
       "\\end{enumerate*}\n"
      ],
      "text/markdown": [
       "1. Toy Story\n",
       "2. Akira\n",
       "3. The Breakfast Club\n",
       "4. The Artist\n",
       "5. Modern Times\n",
       "6. Fight Club\n",
       "7. City of God\n",
       "8. The Untouchables\n",
       "9. Star Wars Episode IV\n",
       "10. American Beauty\n",
       "11. Room\n",
       "12. Dr. Strangelove\n",
       "13. The Ring\n",
       "14. Monty Python and the Holy Grail\n",
       "15. High School Musical\n",
       "16. Shaun of the Dead\n",
       "17. Taxi Driver\n",
       "18. The Shawshank Redemption\n",
       "19. Interstellar\n",
       "20. Casino\n",
       "21. The Goodfellas\n",
       "22. Blue is the Warmest Colour\n",
       "23. Black Swan\n",
       "24. Back to the Future\n",
       "25. The Wave\n",
       "26. Whiplash\n",
       "27. The Grand Hotel Budapest\n",
       "28. Jumanji\n",
       "29. The Eternal Sunshine of the Spotless Mind\n",
       "30. Chicago\n",
       "\n",
       "\n",
       "\n",
       "**Levels**: 1. 'Akira'\n",
       "2. 'American Beauty'\n",
       "3. 'Back to the Future'\n",
       "4. 'Black Swan'\n",
       "5. 'Blue is the Warmest Colour'\n",
       "6. 'Casino'\n",
       "7. 'Chicago'\n",
       "8. 'City of God'\n",
       "9. 'Dr. Strangelove'\n",
       "10. 'Fight Club'\n",
       "11. 'High School Musical'\n",
       "12. 'Interstellar'\n",
       "13. 'Jumanji'\n",
       "14. 'Modern Times'\n",
       "15. 'Monty Python and the Holy Grail'\n",
       "16. 'Room'\n",
       "17. 'Shaun of the Dead'\n",
       "18. 'Star Wars Episode IV'\n",
       "19. 'Taxi Driver'\n",
       "20. 'The Artist'\n",
       "21. 'The Breakfast Club'\n",
       "22. 'The Eternal Sunshine of the Spotless Mind'\n",
       "23. 'The Goodfellas'\n",
       "24. 'The Grand Hotel Budapest'\n",
       "25. 'The Ring'\n",
       "26. 'The Shawshank Redemption'\n",
       "27. 'The Untouchables'\n",
       "28. 'The Wave'\n",
       "29. 'Toy Story'\n",
       "30. 'Whiplash'\n",
       "\n",
       "\n"
      ],
      "text/plain": [
       " [1] Toy Story                                \n",
       " [2] Akira                                    \n",
       " [3] The Breakfast Club                       \n",
       " [4] The Artist                               \n",
       " [5] Modern Times                             \n",
       " [6] Fight Club                               \n",
       " [7] City of God                              \n",
       " [8] The Untouchables                         \n",
       " [9] Star Wars Episode IV                     \n",
       "[10] American Beauty                          \n",
       "[11] Room                                     \n",
       "[12] Dr. Strangelove                          \n",
       "[13] The Ring                                 \n",
       "[14] Monty Python and the Holy Grail          \n",
       "[15] High School Musical                      \n",
       "[16] Shaun of the Dead                        \n",
       "[17] Taxi Driver                              \n",
       "[18] The Shawshank Redemption                 \n",
       "[19] Interstellar                             \n",
       "[20] Casino                                   \n",
       "[21] The Goodfellas                           \n",
       "[22] Blue is the Warmest Colour               \n",
       "[23] Black Swan                               \n",
       "[24] Back to the Future                       \n",
       "[25] The Wave                                 \n",
       "[26] Whiplash                                 \n",
       "[27] The Grand Hotel Budapest                 \n",
       "[28] Jumanji                                  \n",
       "[29] The Eternal Sunshine of the Spotless Mind\n",
       "[30] Chicago                                  \n",
       "30 Levels: Akira American Beauty Back to the Future ... Whiplash"
      ]
     },
     "metadata": {},
     "output_type": "display_data"
    }
   ],
   "source": [
    "# Write your code below. Don't forget to press Shift+Enter to execute the cell\n",
    "# my_data$name\n",
    "my_data$name"
   ]
  },
  {
   "cell_type": "markdown",
   "metadata": {
    "id": "Fyen0ZVC4Qnh"
   },
   "source": [
    "### 8-Retrieve the data for the \"name\" column in the data frame using **double square brackets**\n",
    "\n"
   ]
  },
  {
   "cell_type": "code",
   "execution_count": 12,
   "metadata": {
    "colab": {
     "base_uri": "https://localhost:8080/",
     "height": 104
    },
    "executionInfo": {
     "elapsed": 418,
     "status": "ok",
     "timestamp": 1715050806890,
     "user": {
      "displayName": "Huy Hoàng",
      "userId": "01332833307816836629"
     },
     "user_tz": -420
    },
    "id": "o3WK4fem4Qnh",
    "outputId": "562923c4-6d31-4ff7-e42c-269c916c4620",
    "vscode": {
     "languageId": "r"
    }
   },
   "outputs": [
    {
     "data": {
      "text/html": [
       "<ol class=list-inline>\n",
       "\t<li>Toy Story</li>\n",
       "\t<li>Akira</li>\n",
       "\t<li>The Breakfast Club</li>\n",
       "\t<li>The Artist</li>\n",
       "\t<li>Modern Times</li>\n",
       "\t<li>Fight Club</li>\n",
       "\t<li>City of God</li>\n",
       "\t<li>The Untouchables</li>\n",
       "\t<li>Star Wars Episode IV</li>\n",
       "\t<li>American Beauty</li>\n",
       "\t<li>Room</li>\n",
       "\t<li>Dr. Strangelove</li>\n",
       "\t<li>The Ring</li>\n",
       "\t<li>Monty Python and the Holy Grail</li>\n",
       "\t<li>High School Musical</li>\n",
       "\t<li>Shaun of the Dead</li>\n",
       "\t<li>Taxi Driver</li>\n",
       "\t<li>The Shawshank Redemption</li>\n",
       "\t<li>Interstellar</li>\n",
       "\t<li>Casino</li>\n",
       "\t<li>The Goodfellas</li>\n",
       "\t<li>Blue is the Warmest Colour</li>\n",
       "\t<li>Black Swan</li>\n",
       "\t<li>Back to the Future</li>\n",
       "\t<li>The Wave</li>\n",
       "\t<li>Whiplash</li>\n",
       "\t<li>The Grand Hotel Budapest</li>\n",
       "\t<li>Jumanji</li>\n",
       "\t<li>The Eternal Sunshine of the Spotless Mind</li>\n",
       "\t<li>Chicago</li>\n",
       "</ol>\n",
       "\n",
       "<details>\n",
       "\t<summary style=display:list-item;cursor:pointer>\n",
       "\t\t<strong>Levels</strong>:\n",
       "\t</summary>\n",
       "\t<ol class=list-inline>\n",
       "\t\t<li>'Akira'</li>\n",
       "\t\t<li>'American Beauty'</li>\n",
       "\t\t<li>'Back to the Future'</li>\n",
       "\t\t<li>'Black Swan'</li>\n",
       "\t\t<li>'Blue is the Warmest Colour'</li>\n",
       "\t\t<li>'Casino'</li>\n",
       "\t\t<li>'Chicago'</li>\n",
       "\t\t<li>'City of God'</li>\n",
       "\t\t<li>'Dr. Strangelove'</li>\n",
       "\t\t<li>'Fight Club'</li>\n",
       "\t\t<li>'High School Musical'</li>\n",
       "\t\t<li>'Interstellar'</li>\n",
       "\t\t<li>'Jumanji'</li>\n",
       "\t\t<li>'Modern Times'</li>\n",
       "\t\t<li>'Monty Python and the Holy Grail'</li>\n",
       "\t\t<li>'Room'</li>\n",
       "\t\t<li>'Shaun of the Dead'</li>\n",
       "\t\t<li>'Star Wars Episode IV'</li>\n",
       "\t\t<li>'Taxi Driver'</li>\n",
       "\t\t<li>'The Artist'</li>\n",
       "\t\t<li>'The Breakfast Club'</li>\n",
       "\t\t<li>'The Eternal Sunshine of the Spotless Mind'</li>\n",
       "\t\t<li>'The Goodfellas'</li>\n",
       "\t\t<li>'The Grand Hotel Budapest'</li>\n",
       "\t\t<li>'The Ring'</li>\n",
       "\t\t<li>'The Shawshank Redemption'</li>\n",
       "\t\t<li>'The Untouchables'</li>\n",
       "\t\t<li>'The Wave'</li>\n",
       "\t\t<li>'Toy Story'</li>\n",
       "\t\t<li>'Whiplash'</li>\n",
       "\t</ol>\n",
       "</details>"
      ],
      "text/latex": [
       "\\begin{enumerate*}\n",
       "\\item Toy Story\n",
       "\\item Akira\n",
       "\\item The Breakfast Club\n",
       "\\item The Artist\n",
       "\\item Modern Times\n",
       "\\item Fight Club\n",
       "\\item City of God\n",
       "\\item The Untouchables\n",
       "\\item Star Wars Episode IV\n",
       "\\item American Beauty\n",
       "\\item Room\n",
       "\\item Dr. Strangelove\n",
       "\\item The Ring\n",
       "\\item Monty Python and the Holy Grail\n",
       "\\item High School Musical\n",
       "\\item Shaun of the Dead\n",
       "\\item Taxi Driver\n",
       "\\item The Shawshank Redemption\n",
       "\\item Interstellar\n",
       "\\item Casino\n",
       "\\item The Goodfellas\n",
       "\\item Blue is the Warmest Colour\n",
       "\\item Black Swan\n",
       "\\item Back to the Future\n",
       "\\item The Wave\n",
       "\\item Whiplash\n",
       "\\item The Grand Hotel Budapest\n",
       "\\item Jumanji\n",
       "\\item The Eternal Sunshine of the Spotless Mind\n",
       "\\item Chicago\n",
       "\\end{enumerate*}\n",
       "\n",
       "\\emph{Levels}: \\begin{enumerate*}\n",
       "\\item 'Akira'\n",
       "\\item 'American Beauty'\n",
       "\\item 'Back to the Future'\n",
       "\\item 'Black Swan'\n",
       "\\item 'Blue is the Warmest Colour'\n",
       "\\item 'Casino'\n",
       "\\item 'Chicago'\n",
       "\\item 'City of God'\n",
       "\\item 'Dr. Strangelove'\n",
       "\\item 'Fight Club'\n",
       "\\item 'High School Musical'\n",
       "\\item 'Interstellar'\n",
       "\\item 'Jumanji'\n",
       "\\item 'Modern Times'\n",
       "\\item 'Monty Python and the Holy Grail'\n",
       "\\item 'Room'\n",
       "\\item 'Shaun of the Dead'\n",
       "\\item 'Star Wars Episode IV'\n",
       "\\item 'Taxi Driver'\n",
       "\\item 'The Artist'\n",
       "\\item 'The Breakfast Club'\n",
       "\\item 'The Eternal Sunshine of the Spotless Mind'\n",
       "\\item 'The Goodfellas'\n",
       "\\item 'The Grand Hotel Budapest'\n",
       "\\item 'The Ring'\n",
       "\\item 'The Shawshank Redemption'\n",
       "\\item 'The Untouchables'\n",
       "\\item 'The Wave'\n",
       "\\item 'Toy Story'\n",
       "\\item 'Whiplash'\n",
       "\\end{enumerate*}\n"
      ],
      "text/markdown": [
       "1. Toy Story\n",
       "2. Akira\n",
       "3. The Breakfast Club\n",
       "4. The Artist\n",
       "5. Modern Times\n",
       "6. Fight Club\n",
       "7. City of God\n",
       "8. The Untouchables\n",
       "9. Star Wars Episode IV\n",
       "10. American Beauty\n",
       "11. Room\n",
       "12. Dr. Strangelove\n",
       "13. The Ring\n",
       "14. Monty Python and the Holy Grail\n",
       "15. High School Musical\n",
       "16. Shaun of the Dead\n",
       "17. Taxi Driver\n",
       "18. The Shawshank Redemption\n",
       "19. Interstellar\n",
       "20. Casino\n",
       "21. The Goodfellas\n",
       "22. Blue is the Warmest Colour\n",
       "23. Black Swan\n",
       "24. Back to the Future\n",
       "25. The Wave\n",
       "26. Whiplash\n",
       "27. The Grand Hotel Budapest\n",
       "28. Jumanji\n",
       "29. The Eternal Sunshine of the Spotless Mind\n",
       "30. Chicago\n",
       "\n",
       "\n",
       "\n",
       "**Levels**: 1. 'Akira'\n",
       "2. 'American Beauty'\n",
       "3. 'Back to the Future'\n",
       "4. 'Black Swan'\n",
       "5. 'Blue is the Warmest Colour'\n",
       "6. 'Casino'\n",
       "7. 'Chicago'\n",
       "8. 'City of God'\n",
       "9. 'Dr. Strangelove'\n",
       "10. 'Fight Club'\n",
       "11. 'High School Musical'\n",
       "12. 'Interstellar'\n",
       "13. 'Jumanji'\n",
       "14. 'Modern Times'\n",
       "15. 'Monty Python and the Holy Grail'\n",
       "16. 'Room'\n",
       "17. 'Shaun of the Dead'\n",
       "18. 'Star Wars Episode IV'\n",
       "19. 'Taxi Driver'\n",
       "20. 'The Artist'\n",
       "21. 'The Breakfast Club'\n",
       "22. 'The Eternal Sunshine of the Spotless Mind'\n",
       "23. 'The Goodfellas'\n",
       "24. 'The Grand Hotel Budapest'\n",
       "25. 'The Ring'\n",
       "26. 'The Shawshank Redemption'\n",
       "27. 'The Untouchables'\n",
       "28. 'The Wave'\n",
       "29. 'Toy Story'\n",
       "30. 'Whiplash'\n",
       "\n",
       "\n"
      ],
      "text/plain": [
       " [1] Toy Story                                \n",
       " [2] Akira                                    \n",
       " [3] The Breakfast Club                       \n",
       " [4] The Artist                               \n",
       " [5] Modern Times                             \n",
       " [6] Fight Club                               \n",
       " [7] City of God                              \n",
       " [8] The Untouchables                         \n",
       " [9] Star Wars Episode IV                     \n",
       "[10] American Beauty                          \n",
       "[11] Room                                     \n",
       "[12] Dr. Strangelove                          \n",
       "[13] The Ring                                 \n",
       "[14] Monty Python and the Holy Grail          \n",
       "[15] High School Musical                      \n",
       "[16] Shaun of the Dead                        \n",
       "[17] Taxi Driver                              \n",
       "[18] The Shawshank Redemption                 \n",
       "[19] Interstellar                             \n",
       "[20] Casino                                   \n",
       "[21] The Goodfellas                           \n",
       "[22] Blue is the Warmest Colour               \n",
       "[23] Black Swan                               \n",
       "[24] Back to the Future                       \n",
       "[25] The Wave                                 \n",
       "[26] Whiplash                                 \n",
       "[27] The Grand Hotel Budapest                 \n",
       "[28] Jumanji                                  \n",
       "[29] The Eternal Sunshine of the Spotless Mind\n",
       "[30] Chicago                                  \n",
       "30 Levels: Akira American Beauty Back to the Future ... Whiplash"
      ]
     },
     "metadata": {},
     "output_type": "display_data"
    }
   ],
   "source": [
    "# Write your code below. Don't forget to press Shift+Enter to execute the cell\n",
    "my_data[[\"name\"]]\n"
   ]
  },
  {
   "cell_type": "markdown",
   "metadata": {
    "id": "dGgnVk1z4Qnh"
   },
   "source": [
    "Similarly, any particular row of the dataset can also be accessed. For example, to get the first row of the dataset with all column values, we can use:\n"
   ]
  },
  {
   "cell_type": "code",
   "execution_count": 20,
   "metadata": {
    "colab": {
     "base_uri": "https://localhost:8080/",
     "height": 129
    },
    "executionInfo": {
     "elapsed": 723,
     "status": "ok",
     "timestamp": 1715050846095,
     "user": {
      "displayName": "Huy Hoàng",
      "userId": "01332833307816836629"
     },
     "user_tz": -420
    },
    "id": "dAPF9Yzo4Qnh",
    "outputId": "57d27fda-eef2-4d63-bc9d-06d02ed08f95",
    "vscode": {
     "languageId": "r"
    }
   },
   "outputs": [
    {
     "data": {
      "text/html": [
       "<table class=\"dataframe\">\n",
       "<caption>A data.frame: 1 × 8</caption>\n",
       "<thead>\n",
       "\t<tr><th></th><th scope=col>name</th><th scope=col>year</th><th scope=col>length_min</th><th scope=col>genre</th><th scope=col>average_rating</th><th scope=col>cost_millions</th><th scope=col>foreign</th><th scope=col>age_restriction</th></tr>\n",
       "\t<tr><th></th><th scope=col>&lt;chr&gt;</th><th scope=col>&lt;int&gt;</th><th scope=col>&lt;int&gt;</th><th scope=col>&lt;chr&gt;</th><th scope=col>&lt;dbl&gt;</th><th scope=col>&lt;dbl&gt;</th><th scope=col>&lt;int&gt;</th><th scope=col>&lt;int&gt;</th></tr>\n",
       "</thead>\n",
       "<tbody>\n",
       "\t<tr><th scope=row>1</th><td>Toy Story</td><td>1995</td><td>81</td><td>Animation</td><td>8.3</td><td>30</td><td>0</td><td>0</td></tr>\n",
       "</tbody>\n",
       "</table>\n"
      ],
      "text/latex": [
       "A data.frame: 1 × 8\n",
       "\\begin{tabular}{r|llllllll}\n",
       "  & name & year & length\\_min & genre & average\\_rating & cost\\_millions & foreign & age\\_restriction\\\\\n",
       "  & <chr> & <int> & <int> & <chr> & <dbl> & <dbl> & <int> & <int>\\\\\n",
       "\\hline\n",
       "\t1 & Toy Story & 1995 & 81 & Animation & 8.3 & 30 & 0 & 0\\\\\n",
       "\\end{tabular}\n"
      ],
      "text/markdown": [
       "\n",
       "A data.frame: 1 × 8\n",
       "\n",
       "| <!--/--> | name &lt;chr&gt; | year &lt;int&gt; | length_min &lt;int&gt; | genre &lt;chr&gt; | average_rating &lt;dbl&gt; | cost_millions &lt;dbl&gt; | foreign &lt;int&gt; | age_restriction &lt;int&gt; |\n",
       "|---|---|---|---|---|---|---|---|---|\n",
       "| 1 | Toy Story | 1995 | 81 | Animation | 8.3 | 30 | 0 | 0 |\n",
       "\n"
      ],
      "text/plain": [
       "  name      year length_min genre     average_rating cost_millions foreign\n",
       "1 Toy Story 1995 81         Animation 8.3            30            0      \n",
       "  age_restriction\n",
       "1 0              "
      ]
     },
     "metadata": {},
     "output_type": "display_data"
    }
   ],
   "source": [
    "# Retrieve the first row of the data frame.\n",
    "my_data[1,]"
   ]
  },
  {
   "cell_type": "markdown",
   "metadata": {
    "id": "W-2_3oVm4Qnh"
   },
   "source": [
    "The first value before the comma represents the **row** of the dataset and the second value (which is blank in the above example) represents the **column** of the dataset to be retrieved. By setting the first number as 1 we say we want data from row 1. By leaving the column blank we say we want all the columns in that row.\n",
    "\n",
    "We can specify more than one column or row by using **`c`**, the **concatenate** function. By using `c` to concatenate a list of elements, we tell R that we want these observations out of the data frame. Let's try it out.\n"
   ]
  },
  {
   "cell_type": "code",
   "execution_count": 15,
   "metadata": {
    "colab": {
     "base_uri": "https://localhost:8080/",
     "height": 223
    },
    "executionInfo": {
     "elapsed": 817,
     "status": "ok",
     "timestamp": 1715050903192,
     "user": {
      "displayName": "Huy Hoàng",
      "userId": "01332833307816836629"
     },
     "user_tz": -420
    },
    "id": "BeLNmLPl4Qnh",
    "outputId": "a75c9086-b90f-49b8-9b78-369826e3cd74",
    "vscode": {
     "languageId": "r"
    }
   },
   "outputs": [
    {
     "data": {
      "text/html": [
       "<table>\n",
       "<thead><tr><th scope=col>name</th><th scope=col>length_min</th></tr></thead>\n",
       "<tbody>\n",
       "\t<tr><td>Toy Story         </td><td> 81               </td></tr>\n",
       "\t<tr><td>Akira             </td><td>125               </td></tr>\n",
       "\t<tr><td>The Breakfast Club</td><td> 97               </td></tr>\n",
       "\t<tr><td>The Artist        </td><td>100               </td></tr>\n",
       "</tbody>\n",
       "</table>\n"
      ],
      "text/latex": [
       "\\begin{tabular}{r|ll}\n",
       " name & length\\_min\\\\\n",
       "\\hline\n",
       "\t Toy Story          &  81               \\\\\n",
       "\t Akira              & 125               \\\\\n",
       "\t The Breakfast Club &  97               \\\\\n",
       "\t The Artist         & 100               \\\\\n",
       "\\end{tabular}\n"
      ],
      "text/markdown": [
       "\n",
       "| name | length_min |\n",
       "|---|---|\n",
       "| Toy Story          |  81                |\n",
       "| Akira              | 125                |\n",
       "| The Breakfast Club |  97                |\n",
       "| The Artist         | 100                |\n",
       "\n"
      ],
      "text/plain": [
       "  name               length_min\n",
       "1 Toy Story           81       \n",
       "2 Akira              125       \n",
       "3 The Breakfast Club  97       \n",
       "4 The Artist         100       "
      ]
     },
     "metadata": {},
     "output_type": "display_data"
    },
    {
     "data": {
      "text/html": [
       "<table>\n",
       "<thead><tr><th scope=col>name</th><th scope=col>average_rating</th></tr></thead>\n",
       "<tbody>\n",
       "\t<tr><td>Toy Story         </td><td>8.3               </td></tr>\n",
       "\t<tr><td>Akira             </td><td>8.1               </td></tr>\n",
       "\t<tr><td>The Breakfast Club</td><td>7.9               </td></tr>\n",
       "\t<tr><td>The Artist        </td><td>8.0               </td></tr>\n",
       "</tbody>\n",
       "</table>\n"
      ],
      "text/latex": [
       "\\begin{tabular}{r|ll}\n",
       " name & average\\_rating\\\\\n",
       "\\hline\n",
       "\t Toy Story          & 8.3               \\\\\n",
       "\t Akira              & 8.1               \\\\\n",
       "\t The Breakfast Club & 7.9               \\\\\n",
       "\t The Artist         & 8.0               \\\\\n",
       "\\end{tabular}\n"
      ],
      "text/markdown": [
       "\n",
       "| name | average_rating |\n",
       "|---|---|\n",
       "| Toy Story          | 8.3                |\n",
       "| Akira              | 8.1                |\n",
       "| The Breakfast Club | 7.9                |\n",
       "| The Artist         | 8.0                |\n",
       "\n"
      ],
      "text/plain": [
       "  name               average_rating\n",
       "1 Toy Story          8.3           \n",
       "2 Akira              8.1           \n",
       "3 The Breakfast Club 7.9           \n",
       "4 The Artist         8.0           "
      ]
     },
     "metadata": {},
     "output_type": "display_data"
    }
   ],
   "source": [
    "# Retrieve the first row of the data frame, but only the \"name\" and \"length_min\" columns.\n",
    "my_data[1:4, c(\"name\",\"length_min\")]\n",
    "\n",
    "my_data[1:4, c('name', 'average_rating')]"
   ]
  },
  {
   "cell_type": "markdown",
   "metadata": {
    "id": "M60UkSl34Qnh"
   },
   "source": [
    "* * *\n"
   ]
  },
  {
   "cell_type": "markdown",
   "metadata": {
    "id": "C2rnd1za4Qni"
   },
   "source": [
    "<a id=\"ref4\"></a>\n",
    "\n",
    "<center><h2>Accessing Built-in Datasets in R</h2></center>\n"
   ]
  },
  {
   "cell_type": "markdown",
   "metadata": {
    "id": "mKYjOjy_4Qni"
   },
   "source": [
    "R provides various built-in datasets for users to utilize for different purposes. To know which datasets are available, R provides a simple function -- `data` -- that returns all of the present datasets' names with a small description beside them. The ones in the `datasets` package are all inbuilt.\n"
   ]
  },
  {
   "cell_type": "code",
   "execution_count": 16,
   "metadata": {
    "executionInfo": {
     "elapsed": 428,
     "status": "ok",
     "timestamp": 1715050942669,
     "user": {
      "displayName": "Huy Hoàng",
      "userId": "01332833307816836629"
     },
     "user_tz": -420
    },
    "id": "4kA85YEi4Qni",
    "vscode": {
     "languageId": "r"
    }
   },
   "outputs": [
    {
     "data": {
      "text/html": [
       "<h3>Data sets</h3>\n",
       "<table>\n",
       "<thead><tr><th scope=col>Package</th><th scope=col>Item</th><th scope=col>Title</th></tr></thead>\n",
       "<tbody>\n",
       "\t<tr><td>datasets                                                       </td><td>AirPassengers                                                  </td><td>Monthly Airline Passenger Numbers 1949-1960                    </td></tr>\n",
       "\t<tr><td>datasets                                                       </td><td>BJsales                                                        </td><td>Sales Data with Leading Indicator                              </td></tr>\n",
       "\t<tr><td>datasets                                                       </td><td>BJsales.lead (BJsales)                                         </td><td>Sales Data with Leading Indicator                              </td></tr>\n",
       "\t<tr><td>datasets                                                       </td><td>BOD                                                            </td><td>Biochemical Oxygen Demand                                      </td></tr>\n",
       "\t<tr><td>datasets                                                       </td><td>CO2                                                            </td><td>Carbon Dioxide Uptake in Grass Plants                          </td></tr>\n",
       "\t<tr><td>datasets                                                       </td><td>ChickWeight                                                    </td><td>Weight versus age of chicks on different diets                 </td></tr>\n",
       "\t<tr><td>datasets                                                       </td><td>DNase                                                          </td><td>Elisa assay of DNase                                           </td></tr>\n",
       "\t<tr><td>datasets                                                       </td><td>EuStockMarkets                                                 </td><td>Daily Closing Prices of Major European Stock Indices, 1991-1998</td></tr>\n",
       "\t<tr><td>datasets                                                       </td><td>Formaldehyde                                                   </td><td>Determination of Formaldehyde                                  </td></tr>\n",
       "\t<tr><td>datasets                                                       </td><td>HairEyeColor                                                   </td><td>Hair and Eye Color of Statistics Students                      </td></tr>\n",
       "\t<tr><td>datasets                                                       </td><td>Harman23.cor                                                   </td><td>Harman Example 2.3                                             </td></tr>\n",
       "\t<tr><td>datasets                                                       </td><td>Harman74.cor                                                   </td><td>Harman Example 7.4                                             </td></tr>\n",
       "\t<tr><td>datasets                                                       </td><td>Indometh                                                       </td><td>Pharmacokinetics of Indomethacin                               </td></tr>\n",
       "\t<tr><td>datasets                                                       </td><td>InsectSprays                                                   </td><td>Effectiveness of Insect Sprays                                 </td></tr>\n",
       "\t<tr><td>datasets                                                                                                   </td><td><span style=white-space:pre-wrap>JohnsonJohnson        </span>                                             </td><td><span style=white-space:pre-wrap>Quarterly Earnings per Johnson &amp; Johnson Share                 </span></td></tr>\n",
       "\t<tr><td>datasets                                                       </td><td>LakeHuron                                                      </td><td>Level of Lake Huron 1875-1972                                  </td></tr>\n",
       "\t<tr><td>datasets                                                       </td><td>LifeCycleSavings                                               </td><td>Intercountry Life-Cycle Savings Data                           </td></tr>\n",
       "\t<tr><td>datasets                                                       </td><td>Loblolly                                                       </td><td>Growth of Loblolly pine trees                                  </td></tr>\n",
       "\t<tr><td>datasets                                                       </td><td>Nile                                                           </td><td>Flow of the River Nile                                         </td></tr>\n",
       "\t<tr><td>datasets                                                       </td><td>Orange                                                         </td><td>Growth of Orange Trees                                         </td></tr>\n",
       "\t<tr><td>datasets                                                       </td><td>OrchardSprays                                                  </td><td>Potency of Orchard Sprays                                      </td></tr>\n",
       "\t<tr><td>datasets                                                       </td><td>PlantGrowth                                                    </td><td>Results from an Experiment on Plant Growth                     </td></tr>\n",
       "\t<tr><td>datasets                                                       </td><td>Puromycin                                                      </td><td>Reaction Velocity of an Enzymatic Reaction                     </td></tr>\n",
       "\t<tr><td>datasets                                                       </td><td>Seatbelts                                                      </td><td>Road Casualties in Great Britain 1969-84                       </td></tr>\n",
       "\t<tr><td>datasets                                                       </td><td>Theoph                                                         </td><td>Pharmacokinetics of Theophylline                               </td></tr>\n",
       "\t<tr><td>datasets                                                       </td><td>Titanic                                                        </td><td>Survival of passengers on the Titanic                          </td></tr>\n",
       "\t<tr><td>datasets                                                       </td><td>ToothGrowth                                                    </td><td>The Effect of Vitamin C on Tooth Growth in Guinea Pigs         </td></tr>\n",
       "\t<tr><td>datasets                                                       </td><td>UCBAdmissions                                                  </td><td>Student Admissions at UC Berkeley                              </td></tr>\n",
       "\t<tr><td>datasets                                                       </td><td>UKDriverDeaths                                                 </td><td>Road Casualties in Great Britain 1969-84                       </td></tr>\n",
       "\t<tr><td>datasets                                                       </td><td>UKgas                                                          </td><td>UK Quarterly Gas Consumption                                   </td></tr>\n",
       "\t<tr><td>datasets                                                       </td><td>USAccDeaths                                                    </td><td>Accidental Deaths in the US 1973-1978                          </td></tr>\n",
       "\t<tr><td>datasets                                                       </td><td>USArrests                                                      </td><td>Violent Crime Rates by US State                                </td></tr>\n",
       "\t<tr><td>datasets                                                       </td><td>USJudgeRatings                                                 </td><td>Lawyers' Ratings of State Judges in the US Superior Court      </td></tr>\n",
       "\t<tr><td>datasets                                                       </td><td>USPersonalExpenditure                                          </td><td>Personal Expenditure Data                                      </td></tr>\n",
       "\t<tr><td>datasets                                                       </td><td>UScitiesD                                                      </td><td>Distances Between European Cities and Between US Cities        </td></tr>\n",
       "\t<tr><td>datasets                                                       </td><td>VADeaths                                                       </td><td>Death Rates in Virginia (1940)                                 </td></tr>\n",
       "\t<tr><td>datasets                                                       </td><td>WWWusage                                                       </td><td>Internet Usage per Minute                                      </td></tr>\n",
       "\t<tr><td>datasets                                                       </td><td>WorldPhones                                                    </td><td>The World's Telephones                                         </td></tr>\n",
       "\t<tr><td>datasets                                                       </td><td>ability.cov                                                    </td><td>Ability and Intelligence Tests                                 </td></tr>\n",
       "\t<tr><td>datasets                                                       </td><td>airmiles                                                       </td><td>Passenger Miles on Commercial US Airlines, 1937-1960           </td></tr>\n",
       "\t<tr><td>datasets                                                       </td><td>airquality                                                     </td><td>New York Air Quality Measurements                              </td></tr>\n",
       "\t<tr><td>datasets                                                       </td><td>anscombe                                                       </td><td>Anscombe's Quartet of 'Identical' Simple Linear Regressions    </td></tr>\n",
       "\t<tr><td>datasets                                                       </td><td>attenu                                                         </td><td>The Joyner-Boore Attenuation Data                              </td></tr>\n",
       "\t<tr><td>datasets                                                       </td><td>attitude                                                       </td><td>The Chatterjee-Price Attitude Data                             </td></tr>\n",
       "\t<tr><td>datasets                                                       </td><td>austres                                                        </td><td>Quarterly Time Series of the Number of Australian Residents    </td></tr>\n",
       "\t<tr><td>datasets                                                       </td><td>beaver1 (beavers)                                              </td><td>Body Temperature Series of Two Beavers                         </td></tr>\n",
       "\t<tr><td>datasets                                                       </td><td>beaver2 (beavers)                                              </td><td>Body Temperature Series of Two Beavers                         </td></tr>\n",
       "\t<tr><td>datasets                                                       </td><td>cars                                                           </td><td>Speed and Stopping Distances of Cars                           </td></tr>\n",
       "\t<tr><td>datasets                                                       </td><td>chickwts                                                       </td><td>Chicken Weights by Feed Type                                   </td></tr>\n",
       "\t<tr><td>datasets                                                       </td><td>co2                                                            </td><td>Mauna Loa Atmospheric CO2 Concentration                        </td></tr>\n",
       "\t<tr><td>datasets                                                       </td><td>crimtab                                                        </td><td>Student's 3000 Criminals Data                                  </td></tr>\n",
       "\t<tr><td>datasets                                                       </td><td>discoveries                                                    </td><td>Yearly Numbers of Important Discoveries                        </td></tr>\n",
       "\t<tr><td>datasets                                                       </td><td>esoph                                                          </td><td>Smoking, Alcohol and (O)esophageal Cancer                      </td></tr>\n",
       "\t<tr><td>datasets                                                       </td><td>euro                                                           </td><td>Conversion Rates of Euro Currencies                            </td></tr>\n",
       "\t<tr><td>datasets                                                       </td><td>euro.cross (euro)                                              </td><td>Conversion Rates of Euro Currencies                            </td></tr>\n",
       "\t<tr><td>datasets                                                       </td><td>eurodist                                                       </td><td>Distances Between European Cities and Between US Cities        </td></tr>\n",
       "\t<tr><td>datasets                                                       </td><td>faithful                                                       </td><td>Old Faithful Geyser Data                                       </td></tr>\n",
       "\t<tr><td>datasets                                                       </td><td>fdeaths (UKLungDeaths)                                         </td><td>Monthly Deaths from Lung Diseases in the UK                    </td></tr>\n",
       "\t<tr><td>datasets                                                       </td><td>freeny                                                         </td><td>Freeny's Revenue Data                                          </td></tr>\n",
       "\t<tr><td>datasets                                                       </td><td>freeny.x (freeny)                                              </td><td>Freeny's Revenue Data                                          </td></tr>\n",
       "\t<tr><td>datasets                                                       </td><td>freeny.y (freeny)                                              </td><td>Freeny's Revenue Data                                          </td></tr>\n",
       "\t<tr><td>datasets                                                       </td><td>infert                                                         </td><td>Infertility after Spontaneous and Induced Abortion             </td></tr>\n",
       "\t<tr><td>datasets                                                       </td><td>iris                                                           </td><td>Edgar Anderson's Iris Data                                     </td></tr>\n",
       "\t<tr><td>datasets                                                       </td><td>iris3                                                          </td><td>Edgar Anderson's Iris Data                                     </td></tr>\n",
       "\t<tr><td>datasets                                                       </td><td>islands                                                        </td><td>Areas of the World's Major Landmasses                          </td></tr>\n",
       "\t<tr><td>datasets                                                       </td><td>ldeaths (UKLungDeaths)                                         </td><td>Monthly Deaths from Lung Diseases in the UK                    </td></tr>\n",
       "\t<tr><td>datasets                                                       </td><td>lh                                                             </td><td>Luteinizing Hormone in Blood Samples                           </td></tr>\n",
       "\t<tr><td>datasets                                                       </td><td>longley                                                        </td><td>Longley's Economic Regression Data                             </td></tr>\n",
       "\t<tr><td>datasets                                                       </td><td>lynx                                                           </td><td>Annual Canadian Lynx trappings 1821-1934                       </td></tr>\n",
       "\t<tr><td>datasets                                                       </td><td>mdeaths (UKLungDeaths)                                         </td><td>Monthly Deaths from Lung Diseases in the UK                    </td></tr>\n",
       "\t<tr><td>datasets                                                       </td><td>morley                                                         </td><td>Michelson Speed of Light Data                                  </td></tr>\n",
       "\t<tr><td>datasets                                                       </td><td>mtcars                                                         </td><td>Motor Trend Car Road Tests                                     </td></tr>\n",
       "\t<tr><td>datasets                                                       </td><td>nhtemp                                                         </td><td>Average Yearly Temperatures in New Haven                       </td></tr>\n",
       "\t<tr><td>datasets                                                       </td><td>nottem                                                         </td><td>Average Monthly Temperatures at Nottingham, 1920-1939          </td></tr>\n",
       "\t<tr><td>datasets                                                       </td><td>npk                                                            </td><td>Classical N, P, K Factorial Experiment                         </td></tr>\n",
       "\t<tr><td>datasets                                                       </td><td>occupationalStatus                                             </td><td>Occupational Status of Fathers and their Sons                  </td></tr>\n",
       "\t<tr><td>datasets                                                       </td><td>precip                                                         </td><td>Annual Precipitation in US Cities                              </td></tr>\n",
       "\t<tr><td>datasets                                                       </td><td>presidents                                                     </td><td>Quarterly Approval Ratings of US Presidents                    </td></tr>\n",
       "\t<tr><td>datasets                                                       </td><td>pressure                                                       </td><td>Vapor Pressure of Mercury as a Function of Temperature         </td></tr>\n",
       "\t<tr><td>datasets                                                       </td><td>quakes                                                         </td><td>Locations of Earthquakes off Fiji                              </td></tr>\n",
       "\t<tr><td>datasets                                                       </td><td>randu                                                          </td><td>Random Numbers from Congruential Generator RANDU               </td></tr>\n",
       "\t<tr><td>datasets                                                       </td><td>rivers                                                         </td><td>Lengths of Major North American Rivers                         </td></tr>\n",
       "\t<tr><td>datasets                                                       </td><td>rock                                                           </td><td>Measurements on Petroleum Rock Samples                         </td></tr>\n",
       "\t<tr><td>datasets                                                       </td><td>sleep                                                          </td><td>Student's Sleep Data                                           </td></tr>\n",
       "\t<tr><td>datasets                                                       </td><td>stack.loss (stackloss)                                         </td><td>Brownlee's Stack Loss Plant Data                               </td></tr>\n",
       "\t<tr><td>datasets                                                       </td><td>stack.x (stackloss)                                            </td><td>Brownlee's Stack Loss Plant Data                               </td></tr>\n",
       "\t<tr><td>datasets                                                       </td><td>stackloss                                                      </td><td>Brownlee's Stack Loss Plant Data                               </td></tr>\n",
       "\t<tr><td>datasets                                                       </td><td>state.abb (state)                                              </td><td>US State Facts and Figures                                     </td></tr>\n",
       "\t<tr><td>datasets                                                       </td><td>state.area (state)                                             </td><td>US State Facts and Figures                                     </td></tr>\n",
       "\t<tr><td>datasets                                                       </td><td>state.center (state)                                           </td><td>US State Facts and Figures                                     </td></tr>\n",
       "\t<tr><td>datasets                                                       </td><td>state.division (state)                                         </td><td>US State Facts and Figures                                     </td></tr>\n",
       "\t<tr><td>datasets                                                       </td><td>state.name (state)                                             </td><td>US State Facts and Figures                                     </td></tr>\n",
       "\t<tr><td>datasets                                                       </td><td>state.region (state)                                           </td><td>US State Facts and Figures                                     </td></tr>\n",
       "\t<tr><td>datasets                                                       </td><td>state.x77 (state)                                              </td><td>US State Facts and Figures                                     </td></tr>\n",
       "\t<tr><td>datasets                                                       </td><td>sunspot.month                                                  </td><td>Monthly Sunspot Data, from 1749 to \"Present\"                   </td></tr>\n",
       "\t<tr><td>datasets                                                       </td><td>sunspot.year                                                   </td><td>Yearly Sunspot Data, 1700-1988                                 </td></tr>\n",
       "\t<tr><td>datasets                                                       </td><td>sunspots                                                       </td><td>Monthly Sunspot Numbers, 1749-1983                             </td></tr>\n",
       "\t<tr><td>datasets                                                       </td><td>swiss                                                          </td><td>Swiss Fertility and Socioeconomic Indicators (1888) Data       </td></tr>\n",
       "\t<tr><td>datasets                                                       </td><td>treering                                                       </td><td>Yearly Treering Data, -6000-1979                               </td></tr>\n",
       "\t<tr><td>datasets                                                       </td><td>trees                                                          </td><td>Diameter, Height and Volume for Black Cherry Trees             </td></tr>\n",
       "\t<tr><td>datasets                                                       </td><td>uspop                                                          </td><td>Populations Recorded by the US Census                          </td></tr>\n",
       "\t<tr><td>datasets                                                       </td><td>volcano                                                        </td><td>Topographic Information on Auckland's Maunga Whau Volcano      </td></tr>\n",
       "\t<tr><td>datasets                                                       </td><td>warpbreaks                                                     </td><td>The Number of Breaks in Yarn during Weaving                    </td></tr>\n",
       "\t<tr><td>datasets                                                       </td><td>women                                                          </td><td>Average Heights and Weights for American Women                 </td></tr>\n",
       "</tbody>\n",
       "</table>\n",
       "\n",
       "<p>Use 'data(package = .packages(all.available = TRUE))'\n",
       "to list the data sets in all *available* packages.</p>"
      ],
      "text/plain": [
       "Data sets in package 'datasets':\n",
       "\n",
       "AirPassengers           Monthly Airline Passenger Numbers 1949-1960\n",
       "BJsales                 Sales Data with Leading Indicator\n",
       "BJsales.lead (BJsales)\n",
       "                        Sales Data with Leading Indicator\n",
       "BOD                     Biochemical Oxygen Demand\n",
       "CO2                     Carbon Dioxide Uptake in Grass Plants\n",
       "ChickWeight             Weight versus age of chicks on different diets\n",
       "DNase                   Elisa assay of DNase\n",
       "EuStockMarkets          Daily Closing Prices of Major European Stock\n",
       "                        Indices, 1991-1998\n",
       "Formaldehyde            Determination of Formaldehyde\n",
       "HairEyeColor            Hair and Eye Color of Statistics Students\n",
       "Harman23.cor            Harman Example 2.3\n",
       "Harman74.cor            Harman Example 7.4\n",
       "Indometh                Pharmacokinetics of Indomethacin\n",
       "InsectSprays            Effectiveness of Insect Sprays\n",
       "JohnsonJohnson          Quarterly Earnings per Johnson & Johnson Share\n",
       "LakeHuron               Level of Lake Huron 1875-1972\n",
       "LifeCycleSavings        Intercountry Life-Cycle Savings Data\n",
       "Loblolly                Growth of Loblolly pine trees\n",
       "Nile                    Flow of the River Nile\n",
       "Orange                  Growth of Orange Trees\n",
       "OrchardSprays           Potency of Orchard Sprays\n",
       "PlantGrowth             Results from an Experiment on Plant Growth\n",
       "Puromycin               Reaction Velocity of an Enzymatic Reaction\n",
       "Seatbelts               Road Casualties in Great Britain 1969-84\n",
       "Theoph                  Pharmacokinetics of Theophylline\n",
       "Titanic                 Survival of passengers on the Titanic\n",
       "ToothGrowth             The Effect of Vitamin C on Tooth Growth in\n",
       "                        Guinea Pigs\n",
       "UCBAdmissions           Student Admissions at UC Berkeley\n",
       "UKDriverDeaths          Road Casualties in Great Britain 1969-84\n",
       "UKgas                   UK Quarterly Gas Consumption\n",
       "USAccDeaths             Accidental Deaths in the US 1973-1978\n",
       "USArrests               Violent Crime Rates by US State\n",
       "USJudgeRatings          Lawyers' Ratings of State Judges in the US\n",
       "                        Superior Court\n",
       "USPersonalExpenditure   Personal Expenditure Data\n",
       "UScitiesD               Distances Between European Cities and Between\n",
       "                        US Cities\n",
       "VADeaths                Death Rates in Virginia (1940)\n",
       "WWWusage                Internet Usage per Minute\n",
       "WorldPhones             The World's Telephones\n",
       "ability.cov             Ability and Intelligence Tests\n",
       "airmiles                Passenger Miles on Commercial US Airlines,\n",
       "                        1937-1960\n",
       "airquality              New York Air Quality Measurements\n",
       "anscombe                Anscombe's Quartet of 'Identical' Simple Linear\n",
       "                        Regressions\n",
       "attenu                  The Joyner-Boore Attenuation Data\n",
       "attitude                The Chatterjee-Price Attitude Data\n",
       "austres                 Quarterly Time Series of the Number of\n",
       "                        Australian Residents\n",
       "beaver1 (beavers)       Body Temperature Series of Two Beavers\n",
       "beaver2 (beavers)       Body Temperature Series of Two Beavers\n",
       "cars                    Speed and Stopping Distances of Cars\n",
       "chickwts                Chicken Weights by Feed Type\n",
       "co2                     Mauna Loa Atmospheric CO2 Concentration\n",
       "crimtab                 Student's 3000 Criminals Data\n",
       "discoveries             Yearly Numbers of Important Discoveries\n",
       "esoph                   Smoking, Alcohol and (O)esophageal Cancer\n",
       "euro                    Conversion Rates of Euro Currencies\n",
       "euro.cross (euro)       Conversion Rates of Euro Currencies\n",
       "eurodist                Distances Between European Cities and Between\n",
       "                        US Cities\n",
       "faithful                Old Faithful Geyser Data\n",
       "fdeaths (UKLungDeaths)\n",
       "                        Monthly Deaths from Lung Diseases in the UK\n",
       "freeny                  Freeny's Revenue Data\n",
       "freeny.x (freeny)       Freeny's Revenue Data\n",
       "freeny.y (freeny)       Freeny's Revenue Data\n",
       "infert                  Infertility after Spontaneous and Induced\n",
       "                        Abortion\n",
       "iris                    Edgar Anderson's Iris Data\n",
       "iris3                   Edgar Anderson's Iris Data\n",
       "islands                 Areas of the World's Major Landmasses\n",
       "ldeaths (UKLungDeaths)\n",
       "                        Monthly Deaths from Lung Diseases in the UK\n",
       "lh                      Luteinizing Hormone in Blood Samples\n",
       "longley                 Longley's Economic Regression Data\n",
       "lynx                    Annual Canadian Lynx trappings 1821-1934\n",
       "mdeaths (UKLungDeaths)\n",
       "                        Monthly Deaths from Lung Diseases in the UK\n",
       "morley                  Michelson Speed of Light Data\n",
       "mtcars                  Motor Trend Car Road Tests\n",
       "nhtemp                  Average Yearly Temperatures in New Haven\n",
       "nottem                  Average Monthly Temperatures at Nottingham,\n",
       "                        1920-1939\n",
       "npk                     Classical N, P, K Factorial Experiment\n",
       "occupationalStatus      Occupational Status of Fathers and their Sons\n",
       "precip                  Annual Precipitation in US Cities\n",
       "presidents              Quarterly Approval Ratings of US Presidents\n",
       "pressure                Vapor Pressure of Mercury as a Function of\n",
       "                        Temperature\n",
       "quakes                  Locations of Earthquakes off Fiji\n",
       "randu                   Random Numbers from Congruential Generator\n",
       "                        RANDU\n",
       "rivers                  Lengths of Major North American Rivers\n",
       "rock                    Measurements on Petroleum Rock Samples\n",
       "sleep                   Student's Sleep Data\n",
       "stack.loss (stackloss)\n",
       "                        Brownlee's Stack Loss Plant Data\n",
       "stack.x (stackloss)     Brownlee's Stack Loss Plant Data\n",
       "stackloss               Brownlee's Stack Loss Plant Data\n",
       "state.abb (state)       US State Facts and Figures\n",
       "state.area (state)      US State Facts and Figures\n",
       "state.center (state)    US State Facts and Figures\n",
       "state.division (state)\n",
       "                        US State Facts and Figures\n",
       "state.name (state)      US State Facts and Figures\n",
       "state.region (state)    US State Facts and Figures\n",
       "state.x77 (state)       US State Facts and Figures\n",
       "sunspot.month           Monthly Sunspot Data, from 1749 to \"Present\"\n",
       "sunspot.year            Yearly Sunspot Data, 1700-1988\n",
       "sunspots                Monthly Sunspot Numbers, 1749-1983\n",
       "swiss                   Swiss Fertility and Socioeconomic Indicators\n",
       "                        (1888) Data\n",
       "treering                Yearly Treering Data, -6000-1979\n",
       "trees                   Diameter, Height and Volume for Black Cherry\n",
       "                        Trees\n",
       "uspop                   Populations Recorded by the US Census\n",
       "volcano                 Topographic Information on Auckland's Maunga\n",
       "                        Whau Volcano\n",
       "warpbreaks              The Number of Breaks in Yarn during Weaving\n",
       "women                   Average Heights and Weights for American Women\n",
       "\n",
       "Use 'data(package = .packages(all.available = TRUE))'\n",
       "to list the data sets in all *available* packages."
      ]
     },
     "metadata": {},
     "output_type": "display_data"
    }
   ],
   "source": [
    "# Displays a list of the inbuilt datasets. Opens in a new \"window\".\n",
    "data()"
   ]
  },
  {
   "cell_type": "markdown",
   "metadata": {
    "id": "BdsKyj4A4Qni"
   },
   "source": [
    "As you can see, there are many different datasets already inbuilt in the R environment. Having to go through each of them to take a look at their structure and try to find out what they represent might be very tiring. Thankfully, R has documentation present for each inbuilt dataset. You can take a look at that by using the `help` function.\n",
    "\n",
    "For example, if we want to know more about the `women` dataset, we can use the following function:\n"
   ]
  },
  {
   "cell_type": "code",
   "execution_count": 24,
   "metadata": {
    "executionInfo": {
     "elapsed": 546,
     "status": "ok",
     "timestamp": 1715051023208,
     "user": {
      "displayName": "Huy Hoàng",
      "userId": "01332833307816836629"
     },
     "user_tz": -420
    },
    "id": "gveSRR064Qni",
    "vscode": {
     "languageId": "r"
    }
   },
   "outputs": [],
   "source": [
    "# Opens up the documentation for the inbuilt \"women\" dataset.\n",
    "help(women)"
   ]
  },
  {
   "cell_type": "markdown",
   "metadata": {
    "id": "HC3np_eK4Qni"
   },
   "source": [
    "Since the datasets listed are inbuilt, you do not need to import or load them to use them. If you reference them by their name, R already has the data frame ready.\n"
   ]
  },
  {
   "cell_type": "code",
   "execution_count": 25,
   "metadata": {
    "colab": {
     "base_uri": "https://localhost:8080/",
     "height": 585
    },
    "executionInfo": {
     "elapsed": 657,
     "status": "ok",
     "timestamp": 1715051028973,
     "user": {
      "displayName": "Huy Hoàng",
      "userId": "01332833307816836629"
     },
     "user_tz": -420
    },
    "id": "zK5gWZOk4Qni",
    "outputId": "7cc54dac-efe6-44d2-a4bc-63c517e28766",
    "vscode": {
     "languageId": "r"
    }
   },
   "outputs": [
    {
     "data": {
      "text/html": [
       "<table class=\"dataframe\">\n",
       "<caption>A data.frame: 15 × 2</caption>\n",
       "<thead>\n",
       "\t<tr><th scope=col>height</th><th scope=col>weight</th></tr>\n",
       "\t<tr><th scope=col>&lt;dbl&gt;</th><th scope=col>&lt;dbl&gt;</th></tr>\n",
       "</thead>\n",
       "<tbody>\n",
       "\t<tr><td>58</td><td>115</td></tr>\n",
       "\t<tr><td>59</td><td>117</td></tr>\n",
       "\t<tr><td>60</td><td>120</td></tr>\n",
       "\t<tr><td>61</td><td>123</td></tr>\n",
       "\t<tr><td>62</td><td>126</td></tr>\n",
       "\t<tr><td>63</td><td>129</td></tr>\n",
       "\t<tr><td>64</td><td>132</td></tr>\n",
       "\t<tr><td>65</td><td>135</td></tr>\n",
       "\t<tr><td>66</td><td>139</td></tr>\n",
       "\t<tr><td>67</td><td>142</td></tr>\n",
       "\t<tr><td>68</td><td>146</td></tr>\n",
       "\t<tr><td>69</td><td>150</td></tr>\n",
       "\t<tr><td>70</td><td>154</td></tr>\n",
       "\t<tr><td>71</td><td>159</td></tr>\n",
       "\t<tr><td>72</td><td>164</td></tr>\n",
       "</tbody>\n",
       "</table>\n"
      ],
      "text/latex": [
       "A data.frame: 15 × 2\n",
       "\\begin{tabular}{ll}\n",
       " height & weight\\\\\n",
       " <dbl> & <dbl>\\\\\n",
       "\\hline\n",
       "\t 58 & 115\\\\\n",
       "\t 59 & 117\\\\\n",
       "\t 60 & 120\\\\\n",
       "\t 61 & 123\\\\\n",
       "\t 62 & 126\\\\\n",
       "\t 63 & 129\\\\\n",
       "\t 64 & 132\\\\\n",
       "\t 65 & 135\\\\\n",
       "\t 66 & 139\\\\\n",
       "\t 67 & 142\\\\\n",
       "\t 68 & 146\\\\\n",
       "\t 69 & 150\\\\\n",
       "\t 70 & 154\\\\\n",
       "\t 71 & 159\\\\\n",
       "\t 72 & 164\\\\\n",
       "\\end{tabular}\n"
      ],
      "text/markdown": [
       "\n",
       "A data.frame: 15 × 2\n",
       "\n",
       "| height &lt;dbl&gt; | weight &lt;dbl&gt; |\n",
       "|---|---|\n",
       "| 58 | 115 |\n",
       "| 59 | 117 |\n",
       "| 60 | 120 |\n",
       "| 61 | 123 |\n",
       "| 62 | 126 |\n",
       "| 63 | 129 |\n",
       "| 64 | 132 |\n",
       "| 65 | 135 |\n",
       "| 66 | 139 |\n",
       "| 67 | 142 |\n",
       "| 68 | 146 |\n",
       "| 69 | 150 |\n",
       "| 70 | 154 |\n",
       "| 71 | 159 |\n",
       "| 72 | 164 |\n",
       "\n"
      ],
      "text/plain": [
       "   height weight\n",
       "1  58     115   \n",
       "2  59     117   \n",
       "3  60     120   \n",
       "4  61     123   \n",
       "5  62     126   \n",
       "6  63     129   \n",
       "7  64     132   \n",
       "8  65     135   \n",
       "9  66     139   \n",
       "10 67     142   \n",
       "11 68     146   \n",
       "12 69     150   \n",
       "13 70     154   \n",
       "14 71     159   \n",
       "15 72     164   "
      ]
     },
     "metadata": {},
     "output_type": "display_data"
    }
   ],
   "source": [
    "women"
   ]
  },
  {
   "cell_type": "markdown",
   "metadata": {
    "id": "LUnVEPzN4Qni"
   },
   "source": [
    "<hr>\n",
    "\n",
    "**Coding Exercise:** in the code cell below, get the CO2 dataset\n"
   ]
  },
  {
   "cell_type": "code",
   "execution_count": 26,
   "metadata": {
    "colab": {
     "base_uri": "https://localhost:8080/",
     "height": 1000
    },
    "executionInfo": {
     "elapsed": 442,
     "status": "ok",
     "timestamp": 1715051068188,
     "user": {
      "displayName": "Huy Hoàng",
      "userId": "01332833307816836629"
     },
     "user_tz": -420
    },
    "id": "E3kMM_CB4Qni",
    "outputId": "f0bd41c8-cf11-4044-914e-5e75bf296eef",
    "vscode": {
     "languageId": "r"
    }
   },
   "outputs": [
    {
     "name": "stderr",
     "output_type": "stream",
     "text": [
      "Warning message in data(C02):\n",
      "“data set ‘C02’ not found”\n"
     ]
    },
    {
     "data": {
      "text/html": [
       "<table class=\"dataframe\">\n",
       "<caption>A nfnGroupedData: 84 × 5</caption>\n",
       "<thead>\n",
       "\t<tr><th></th><th scope=col>Plant</th><th scope=col>Type</th><th scope=col>Treatment</th><th scope=col>conc</th><th scope=col>uptake</th></tr>\n",
       "\t<tr><th></th><th scope=col>&lt;ord&gt;</th><th scope=col>&lt;fct&gt;</th><th scope=col>&lt;fct&gt;</th><th scope=col>&lt;dbl&gt;</th><th scope=col>&lt;dbl&gt;</th></tr>\n",
       "</thead>\n",
       "<tbody>\n",
       "\t<tr><th scope=row>1</th><td>Qn1</td><td>Quebec</td><td>nonchilled</td><td>  95</td><td>16.0</td></tr>\n",
       "\t<tr><th scope=row>2</th><td>Qn1</td><td>Quebec</td><td>nonchilled</td><td> 175</td><td>30.4</td></tr>\n",
       "\t<tr><th scope=row>3</th><td>Qn1</td><td>Quebec</td><td>nonchilled</td><td> 250</td><td>34.8</td></tr>\n",
       "\t<tr><th scope=row>4</th><td>Qn1</td><td>Quebec</td><td>nonchilled</td><td> 350</td><td>37.2</td></tr>\n",
       "\t<tr><th scope=row>5</th><td>Qn1</td><td>Quebec</td><td>nonchilled</td><td> 500</td><td>35.3</td></tr>\n",
       "\t<tr><th scope=row>6</th><td>Qn1</td><td>Quebec</td><td>nonchilled</td><td> 675</td><td>39.2</td></tr>\n",
       "\t<tr><th scope=row>7</th><td>Qn1</td><td>Quebec</td><td>nonchilled</td><td>1000</td><td>39.7</td></tr>\n",
       "\t<tr><th scope=row>8</th><td>Qn2</td><td>Quebec</td><td>nonchilled</td><td>  95</td><td>13.6</td></tr>\n",
       "\t<tr><th scope=row>9</th><td>Qn2</td><td>Quebec</td><td>nonchilled</td><td> 175</td><td>27.3</td></tr>\n",
       "\t<tr><th scope=row>10</th><td>Qn2</td><td>Quebec</td><td>nonchilled</td><td> 250</td><td>37.1</td></tr>\n",
       "\t<tr><th scope=row>11</th><td>Qn2</td><td>Quebec</td><td>nonchilled</td><td> 350</td><td>41.8</td></tr>\n",
       "\t<tr><th scope=row>12</th><td>Qn2</td><td>Quebec</td><td>nonchilled</td><td> 500</td><td>40.6</td></tr>\n",
       "\t<tr><th scope=row>13</th><td>Qn2</td><td>Quebec</td><td>nonchilled</td><td> 675</td><td>41.4</td></tr>\n",
       "\t<tr><th scope=row>14</th><td>Qn2</td><td>Quebec</td><td>nonchilled</td><td>1000</td><td>44.3</td></tr>\n",
       "\t<tr><th scope=row>15</th><td>Qn3</td><td>Quebec</td><td>nonchilled</td><td>  95</td><td>16.2</td></tr>\n",
       "\t<tr><th scope=row>16</th><td>Qn3</td><td>Quebec</td><td>nonchilled</td><td> 175</td><td>32.4</td></tr>\n",
       "\t<tr><th scope=row>17</th><td>Qn3</td><td>Quebec</td><td>nonchilled</td><td> 250</td><td>40.3</td></tr>\n",
       "\t<tr><th scope=row>18</th><td>Qn3</td><td>Quebec</td><td>nonchilled</td><td> 350</td><td>42.1</td></tr>\n",
       "\t<tr><th scope=row>19</th><td>Qn3</td><td>Quebec</td><td>nonchilled</td><td> 500</td><td>42.9</td></tr>\n",
       "\t<tr><th scope=row>20</th><td>Qn3</td><td>Quebec</td><td>nonchilled</td><td> 675</td><td>43.9</td></tr>\n",
       "\t<tr><th scope=row>21</th><td>Qn3</td><td>Quebec</td><td>nonchilled</td><td>1000</td><td>45.5</td></tr>\n",
       "\t<tr><th scope=row>22</th><td>Qc1</td><td>Quebec</td><td>chilled   </td><td>  95</td><td>14.2</td></tr>\n",
       "\t<tr><th scope=row>23</th><td>Qc1</td><td>Quebec</td><td>chilled   </td><td> 175</td><td>24.1</td></tr>\n",
       "\t<tr><th scope=row>24</th><td>Qc1</td><td>Quebec</td><td>chilled   </td><td> 250</td><td>30.3</td></tr>\n",
       "\t<tr><th scope=row>25</th><td>Qc1</td><td>Quebec</td><td>chilled   </td><td> 350</td><td>34.6</td></tr>\n",
       "\t<tr><th scope=row>26</th><td>Qc1</td><td>Quebec</td><td>chilled   </td><td> 500</td><td>32.5</td></tr>\n",
       "\t<tr><th scope=row>27</th><td>Qc1</td><td>Quebec</td><td>chilled   </td><td> 675</td><td>35.4</td></tr>\n",
       "\t<tr><th scope=row>28</th><td>Qc1</td><td>Quebec</td><td>chilled   </td><td>1000</td><td>38.7</td></tr>\n",
       "\t<tr><th scope=row>29</th><td>Qc2</td><td>Quebec</td><td>chilled   </td><td>  95</td><td> 9.3</td></tr>\n",
       "\t<tr><th scope=row>30</th><td>Qc2</td><td>Quebec</td><td>chilled   </td><td> 175</td><td>27.3</td></tr>\n",
       "\t<tr><th scope=row>⋮</th><td>⋮</td><td>⋮</td><td>⋮</td><td>⋮</td><td>⋮</td></tr>\n",
       "\t<tr><th scope=row>55</th><td>Mn2</td><td>Mississippi</td><td>nonchilled</td><td> 675</td><td>31.1</td></tr>\n",
       "\t<tr><th scope=row>56</th><td>Mn2</td><td>Mississippi</td><td>nonchilled</td><td>1000</td><td>31.5</td></tr>\n",
       "\t<tr><th scope=row>57</th><td>Mn3</td><td>Mississippi</td><td>nonchilled</td><td>  95</td><td>11.3</td></tr>\n",
       "\t<tr><th scope=row>58</th><td>Mn3</td><td>Mississippi</td><td>nonchilled</td><td> 175</td><td>19.4</td></tr>\n",
       "\t<tr><th scope=row>59</th><td>Mn3</td><td>Mississippi</td><td>nonchilled</td><td> 250</td><td>25.8</td></tr>\n",
       "\t<tr><th scope=row>60</th><td>Mn3</td><td>Mississippi</td><td>nonchilled</td><td> 350</td><td>27.9</td></tr>\n",
       "\t<tr><th scope=row>61</th><td>Mn3</td><td>Mississippi</td><td>nonchilled</td><td> 500</td><td>28.5</td></tr>\n",
       "\t<tr><th scope=row>62</th><td>Mn3</td><td>Mississippi</td><td>nonchilled</td><td> 675</td><td>28.1</td></tr>\n",
       "\t<tr><th scope=row>63</th><td>Mn3</td><td>Mississippi</td><td>nonchilled</td><td>1000</td><td>27.8</td></tr>\n",
       "\t<tr><th scope=row>64</th><td>Mc1</td><td>Mississippi</td><td>chilled   </td><td>  95</td><td>10.5</td></tr>\n",
       "\t<tr><th scope=row>65</th><td>Mc1</td><td>Mississippi</td><td>chilled   </td><td> 175</td><td>14.9</td></tr>\n",
       "\t<tr><th scope=row>66</th><td>Mc1</td><td>Mississippi</td><td>chilled   </td><td> 250</td><td>18.1</td></tr>\n",
       "\t<tr><th scope=row>67</th><td>Mc1</td><td>Mississippi</td><td>chilled   </td><td> 350</td><td>18.9</td></tr>\n",
       "\t<tr><th scope=row>68</th><td>Mc1</td><td>Mississippi</td><td>chilled   </td><td> 500</td><td>19.5</td></tr>\n",
       "\t<tr><th scope=row>69</th><td>Mc1</td><td>Mississippi</td><td>chilled   </td><td> 675</td><td>22.2</td></tr>\n",
       "\t<tr><th scope=row>70</th><td>Mc1</td><td>Mississippi</td><td>chilled   </td><td>1000</td><td>21.9</td></tr>\n",
       "\t<tr><th scope=row>71</th><td>Mc2</td><td>Mississippi</td><td>chilled   </td><td>  95</td><td> 7.7</td></tr>\n",
       "\t<tr><th scope=row>72</th><td>Mc2</td><td>Mississippi</td><td>chilled   </td><td> 175</td><td>11.4</td></tr>\n",
       "\t<tr><th scope=row>73</th><td>Mc2</td><td>Mississippi</td><td>chilled   </td><td> 250</td><td>12.3</td></tr>\n",
       "\t<tr><th scope=row>74</th><td>Mc2</td><td>Mississippi</td><td>chilled   </td><td> 350</td><td>13.0</td></tr>\n",
       "\t<tr><th scope=row>75</th><td>Mc2</td><td>Mississippi</td><td>chilled   </td><td> 500</td><td>12.5</td></tr>\n",
       "\t<tr><th scope=row>76</th><td>Mc2</td><td>Mississippi</td><td>chilled   </td><td> 675</td><td>13.7</td></tr>\n",
       "\t<tr><th scope=row>77</th><td>Mc2</td><td>Mississippi</td><td>chilled   </td><td>1000</td><td>14.4</td></tr>\n",
       "\t<tr><th scope=row>78</th><td>Mc3</td><td>Mississippi</td><td>chilled   </td><td>  95</td><td>10.6</td></tr>\n",
       "\t<tr><th scope=row>79</th><td>Mc3</td><td>Mississippi</td><td>chilled   </td><td> 175</td><td>18.0</td></tr>\n",
       "\t<tr><th scope=row>80</th><td>Mc3</td><td>Mississippi</td><td>chilled   </td><td> 250</td><td>17.9</td></tr>\n",
       "\t<tr><th scope=row>81</th><td>Mc3</td><td>Mississippi</td><td>chilled   </td><td> 350</td><td>17.9</td></tr>\n",
       "\t<tr><th scope=row>82</th><td>Mc3</td><td>Mississippi</td><td>chilled   </td><td> 500</td><td>17.9</td></tr>\n",
       "\t<tr><th scope=row>83</th><td>Mc3</td><td>Mississippi</td><td>chilled   </td><td> 675</td><td>18.9</td></tr>\n",
       "\t<tr><th scope=row>84</th><td>Mc3</td><td>Mississippi</td><td>chilled   </td><td>1000</td><td>19.9</td></tr>\n",
       "</tbody>\n",
       "</table>\n"
      ],
      "text/latex": [
       "A nfnGroupedData: 84 × 5\n",
       "\\begin{tabular}{r|lllll}\n",
       "  & Plant & Type & Treatment & conc & uptake\\\\\n",
       "  & <ord> & <fct> & <fct> & <dbl> & <dbl>\\\\\n",
       "\\hline\n",
       "\t1 & Qn1 & Quebec & nonchilled &   95 & 16.0\\\\\n",
       "\t2 & Qn1 & Quebec & nonchilled &  175 & 30.4\\\\\n",
       "\t3 & Qn1 & Quebec & nonchilled &  250 & 34.8\\\\\n",
       "\t4 & Qn1 & Quebec & nonchilled &  350 & 37.2\\\\\n",
       "\t5 & Qn1 & Quebec & nonchilled &  500 & 35.3\\\\\n",
       "\t6 & Qn1 & Quebec & nonchilled &  675 & 39.2\\\\\n",
       "\t7 & Qn1 & Quebec & nonchilled & 1000 & 39.7\\\\\n",
       "\t8 & Qn2 & Quebec & nonchilled &   95 & 13.6\\\\\n",
       "\t9 & Qn2 & Quebec & nonchilled &  175 & 27.3\\\\\n",
       "\t10 & Qn2 & Quebec & nonchilled &  250 & 37.1\\\\\n",
       "\t11 & Qn2 & Quebec & nonchilled &  350 & 41.8\\\\\n",
       "\t12 & Qn2 & Quebec & nonchilled &  500 & 40.6\\\\\n",
       "\t13 & Qn2 & Quebec & nonchilled &  675 & 41.4\\\\\n",
       "\t14 & Qn2 & Quebec & nonchilled & 1000 & 44.3\\\\\n",
       "\t15 & Qn3 & Quebec & nonchilled &   95 & 16.2\\\\\n",
       "\t16 & Qn3 & Quebec & nonchilled &  175 & 32.4\\\\\n",
       "\t17 & Qn3 & Quebec & nonchilled &  250 & 40.3\\\\\n",
       "\t18 & Qn3 & Quebec & nonchilled &  350 & 42.1\\\\\n",
       "\t19 & Qn3 & Quebec & nonchilled &  500 & 42.9\\\\\n",
       "\t20 & Qn3 & Quebec & nonchilled &  675 & 43.9\\\\\n",
       "\t21 & Qn3 & Quebec & nonchilled & 1000 & 45.5\\\\\n",
       "\t22 & Qc1 & Quebec & chilled    &   95 & 14.2\\\\\n",
       "\t23 & Qc1 & Quebec & chilled    &  175 & 24.1\\\\\n",
       "\t24 & Qc1 & Quebec & chilled    &  250 & 30.3\\\\\n",
       "\t25 & Qc1 & Quebec & chilled    &  350 & 34.6\\\\\n",
       "\t26 & Qc1 & Quebec & chilled    &  500 & 32.5\\\\\n",
       "\t27 & Qc1 & Quebec & chilled    &  675 & 35.4\\\\\n",
       "\t28 & Qc1 & Quebec & chilled    & 1000 & 38.7\\\\\n",
       "\t29 & Qc2 & Quebec & chilled    &   95 &  9.3\\\\\n",
       "\t30 & Qc2 & Quebec & chilled    &  175 & 27.3\\\\\n",
       "\t⋮ & ⋮ & ⋮ & ⋮ & ⋮ & ⋮\\\\\n",
       "\t55 & Mn2 & Mississippi & nonchilled &  675 & 31.1\\\\\n",
       "\t56 & Mn2 & Mississippi & nonchilled & 1000 & 31.5\\\\\n",
       "\t57 & Mn3 & Mississippi & nonchilled &   95 & 11.3\\\\\n",
       "\t58 & Mn3 & Mississippi & nonchilled &  175 & 19.4\\\\\n",
       "\t59 & Mn3 & Mississippi & nonchilled &  250 & 25.8\\\\\n",
       "\t60 & Mn3 & Mississippi & nonchilled &  350 & 27.9\\\\\n",
       "\t61 & Mn3 & Mississippi & nonchilled &  500 & 28.5\\\\\n",
       "\t62 & Mn3 & Mississippi & nonchilled &  675 & 28.1\\\\\n",
       "\t63 & Mn3 & Mississippi & nonchilled & 1000 & 27.8\\\\\n",
       "\t64 & Mc1 & Mississippi & chilled    &   95 & 10.5\\\\\n",
       "\t65 & Mc1 & Mississippi & chilled    &  175 & 14.9\\\\\n",
       "\t66 & Mc1 & Mississippi & chilled    &  250 & 18.1\\\\\n",
       "\t67 & Mc1 & Mississippi & chilled    &  350 & 18.9\\\\\n",
       "\t68 & Mc1 & Mississippi & chilled    &  500 & 19.5\\\\\n",
       "\t69 & Mc1 & Mississippi & chilled    &  675 & 22.2\\\\\n",
       "\t70 & Mc1 & Mississippi & chilled    & 1000 & 21.9\\\\\n",
       "\t71 & Mc2 & Mississippi & chilled    &   95 &  7.7\\\\\n",
       "\t72 & Mc2 & Mississippi & chilled    &  175 & 11.4\\\\\n",
       "\t73 & Mc2 & Mississippi & chilled    &  250 & 12.3\\\\\n",
       "\t74 & Mc2 & Mississippi & chilled    &  350 & 13.0\\\\\n",
       "\t75 & Mc2 & Mississippi & chilled    &  500 & 12.5\\\\\n",
       "\t76 & Mc2 & Mississippi & chilled    &  675 & 13.7\\\\\n",
       "\t77 & Mc2 & Mississippi & chilled    & 1000 & 14.4\\\\\n",
       "\t78 & Mc3 & Mississippi & chilled    &   95 & 10.6\\\\\n",
       "\t79 & Mc3 & Mississippi & chilled    &  175 & 18.0\\\\\n",
       "\t80 & Mc3 & Mississippi & chilled    &  250 & 17.9\\\\\n",
       "\t81 & Mc3 & Mississippi & chilled    &  350 & 17.9\\\\\n",
       "\t82 & Mc3 & Mississippi & chilled    &  500 & 17.9\\\\\n",
       "\t83 & Mc3 & Mississippi & chilled    &  675 & 18.9\\\\\n",
       "\t84 & Mc3 & Mississippi & chilled    & 1000 & 19.9\\\\\n",
       "\\end{tabular}\n"
      ],
      "text/markdown": [
       "\n",
       "A nfnGroupedData: 84 × 5\n",
       "\n",
       "| <!--/--> | Plant &lt;ord&gt; | Type &lt;fct&gt; | Treatment &lt;fct&gt; | conc &lt;dbl&gt; | uptake &lt;dbl&gt; |\n",
       "|---|---|---|---|---|---|\n",
       "| 1 | Qn1 | Quebec | nonchilled |   95 | 16.0 |\n",
       "| 2 | Qn1 | Quebec | nonchilled |  175 | 30.4 |\n",
       "| 3 | Qn1 | Quebec | nonchilled |  250 | 34.8 |\n",
       "| 4 | Qn1 | Quebec | nonchilled |  350 | 37.2 |\n",
       "| 5 | Qn1 | Quebec | nonchilled |  500 | 35.3 |\n",
       "| 6 | Qn1 | Quebec | nonchilled |  675 | 39.2 |\n",
       "| 7 | Qn1 | Quebec | nonchilled | 1000 | 39.7 |\n",
       "| 8 | Qn2 | Quebec | nonchilled |   95 | 13.6 |\n",
       "| 9 | Qn2 | Quebec | nonchilled |  175 | 27.3 |\n",
       "| 10 | Qn2 | Quebec | nonchilled |  250 | 37.1 |\n",
       "| 11 | Qn2 | Quebec | nonchilled |  350 | 41.8 |\n",
       "| 12 | Qn2 | Quebec | nonchilled |  500 | 40.6 |\n",
       "| 13 | Qn2 | Quebec | nonchilled |  675 | 41.4 |\n",
       "| 14 | Qn2 | Quebec | nonchilled | 1000 | 44.3 |\n",
       "| 15 | Qn3 | Quebec | nonchilled |   95 | 16.2 |\n",
       "| 16 | Qn3 | Quebec | nonchilled |  175 | 32.4 |\n",
       "| 17 | Qn3 | Quebec | nonchilled |  250 | 40.3 |\n",
       "| 18 | Qn3 | Quebec | nonchilled |  350 | 42.1 |\n",
       "| 19 | Qn3 | Quebec | nonchilled |  500 | 42.9 |\n",
       "| 20 | Qn3 | Quebec | nonchilled |  675 | 43.9 |\n",
       "| 21 | Qn3 | Quebec | nonchilled | 1000 | 45.5 |\n",
       "| 22 | Qc1 | Quebec | chilled    |   95 | 14.2 |\n",
       "| 23 | Qc1 | Quebec | chilled    |  175 | 24.1 |\n",
       "| 24 | Qc1 | Quebec | chilled    |  250 | 30.3 |\n",
       "| 25 | Qc1 | Quebec | chilled    |  350 | 34.6 |\n",
       "| 26 | Qc1 | Quebec | chilled    |  500 | 32.5 |\n",
       "| 27 | Qc1 | Quebec | chilled    |  675 | 35.4 |\n",
       "| 28 | Qc1 | Quebec | chilled    | 1000 | 38.7 |\n",
       "| 29 | Qc2 | Quebec | chilled    |   95 |  9.3 |\n",
       "| 30 | Qc2 | Quebec | chilled    |  175 | 27.3 |\n",
       "| ⋮ | ⋮ | ⋮ | ⋮ | ⋮ | ⋮ |\n",
       "| 55 | Mn2 | Mississippi | nonchilled |  675 | 31.1 |\n",
       "| 56 | Mn2 | Mississippi | nonchilled | 1000 | 31.5 |\n",
       "| 57 | Mn3 | Mississippi | nonchilled |   95 | 11.3 |\n",
       "| 58 | Mn3 | Mississippi | nonchilled |  175 | 19.4 |\n",
       "| 59 | Mn3 | Mississippi | nonchilled |  250 | 25.8 |\n",
       "| 60 | Mn3 | Mississippi | nonchilled |  350 | 27.9 |\n",
       "| 61 | Mn3 | Mississippi | nonchilled |  500 | 28.5 |\n",
       "| 62 | Mn3 | Mississippi | nonchilled |  675 | 28.1 |\n",
       "| 63 | Mn3 | Mississippi | nonchilled | 1000 | 27.8 |\n",
       "| 64 | Mc1 | Mississippi | chilled    |   95 | 10.5 |\n",
       "| 65 | Mc1 | Mississippi | chilled    |  175 | 14.9 |\n",
       "| 66 | Mc1 | Mississippi | chilled    |  250 | 18.1 |\n",
       "| 67 | Mc1 | Mississippi | chilled    |  350 | 18.9 |\n",
       "| 68 | Mc1 | Mississippi | chilled    |  500 | 19.5 |\n",
       "| 69 | Mc1 | Mississippi | chilled    |  675 | 22.2 |\n",
       "| 70 | Mc1 | Mississippi | chilled    | 1000 | 21.9 |\n",
       "| 71 | Mc2 | Mississippi | chilled    |   95 |  7.7 |\n",
       "| 72 | Mc2 | Mississippi | chilled    |  175 | 11.4 |\n",
       "| 73 | Mc2 | Mississippi | chilled    |  250 | 12.3 |\n",
       "| 74 | Mc2 | Mississippi | chilled    |  350 | 13.0 |\n",
       "| 75 | Mc2 | Mississippi | chilled    |  500 | 12.5 |\n",
       "| 76 | Mc2 | Mississippi | chilled    |  675 | 13.7 |\n",
       "| 77 | Mc2 | Mississippi | chilled    | 1000 | 14.4 |\n",
       "| 78 | Mc3 | Mississippi | chilled    |   95 | 10.6 |\n",
       "| 79 | Mc3 | Mississippi | chilled    |  175 | 18.0 |\n",
       "| 80 | Mc3 | Mississippi | chilled    |  250 | 17.9 |\n",
       "| 81 | Mc3 | Mississippi | chilled    |  350 | 17.9 |\n",
       "| 82 | Mc3 | Mississippi | chilled    |  500 | 17.9 |\n",
       "| 83 | Mc3 | Mississippi | chilled    |  675 | 18.9 |\n",
       "| 84 | Mc3 | Mississippi | chilled    | 1000 | 19.9 |\n",
       "\n"
      ],
      "text/plain": [
       "   Plant Type        Treatment  conc uptake\n",
       "1  Qn1   Quebec      nonchilled   95 16.0  \n",
       "2  Qn1   Quebec      nonchilled  175 30.4  \n",
       "3  Qn1   Quebec      nonchilled  250 34.8  \n",
       "4  Qn1   Quebec      nonchilled  350 37.2  \n",
       "5  Qn1   Quebec      nonchilled  500 35.3  \n",
       "6  Qn1   Quebec      nonchilled  675 39.2  \n",
       "7  Qn1   Quebec      nonchilled 1000 39.7  \n",
       "8  Qn2   Quebec      nonchilled   95 13.6  \n",
       "9  Qn2   Quebec      nonchilled  175 27.3  \n",
       "10 Qn2   Quebec      nonchilled  250 37.1  \n",
       "11 Qn2   Quebec      nonchilled  350 41.8  \n",
       "12 Qn2   Quebec      nonchilled  500 40.6  \n",
       "13 Qn2   Quebec      nonchilled  675 41.4  \n",
       "14 Qn2   Quebec      nonchilled 1000 44.3  \n",
       "15 Qn3   Quebec      nonchilled   95 16.2  \n",
       "16 Qn3   Quebec      nonchilled  175 32.4  \n",
       "17 Qn3   Quebec      nonchilled  250 40.3  \n",
       "18 Qn3   Quebec      nonchilled  350 42.1  \n",
       "19 Qn3   Quebec      nonchilled  500 42.9  \n",
       "20 Qn3   Quebec      nonchilled  675 43.9  \n",
       "21 Qn3   Quebec      nonchilled 1000 45.5  \n",
       "22 Qc1   Quebec      chilled      95 14.2  \n",
       "23 Qc1   Quebec      chilled     175 24.1  \n",
       "24 Qc1   Quebec      chilled     250 30.3  \n",
       "25 Qc1   Quebec      chilled     350 34.6  \n",
       "26 Qc1   Quebec      chilled     500 32.5  \n",
       "27 Qc1   Quebec      chilled     675 35.4  \n",
       "28 Qc1   Quebec      chilled    1000 38.7  \n",
       "29 Qc2   Quebec      chilled      95  9.3  \n",
       "30 Qc2   Quebec      chilled     175 27.3  \n",
       "⋮  ⋮     ⋮           ⋮          ⋮    ⋮     \n",
       "55 Mn2   Mississippi nonchilled  675 31.1  \n",
       "56 Mn2   Mississippi nonchilled 1000 31.5  \n",
       "57 Mn3   Mississippi nonchilled   95 11.3  \n",
       "58 Mn3   Mississippi nonchilled  175 19.4  \n",
       "59 Mn3   Mississippi nonchilled  250 25.8  \n",
       "60 Mn3   Mississippi nonchilled  350 27.9  \n",
       "61 Mn3   Mississippi nonchilled  500 28.5  \n",
       "62 Mn3   Mississippi nonchilled  675 28.1  \n",
       "63 Mn3   Mississippi nonchilled 1000 27.8  \n",
       "64 Mc1   Mississippi chilled      95 10.5  \n",
       "65 Mc1   Mississippi chilled     175 14.9  \n",
       "66 Mc1   Mississippi chilled     250 18.1  \n",
       "67 Mc1   Mississippi chilled     350 18.9  \n",
       "68 Mc1   Mississippi chilled     500 19.5  \n",
       "69 Mc1   Mississippi chilled     675 22.2  \n",
       "70 Mc1   Mississippi chilled    1000 21.9  \n",
       "71 Mc2   Mississippi chilled      95  7.7  \n",
       "72 Mc2   Mississippi chilled     175 11.4  \n",
       "73 Mc2   Mississippi chilled     250 12.3  \n",
       "74 Mc2   Mississippi chilled     350 13.0  \n",
       "75 Mc2   Mississippi chilled     500 12.5  \n",
       "76 Mc2   Mississippi chilled     675 13.7  \n",
       "77 Mc2   Mississippi chilled    1000 14.4  \n",
       "78 Mc3   Mississippi chilled      95 10.6  \n",
       "79 Mc3   Mississippi chilled     175 18.0  \n",
       "80 Mc3   Mississippi chilled     250 17.9  \n",
       "81 Mc3   Mississippi chilled     350 17.9  \n",
       "82 Mc3   Mississippi chilled     500 17.9  \n",
       "83 Mc3   Mississippi chilled     675 18.9  \n",
       "84 Mc3   Mississippi chilled    1000 19.9  "
      ]
     },
     "metadata": {},
     "output_type": "display_data"
    }
   ],
   "source": [
    "# Write your code below. Don't forget to press Shift+Enter to execute the cell\n",
    "# data(CO2)\n",
    "\n",
    "# CO2\n",
    "\n",
    "data(C02)\n",
    "\n",
    "CO2"
   ]
  },
  {
   "cell_type": "markdown",
   "metadata": {
    "id": "alRIv-6_4Qni"
   },
   "source": [
    "<details><summary>Click here for the solution</summary>\n",
    "\n",
    "```R\n",
    "co2\n",
    "\n",
    "```\n",
    "\n",
    "</details>\n",
    "\n",
    "<hr>\n"
   ]
  },
  {
   "cell_type": "markdown",
   "metadata": {
    "id": "O_4czXZy4Qni"
   },
   "source": [
    "\n",
    "### Scaling R with big data\n",
    "\n",
    "As you learn more about R, if you are interested in exploring platforms that can help you run analyses at scale, you might want to sign up for a free account on [IBM Watson Studio](http://cocl.us/dsx_rp0101en), which allows you to run analyses in R with two Spark executors for free.\n",
    "\n",
    "<hr>\n"
   ]
  },
  {
   "cell_type": "markdown",
   "metadata": {
    "id": "99KFEJ4Q4Qnj"
   },
   "source": [
    "# Vectors and Factors\n",
    "Welcome!\n",
    "By the end of this notebook, you will have learned about vectors and factors, two very important data structures in R.\n",
    "\n",
    "Objectives\n",
    "After completing this lab you will be able to:\n",
    "\n",
    "Understand R vector via coding practices\n",
    "\n",
    "Perform vector operations\n",
    "\n",
    "Understand R factor via coding practices\n",
    "\n",
    "Perform factor operations\n"
   ]
  },
  {
   "cell_type": "markdown",
   "metadata": {
    "id": "k5-CFgik4Qnj"
   },
   "source": [
    "### Vectors"
   ]
  },
  {
   "cell_type": "markdown",
   "metadata": {
    "id": "gGAWHLhV4Qnj"
   },
   "source": [
    "Vectors are collections of numbers, characters or logical data organized in a one dimensional array. In other words, a vector is a simple tool to store your grouped data, element by element.\n",
    "\n",
    "In R, you create a vector with the combine function c(). You place the vector elements separated by a comma between the brackets.\n",
    "\n",
    "Vectors will be very useful in the future as they allow you to apply operations on a series of data easily.\n",
    "\n",
    "Note that the elements in a vector must be of the same class, for example all should be either number, character, or logical."
   ]
  },
  {
   "cell_type": "markdown",
   "metadata": {
    "id": "01qAcpWl4Qnj"
   },
   "source": [
    "### Numeric, Character, and Logical Vectors¶"
   ]
  },
  {
   "cell_type": "markdown",
   "metadata": {
    "id": "p2gPzDzd4Qnj"
   },
   "source": [
    "Let's say we have four movie release dates (1985, 1999, 2015, 1964) and we want to assign them to a single variable, release_year. This means we'll need to create a vector using the c() function to combine them.\n",
    "\n",
    "Using numbers, this becomes a numeric vector."
   ]
  },
  {
   "cell_type": "code",
   "execution_count": 27,
   "metadata": {
    "colab": {
     "base_uri": "https://localhost:8080/",
     "height": 52
    },
    "executionInfo": {
     "elapsed": 7,
     "status": "ok",
     "timestamp": 1715051242830,
     "user": {
      "displayName": "Huy Hoàng",
      "userId": "01332833307816836629"
     },
     "user_tz": -420
    },
    "id": "1q6Grw0H4Qnj",
    "outputId": "4082b0a5-1aad-4421-a30f-0b54f7da3802",
    "vscode": {
     "languageId": "r"
    }
   },
   "outputs": [
    {
     "data": {
      "text/html": [
       "<style>\n",
       ".list-inline {list-style: none; margin:0; padding: 0}\n",
       ".list-inline>li {display: inline-block}\n",
       ".list-inline>li:not(:last-child)::after {content: \"\\00b7\"; padding: 0 .5ex}\n",
       "</style>\n",
       "<ol class=list-inline><li>1985</li><li>1999</li><li>2015</li><li>1964</li></ol>\n"
      ],
      "text/latex": [
       "\\begin{enumerate*}\n",
       "\\item 1985\n",
       "\\item 1999\n",
       "\\item 2015\n",
       "\\item 1964\n",
       "\\end{enumerate*}\n"
      ],
      "text/markdown": [
       "1. 1985\n",
       "2. 1999\n",
       "3. 2015\n",
       "4. 1964\n",
       "\n",
       "\n"
      ],
      "text/plain": [
       "[1] 1985 1999 2015 1964"
      ]
     },
     "metadata": {},
     "output_type": "display_data"
    },
    {
     "data": {
      "text/html": [
       "<style>\n",
       ".list-inline {list-style: none; margin:0; padding: 0}\n",
       ".list-inline>li {display: inline-block}\n",
       ".list-inline>li:not(:last-child)::after {content: \"\\00b7\"; padding: 0 .5ex}\n",
       "</style>\n",
       "<ol class=list-inline><li>1985</li><li>1999</li><li>2015</li><li>1964</li></ol>\n"
      ],
      "text/latex": [
       "\\begin{enumerate*}\n",
       "\\item 1985\n",
       "\\item 1999\n",
       "\\item 2015\n",
       "\\item 1964\n",
       "\\end{enumerate*}\n"
      ],
      "text/markdown": [
       "1. 1985\n",
       "2. 1999\n",
       "3. 2015\n",
       "4. 1964\n",
       "\n",
       "\n"
      ],
      "text/plain": [
       "[1] 1985 1999 2015 1964"
      ]
     },
     "metadata": {},
     "output_type": "display_data"
    }
   ],
   "source": [
    "release_year <- c(1985, 1999, 2015, 1964)\n",
    "\n",
    "release_year\n"
   ]
  },
  {
   "cell_type": "markdown",
   "metadata": {
    "id": "LtiI0bue4Qnj"
   },
   "source": [
    "### Authors\n",
    "\n",
    "Hi! It's [Iqbal Singh](https://ca.linkedin.com/in/iqbalsingh15?utm_medium=Exinfluencer&utm_source=Exinfluencer&utm_content=000026UJ&utm_term=10006555&utm_id=NA-SkillsNetwork-Channel-SkillsNetworkCoursesIBMDeveloperSkillsNetworkRP0101ENCoursera889-2022-01-01&cm_mmc=Email_Newsletter-_-Developer_Ed%2BTech-_-WW_WW-_-SkillsNetwork-Courses-IBMDeveloperSkillsNetwork-RP0101EN-SkillsNetwork-20900564&cm_mmca1=000026UJ&cm_mmca2=10006555&cm_mmca3=M12345678&cvosrc=email.Newsletter.M12345678&cvo_campaign=000026UJ) and [Walter Gomes](https://br.linkedin.com/in/walter-gomes-de-amorim-junior-624726121?utm_medium=Exinfluencer&utm_source=Exinfluencer&utm_content=000026UJ&utm_term=10006555&utm_id=NA-SkillsNetwork-Channel-SkillsNetworkCoursesIBMDeveloperSkillsNetworkRP0101ENCoursera889-2022-01-01&cm_mmc=Email_Newsletter-_-Developer_Ed%2BTech-_-WW_WW-_-SkillsNetwork-Courses-IBMDeveloperSkillsNetwork-RP0101EN-SkillsNetwork-20900564&cm_mmca1=000026UJ&cm_mmca2=10006555&cm_mmca3=M12345678&cvosrc=email.Newsletter.M12345678&cvo_campaign=000026UJ), the authors of this notebook.\n",
    "I hope you found it easy to learn how to import data into R! Feel free to connect with us if you have any questions.\n"
   ]
  },
  {
   "cell_type": "markdown",
   "metadata": {
    "id": "Z-YMkeec4Qnj"
   },
   "source": [
    "### Other Contributors\n",
    "\n",
    "<a href=\"https://www.linkedin.com/in/yan-luo-96288783/?utm_medium=Exinfluencer&utm_source=Exinfluencer&utm_content=000026UJ&utm_term=10006555&utm_id=NA-SkillsNetwork-Channel-SkillsNetworkCoursesIBMDeveloperSkillsNetworkRP0101ENCoursera889-2022-01-01\">Yan Luo</a>\n"
   ]
  }
 ],
 "metadata": {
  "colab": {
   "provenance": []
  },
  "kernelspec": {
   "display_name": "R",
   "language": "R",
   "name": "ir"
  },
  "language_info": {
   "codemirror_mode": "r",
   "file_extension": ".r",
   "mimetype": "text/x-r-source",
   "name": "R",
   "pygments_lexer": "r",
   "version": "3.6.1"
  }
 },
 "nbformat": 4,
 "nbformat_minor": 4
}
