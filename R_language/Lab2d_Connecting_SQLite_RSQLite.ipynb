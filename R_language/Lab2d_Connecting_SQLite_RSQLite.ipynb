{
 "cells": [
  {
   "cell_type": "markdown",
   "metadata": {},
   "source": [
    "<p style=\"text-align:center\">\n",
    "    <a href=\"https://skills.network/?utm_medium=Exinfluencer&utm_source=Exinfluencer&utm_content=000026UJ&utm_term=10006555&utm_id=NA-SkillsNetwork-Channel-SkillsNetworkCoursesIBMDeveloperSkillsNetworkRP0103ENSkillsNetwork896-2023-01-01\">\n",
    "    <img src=\"https://cf-courses-data.s3.us.cloud-object-storage.appdomain.cloud/assets/logos/SN_web_lightmode.png\" width=\"200\" alt=\"Skills Network Logo\"  />\n",
    "    </a>\n",
    "</p>\n",
    "\n",
    "<h1 align=center><font size = 5>Hands-on Lab: Accessing Your Database with RSQLIte</h1>\n"
   ]
  },
  {
   "cell_type": "markdown",
   "metadata": {},
   "source": [
    "### Welcome!\n",
    "\n",
    "In this hands-on lab, we will learn how to connect and discover metadata from database servers with R using RSQlite.\n"
   ]
  },
  {
   "cell_type": "markdown",
   "metadata": {},
   "source": [
    "<div class=\"alert alert-block alert-info\" style=\"margin-top: 20px\">\n",
    "<h3>Tasks</h3>\n",
    "<ol><ol><ol>\n",
    "<li><a href=\"https://#ref6a\">Pre-requisites</a></li>\n",
    "<li><a href=\"https://#ref6b\">Create an R notebook</a></li>\n",
    "<li><a href=\"https://#ref6c\">Load RSQLIte</a></li>\n",
    "<li><a href=\"https://#ref6e\">Create a database connection</a></li>\n",
    "<li><a href=\"https://#ref6f\">Connection Attributes</a></li>\n",
    "<li><a href=\"https://#ref6g\">Connection Metadata</a></li>\n",
    "<li><a href=\"https://#ref6h\">Supported Datatypes</a></li>\n",
    "<li><a href=\"https://#ref6i\">List of Tables</a></li>\n",
    "<li><a href=\"https://#ref6j\">Columns in a Table</a></li>\n",
    "<li><a href=\"https://#ref6k\">Dis-connect</a></li>\n",
    "</ol></ol></ol>\n",
    "<br>\n",
    "Estimated Time Needed: <strong>15 min</strong>\n",
    "</div>\n"
   ]
  },
  {
   "cell_type": "markdown",
   "metadata": {},
   "source": [
    "<a id=\"ref6a\"></a>\n",
    "\n",
    "<h3>a. Pre-requisites</h3>\n"
   ]
  },
  {
   "cell_type": "markdown",
   "metadata": {},
   "source": [
    "In this lab we will use Jupyter Notebooks within SN Labs to access data in a SQlite database  using RSQLite.\n"
   ]
  },
  {
   "cell_type": "markdown",
   "metadata": {},
   "source": [
    "<a id=\"ref6b\"></a>\n",
    "\n",
    "<h3>b. Create an R notebook</h3>\n"
   ]
  },
  {
   "cell_type": "markdown",
   "metadata": {},
   "source": [
    "If necessary, set the notebook kernel to use R (using the dropdown in the top right corner).\n",
    "\n",
    "![](https://ibm.box.com/shared/static/vb8qv1tyq3b40sq4urgyfk9fwi2i8rpm.png)\n"
   ]
  },
  {
   "cell_type": "markdown",
   "metadata": {},
   "source": [
    "<a id=\"ref6c\"></a>\n",
    "\n",
    "<h3>c. Load RSQLIte</h3>\n"
   ]
  },
  {
   "cell_type": "markdown",
   "metadata": {},
   "source": [
    "The RSQlite  package needs to be installed in your notebook. Let’s load the RSQLite package by clicking on the following cell and executing it (Shift+Enter):\n"
   ]
  },
  {
   "cell_type": "code",
   "execution_count": 1,
   "metadata": {},
   "outputs": [
    {
     "name": "stderr",
     "output_type": "stream",
     "text": [
      "Warning message:\n",
      "\"package 'RSQLite' was built under R version 3.6.3\""
     ]
    }
   ],
   "source": [
    "#install.packages(\"RSQLite\")\n",
    "library(\"RSQLite\")\n"
   ]
  },
  {
   "cell_type": "markdown",
   "metadata": {},
   "source": [
    "<a id=\"ref6e\"></a>\n",
    "\n",
    "<h3>b. Create a database connection</h3>\n"
   ]
  },
  {
   "cell_type": "code",
   "execution_count": 33,
   "metadata": {},
   "outputs": [
    {
     "data": {
      "text/plain": [
       "<SQLiteConnection>\n",
       "  Path: C:\\Users\\huyho\\anaconda3\\envs\\r-jupyter\\lophoc\\TestDB.sqlite\n",
       "  Extensions: TRUE"
      ]
     },
     "metadata": {},
     "output_type": "display_data"
    }
   ],
   "source": [
    "con <- dbConnect(RSQLite::SQLite(),\"TestDB.sqlite\")\n",
    "con"
   ]
  },
  {
   "cell_type": "code",
   "execution_count": 34,
   "metadata": {},
   "outputs": [
    {
     "data": {
      "text/plain": [
       "<SQLiteConnection>\n",
       "  Path: C:\\Users\\huyho\\anaconda3\\envs\\r-jupyter\\lophoc\\FirstDB.sqlite\n",
       "  Extensions: TRUE"
      ]
     },
     "metadata": {},
     "output_type": "display_data"
    }
   ],
   "source": [
    "con2 <- dbConnect(RSQLite::SQLite(),\"FirstDB.sqlite\")\n",
    "con2"
   ]
  },
  {
   "cell_type": "markdown",
   "metadata": {},
   "source": [
    "<details>\n",
    "<summary>Click here to view/hide hint</summary>\n",
    "<p>\n",
    "\n",
    "Load the SQlite driver to the connect method and  also pass the database name.\n",
    "\n",
    "</details>\n"
   ]
  },
  {
   "cell_type": "markdown",
   "metadata": {},
   "source": [
    "<details>\n",
    "<summary>Click here to view/hide solution</summary>\n",
    "<p>\n",
    "\n",
    "```\n",
    "con <- dbConnect(RSQLite::SQLite(),\"TestDB.sqlite\")\n",
    "con\n",
    "```\n",
    "\n",
    "</details>\n"
   ]
  },
  {
   "cell_type": "markdown",
   "metadata": {},
   "source": [
    "<a id=\"ref6f\"></a>\n",
    "\n",
    "<h3>c. Connection Attributes</h3>\n"
   ]
  },
  {
   "cell_type": "markdown",
   "metadata": {},
   "source": [
    "Let’s examine the connection attributes:\n"
   ]
  },
  {
   "cell_type": "code",
   "execution_count": 35,
   "metadata": {},
   "outputs": [
    {
     "data": {
      "text/plain": [
       "$ptr\n",
       "<pointer: 0x0000000061318dd0>\n",
       "\n",
       "$dbname\n",
       "[1] \"C:\\\\Users\\\\huyho\\\\anaconda3\\\\envs\\\\r-jupyter\\\\lophoc\\\\TestDB.sqlite\"\n",
       "\n",
       "$loadable.extensions\n",
       "[1] TRUE\n",
       "\n",
       "$flags\n",
       "[1] 70\n",
       "\n",
       "$vfs\n",
       "[1] \"\"\n",
       "\n",
       "$ref\n",
       "<environment: 0x0000000063cbc078>\n",
       "\n",
       "$bigint\n",
       "[1] \"integer64\"\n",
       "\n",
       "$extended_types\n",
       "[1] FALSE\n",
       "\n",
       "$class\n",
       "[1] \"SQLiteConnection\"\n",
       "attr(,\"package\")\n",
       "[1] \"RSQLite\"\n"
      ]
     },
     "metadata": {},
     "output_type": "display_data"
    }
   ],
   "source": [
    "attributes(con)"
   ]
  },
  {
   "cell_type": "code",
   "execution_count": 36,
   "metadata": {},
   "outputs": [
    {
     "data": {
      "text/plain": [
       "$ptr\n",
       "<pointer: 0x0000000061319990>\n",
       "\n",
       "$dbname\n",
       "[1] \"C:\\\\Users\\\\huyho\\\\anaconda3\\\\envs\\\\r-jupyter\\\\lophoc\\\\FirstDB.sqlite\"\n",
       "\n",
       "$loadable.extensions\n",
       "[1] TRUE\n",
       "\n",
       "$flags\n",
       "[1] 70\n",
       "\n",
       "$vfs\n",
       "[1] \"\"\n",
       "\n",
       "$ref\n",
       "<environment: 0x00000000644f1278>\n",
       "\n",
       "$bigint\n",
       "[1] \"integer64\"\n",
       "\n",
       "$extended_types\n",
       "[1] FALSE\n",
       "\n",
       "$class\n",
       "[1] \"SQLiteConnection\"\n",
       "attr(,\"package\")\n",
       "[1] \"RSQLite\"\n"
      ]
     },
     "metadata": {},
     "output_type": "display_data"
    }
   ],
   "source": [
    "attributes(con2)"
   ]
  },
  {
   "cell_type": "markdown",
   "metadata": {},
   "source": [
    "<details>\n",
    "<summary>Click here to view/hide hint</summary>\n",
    "<p>\n",
    "\n",
    "```\n",
    "Use the attributes() function to display the attributes of the connection object.\n",
    "```\n",
    "\n",
    "</details>\n"
   ]
  },
  {
   "cell_type": "markdown",
   "metadata": {},
   "source": [
    "<details>\n",
    "<summary>Click here to view/hide solution</summary>\n",
    "<p>\n",
    "\n",
    "```\n",
    "attributes(conn)\n",
    "```\n",
    "\n",
    "</details>\n"
   ]
  },
  {
   "cell_type": "markdown",
   "metadata": {},
   "source": [
    "<a id=\"ref6g\"></a>\n",
    "\n",
    "<h3>d. Connection Metadata</h3>\n"
   ]
  },
  {
   "cell_type": "markdown",
   "metadata": {},
   "source": [
    "Review the connection metadata using  the dbGetInfo() function:\n"
   ]
  },
  {
   "cell_type": "code",
   "execution_count": 37,
   "metadata": {},
   "outputs": [
    {
     "name": "stdout",
     "output_type": "stream",
     "text": [
      "$db.version\n",
      "[1] \"3.35.2\"\n",
      "\n",
      "$dbname\n",
      "[1] \"C:\\\\Users\\\\huyho\\\\anaconda3\\\\envs\\\\r-jupyter\\\\lophoc\\\\TestDB.sqlite\"\n",
      "\n"
     ]
    }
   ],
   "source": [
    "con.info <- dbGetInfo(con)\n",
    "print(con.info['db.version'])\n",
    "print(con.info['dbname'])"
   ]
  },
  {
   "cell_type": "code",
   "execution_count": 38,
   "metadata": {},
   "outputs": [
    {
     "name": "stdout",
     "output_type": "stream",
     "text": [
      "$db.version\n",
      "[1] \"3.35.2\"\n",
      "\n",
      "$dbname\n",
      "[1] \"C:\\\\Users\\\\huyho\\\\anaconda3\\\\envs\\\\r-jupyter\\\\lophoc\\\\FirstDB.sqlite\"\n",
      "\n"
     ]
    }
   ],
   "source": [
    "con2.info <- dbGetInfo(con2)\n",
    "print(con2.info['db.version'])\n",
    "print(con2.info['dbname'])"
   ]
  },
  {
   "cell_type": "markdown",
   "metadata": {},
   "source": [
    "<details>\n",
    "<summary>Click here to view/hide hint</summary>\n",
    "\n",
    "   Use the dbGetInfo() method on the connection object to get the connection information and save it in a variable **conn.info**.  \n",
    "    \n",
    "   Later use the variable **conn.info[\"db.version\"]** and **conn.info[\"dbname\"]** to get the information related to **database version** and **database name** .\n",
    "\n",
    "</details>\n"
   ]
  },
  {
   "cell_type": "markdown",
   "metadata": {},
   "source": [
    "<details>\n",
    "<summary>Click here to view/hide solution</summary>\n",
    "<p>\n",
    "\n",
    "```\n",
    "conn.info <- dbGetInfo(conn) \n",
    "print(conn.info[\"db.version\"])\n",
    "print(conn.info[\"dbname\"] )\n",
    "```\n",
    "\n",
    "</details>\n"
   ]
  },
  {
   "cell_type": "markdown",
   "metadata": {},
   "source": [
    "<a id=\"ref6h\"></a>\n",
    "\n",
    "<h3>e. Supported Datatypes</h3>\n"
   ]
  },
  {
   "cell_type": "markdown",
   "metadata": {},
   "source": [
    "Let’s now examine the datatypes supported by the database:\n"
   ]
  },
  {
   "cell_type": "code",
   "execution_count": 39,
   "metadata": {},
   "outputs": [
    {
     "data": {
      "text/html": [
       "'REAL'"
      ],
      "text/latex": [
       "'REAL'"
      ],
      "text/markdown": [
       "'REAL'"
      ],
      "text/plain": [
       "[1] \"REAL\""
      ]
     },
     "metadata": {},
     "output_type": "display_data"
    },
    {
     "data": {
      "text/html": [
       "'INTEGER'"
      ],
      "text/latex": [
       "'INTEGER'"
      ],
      "text/markdown": [
       "'INTEGER'"
      ],
      "text/plain": [
       "[1] \"INTEGER\""
      ]
     },
     "metadata": {},
     "output_type": "display_data"
    },
    {
     "data": {
      "text/html": [
       "'TEXT'"
      ],
      "text/latex": [
       "'TEXT'"
      ],
      "text/markdown": [
       "'TEXT'"
      ],
      "text/plain": [
       "[1] \"TEXT\""
      ]
     },
     "metadata": {},
     "output_type": "display_data"
    },
    {
     "data": {
      "text/html": [
       "'INTEGER'"
      ],
      "text/latex": [
       "'INTEGER'"
      ],
      "text/markdown": [
       "'INTEGER'"
      ],
      "text/plain": [
       "[1] \"INTEGER\""
      ]
     },
     "metadata": {},
     "output_type": "display_data"
    },
    {
     "data": {
      "text/html": [
       "'BLOB'"
      ],
      "text/latex": [
       "'BLOB'"
      ],
      "text/markdown": [
       "'BLOB'"
      ],
      "text/plain": [
       "[1] \"BLOB\""
      ]
     },
     "metadata": {},
     "output_type": "display_data"
    },
    {
     "data": {
      "text/html": [
       "<dl class=dl-horizontal>\n",
       "\t<dt>lat</dt>\n",
       "\t\t<dd>'REAL'</dd>\n",
       "\t<dt>long</dt>\n",
       "\t\t<dd>'REAL'</dd>\n",
       "\t<dt>depth</dt>\n",
       "\t\t<dd>'INTEGER'</dd>\n",
       "\t<dt>mag</dt>\n",
       "\t\t<dd>'REAL'</dd>\n",
       "\t<dt>stations</dt>\n",
       "\t\t<dd>'INTEGER'</dd>\n",
       "</dl>\n"
      ],
      "text/latex": [
       "\\begin{description*}\n",
       "\\item[lat] 'REAL'\n",
       "\\item[long] 'REAL'\n",
       "\\item[depth] 'INTEGER'\n",
       "\\item[mag] 'REAL'\n",
       "\\item[stations] 'INTEGER'\n",
       "\\end{description*}\n"
      ],
      "text/markdown": [
       "lat\n",
       ":   'REAL'long\n",
       ":   'REAL'depth\n",
       ":   'INTEGER'mag\n",
       ":   'REAL'stations\n",
       ":   'INTEGER'\n",
       "\n"
      ],
      "text/plain": [
       "      lat      long     depth       mag  stations \n",
       "   \"REAL\"    \"REAL\" \"INTEGER\"    \"REAL\" \"INTEGER\" "
      ]
     },
     "metadata": {},
     "output_type": "display_data"
    }
   ],
   "source": [
    "dbDataType(RSQLite::SQLite(), 1)\n",
    "dbDataType(RSQLite::SQLite(), 1L)\n",
    "dbDataType(RSQLite::SQLite(), \"1\")\n",
    "dbDataType(RSQLite::SQLite(), TRUE)\n",
    "dbDataType(RSQLite::SQLite(), list(raw(1)))\n",
    "sapply(datasets::quakes, dbDataType, dbObj = RSQLite::SQLite())"
   ]
  },
  {
   "cell_type": "markdown",
   "metadata": {},
   "source": [
    "<details>\n",
    "<summary>Click here to view/hide hint</summary>\n",
    "<p>\n",
    "\n",
    "\n",
    "Use the dbDataType() function to display the datatypes passing the driver information and the argument whose datatype needs to be determined.\n",
    "\n",
    "</details>\n"
   ]
  },
  {
   "cell_type": "markdown",
   "metadata": {},
   "source": [
    "<details>\n",
    "<summary>Click here to view/hide solution</summary>\n",
    "<p>\n",
    "\n",
    "```\n",
    "dbDataType(RSQLite::SQLite(), 1)\n",
    "dbDataType(RSQLite::SQLite(), 1L)\n",
    "dbDataType(RSQLite::SQLite(), \"1\")\n",
    "dbDataType(RSQLite::SQLite(), TRUE)\n",
    "dbDataType(RSQLite::SQLite(), list(raw(1)))\n",
    "\n",
    "sapply(datasets::quakes, dbDataType, dbObj = RSQLite::SQLite())\n",
    "\n",
    "</details>\n",
    "```\n"
   ]
  },
  {
   "cell_type": "markdown",
   "metadata": {},
   "source": [
    "<a id=\"ref6i\"></a>\n",
    "\n",
    "<h3>f. List of Tables</h3>\n"
   ]
  },
  {
   "cell_type": "markdown",
   "metadata": {},
   "source": [
    "We will use the dbListTables() function to return a list of tabless (i.e. TABLEs, VIEWs, ALIASes, etc.) Initially we will not have any tables in sqllite db.We will use the dbWriteTable(table) to create a table in the database\n"
   ]
  },
  {
   "cell_type": "code",
   "execution_count": 40,
   "metadata": {},
   "outputs": [
    {
     "data": {
      "text/html": [
       "'mtcars'"
      ],
      "text/latex": [
       "'mtcars'"
      ],
      "text/markdown": [
       "'mtcars'"
      ],
      "text/plain": [
       "[1] \"mtcars\""
      ]
     },
     "metadata": {},
     "output_type": "display_data"
    }
   ],
   "source": [
    "dbListTables(con)\n",
    "#dbWriteTable(con,'mtcars',mtcars)\n",
    "#dbListTables(con)"
   ]
  },
  {
   "cell_type": "code",
   "execution_count": 42,
   "metadata": {},
   "outputs": [
    {
     "data": {
      "text/html": [
       "<ol class=list-inline>\n",
       "\t<li>'Animal'</li>\n",
       "\t<li>'mtcars'</li>\n",
       "</ol>\n"
      ],
      "text/latex": [
       "\\begin{enumerate*}\n",
       "\\item 'Animal'\n",
       "\\item 'mtcars'\n",
       "\\end{enumerate*}\n"
      ],
      "text/markdown": [
       "1. 'Animal'\n",
       "2. 'mtcars'\n",
       "\n",
       "\n"
      ],
      "text/plain": [
       "[1] \"Animal\" \"mtcars\""
      ]
     },
     "metadata": {},
     "output_type": "display_data"
    },
    {
     "data": {
      "text/html": [
       "<ol class=list-inline>\n",
       "\t<li>'Animal'</li>\n",
       "\t<li>'mtcars'</li>\n",
       "</ol>\n"
      ],
      "text/latex": [
       "\\begin{enumerate*}\n",
       "\\item 'Animal'\n",
       "\\item 'mtcars'\n",
       "\\end{enumerate*}\n"
      ],
      "text/markdown": [
       "1. 'Animal'\n",
       "2. 'mtcars'\n",
       "\n",
       "\n"
      ],
      "text/plain": [
       "[1] \"Animal\" \"mtcars\""
      ]
     },
     "metadata": {},
     "output_type": "display_data"
    }
   ],
   "source": [
    "dbListTables(con2)\n",
    "#dbWriteTable(con2,'mtcars',mtcars)\n",
    "dbListTables(con2)"
   ]
  },
  {
   "cell_type": "markdown",
   "metadata": {},
   "source": [
    "<details>\n",
    "<summary>Click here to view/hide hint</summary>\n",
    "<p>\n",
    "\n",
    "```\n",
    "# Fill in the ...\n",
    "Use the dbWriteTable() to create a table in the database by passing the connection object, name of the table and database name.\n",
    "Later list the tables using dbListTables() by passing connection object.\n",
    "```\n",
    "\n",
    "</details>\n"
   ]
  },
  {
   "cell_type": "markdown",
   "metadata": {},
   "source": [
    "<details>\n",
    "<summary>Click here to view/hide solution</summary>\n",
    "<p>\n",
    "\n",
    "```\n",
    "dbListTables(con)\n",
    "dbWriteTable(con, \"mtcars\", mtcars)\n",
    "dbListTables(con)\n",
    "```\n",
    "\n",
    "</details>\n"
   ]
  },
  {
   "cell_type": "markdown",
   "metadata": {},
   "source": [
    "<a id=\"ref6j\"></a>\n",
    "\n",
    "<h3>g. Columns in a Table</h3>\n"
   ]
  },
  {
   "cell_type": "markdown",
   "metadata": {},
   "source": [
    "Next, let’s look at column metadata for columns in the table **mtcars**:\n"
   ]
  },
  {
   "cell_type": "code",
   "execution_count": 43,
   "metadata": {},
   "outputs": [
    {
     "name": "stdout",
     "output_type": "stream",
     "text": [
      "\n",
      "Column info for table mtcars :\n",
      "   name   type\n",
      "1   mpg double\n",
      "2   cyl double\n",
      "3  disp double\n",
      "4    hp double\n",
      "5  drat double\n",
      "6    wt double\n",
      "7  qsec double\n",
      "8    vs double\n",
      "9    am double\n",
      "10 gear double\n",
      "11 carb double\n"
     ]
    }
   ],
   "source": [
    "tables1 = dbListTables(con)\n",
    "for (table in tables1){\n",
    "    cat (\"\\nColumn info for table\",table,\":\\n\")\n",
    "    col.detail <- dbColumnInfo(dbSendQuery(con,paste(\"select * from\",table)))\n",
    "    print(col.detail)\n",
    "}"
   ]
  },
  {
   "cell_type": "code",
   "execution_count": 51,
   "metadata": {},
   "outputs": [
    {
     "name": "stderr",
     "output_type": "stream",
     "text": [
      "Warning message:\n",
      "\"Closing open result set, pending rows\""
     ]
    },
    {
     "data": {
      "text/html": [
       "<table>\n",
       "<thead><tr><th scope=col>Name</th><th scope=col>KG</th><th scope=col>Age</th></tr></thead>\n",
       "<tbody>\n",
       "\t<tr><td>Cat     </td><td>10      </td><td> 2      </td></tr>\n",
       "\t<tr><td>meowmeow</td><td>12      </td><td> 3      </td></tr>\n",
       "\t<tr><td>NA      </td><td>NA      </td><td>NA      </td></tr>\n",
       "</tbody>\n",
       "</table>\n"
      ],
      "text/latex": [
       "\\begin{tabular}{r|lll}\n",
       " Name & KG & Age\\\\\n",
       "\\hline\n",
       "\t Cat      & 10       &  2      \\\\\n",
       "\t meowmeow & 12       &  3      \\\\\n",
       "\t NA       & NA       & NA      \\\\\n",
       "\\end{tabular}\n"
      ],
      "text/markdown": [
       "\n",
       "| Name | KG | Age |\n",
       "|---|---|---|\n",
       "| Cat      | 10       |  2       |\n",
       "| meowmeow | 12       |  3       |\n",
       "| NA       | NA       | NA       |\n",
       "\n"
      ],
      "text/plain": [
       "  Name     KG Age\n",
       "1 Cat      10  2 \n",
       "2 meowmeow 12  3 \n",
       "3 NA       NA NA "
      ]
     },
     "metadata": {},
     "output_type": "display_data"
    }
   ],
   "source": [
    "rs=dbSendQuery(con2,\"Select * from Animal\")\n",
    "df = fetch(rs,-1)\n",
    "df"
   ]
  },
  {
   "cell_type": "code",
   "execution_count": 45,
   "metadata": {},
   "outputs": [
    {
     "name": "stdout",
     "output_type": "stream",
     "text": [
      "\n",
      "Column info for table Animal :\n",
      "  name      type\n",
      "1 Name character\n",
      "2   KG   integer\n",
      "3  Age   integer\n",
      "\n",
      "Column info for table mtcars :\n"
     ]
    },
    {
     "name": "stderr",
     "output_type": "stream",
     "text": [
      "Warning message:\n",
      "\"Closing open result set, pending rows\""
     ]
    },
    {
     "name": "stdout",
     "output_type": "stream",
     "text": [
      "   name   type\n",
      "1   mpg double\n",
      "2   cyl double\n",
      "3  disp double\n",
      "4    hp double\n",
      "5  drat double\n",
      "6    wt double\n",
      "7  qsec double\n",
      "8    vs double\n",
      "9    am double\n",
      "10 gear double\n",
      "11 carb double\n"
     ]
    }
   ],
   "source": [
    "tables2 = dbListTables(con2)\n",
    "for (table in tables2){\n",
    "    cat (\"\\nColumn info for table\",table,\":\\n\")\n",
    "    col.detail <- dbColumnInfo(dbSendQuery(con2,paste(\"select * from\",table)))\n",
    "    print(col.detail)\n",
    "}"
   ]
  },
  {
   "cell_type": "code",
   "execution_count": null,
   "metadata": {},
   "outputs": [],
   "source": []
  },
  {
   "cell_type": "markdown",
   "metadata": {},
   "source": [
    "<details>\n",
    "<summary>Click here to view/hide hint</summary>\n",
    "<p>\n",
    "\n",
    "```\n",
    "# Fill in the ...\n",
    "tab.... <- \"....\"\n",
    "col.detail <- dbColumnInfo(dbSendQuery(  ))\n",
    "\n",
    "```\n",
    "\n",
    "</details>\n"
   ]
  },
  {
   "cell_type": "markdown",
   "metadata": {},
   "source": [
    "<details>\n",
    "<summary>Click here to view/hide solution</summary>\n",
    "<p>\n",
    "\n",
    "```\n",
    "tables1 = dbListTables(con)\n",
    "for (table in tables1){  \n",
    "        cat (\"\\nColumn info for table\", table, \":\\n\")\n",
    "        col.detail <- dbColumnInfo(dbSendQuery(con,paste( \"select * from\",table)))\n",
    "        print(col.detail)\n",
    "}\n",
    "```\n",
    "\n",
    "</details>\n"
   ]
  },
  {
   "cell_type": "markdown",
   "metadata": {},
   "source": [
    "<a id=\"ref6k\"></a>\n",
    "\n",
    "<h3>h. Dis-connect</h3>\n"
   ]
  },
  {
   "cell_type": "markdown",
   "metadata": {},
   "source": [
    "Finally, as a best practice we should close the database connection once we're done with it.\n"
   ]
  },
  {
   "cell_type": "code",
   "execution_count": 32,
   "metadata": {},
   "outputs": [
    {
     "name": "stderr",
     "output_type": "stream",
     "text": [
      "Warning message in connection_release(conn@ptr):\n",
      "\"There are 1 result in use. The connection will be released when they are closed\"Warning message in connection_release(conn@ptr):\n",
      "\"There are 1 result in use. The connection will be released when they are closed\""
     ]
    }
   ],
   "source": [
    "dbDisconnect(con)\n",
    "dbDisconnect(con2)"
   ]
  },
  {
   "cell_type": "markdown",
   "metadata": {},
   "source": [
    "<details>\n",
    "<summary>Click here to view/hide hint</summary>\n",
    "<p>\n",
    "\n",
    "```\n",
    "Use the dbDisconnect() method passing the connection object to disconnect from the database\n",
    "```\n",
    "\n",
    "</details>\n"
   ]
  },
  {
   "cell_type": "markdown",
   "metadata": {},
   "source": [
    "<details>\n",
    "<summary>Click here to view/hide solution</summary>\n",
    "<p>\n",
    "\n",
    "```\n",
    "dbDisconnect(con)\n",
    "```\n",
    "\n",
    "</details>\n"
   ]
  },
  {
   "cell_type": "markdown",
   "metadata": {},
   "source": [
    "<a id=\"ref6o\"></a>\n",
    "\n",
    "<h3>Summary</h3>\n"
   ]
  },
  {
   "cell_type": "markdown",
   "metadata": {},
   "source": [
    "In this lab you accessed data in a SQlite database using RSQLIte  connection from a R notebook in Jupyter, and discovered different metadata.\n"
   ]
  },
  {
   "cell_type": "markdown",
   "metadata": {},
   "source": [
    "<hr>\n"
   ]
  },
  {
   "cell_type": "markdown",
   "metadata": {},
   "source": [
    "#### Thank you for completing this lab on getting connected and querying databases using RSQLite.\n"
   ]
  },
  {
   "cell_type": "markdown",
   "metadata": {},
   "source": [
    "<hr>\n",
    "\n",
    "## Authors\n",
    "\n",
    "*   [Lakshmi Holla](https://www.linkedin.com/in/lakshmi-holla-b39062149/?utm_medium=Exinfluencer&utm_source=Exinfluencer&utm_content=000026UJ&utm_term=10006555&utm_id=NA-SkillsNetwork-Channel-SkillsNetworkCoursesIBMDeveloperSkillsNetworkRP0103ENSkillsNetwork23619267-2022-01-01)\n",
    "\n",
    "## Changelog\n",
    "\n",
    "| Date (YYYY-MM-DD) | Version | Changed By    | Change Description                    |\n",
    "| ----------------- | ------- | ------------- | ------------------------------------- |\n",
    "| 2022-03-08        | 1.0     | Lakshmi Holla | Created Initial Version using RSQLite |\n",
    "\n",
    "<hr>\n",
    "\n",
    "<h2 align=center><font size = 5>Copyright &copy; IBM Corporation 2021-2022. All rights reserved.</h2>\n"
   ]
  }
 ],
 "metadata": {
  "kernelspec": {
   "display_name": "R",
   "language": "R",
   "name": "ir"
  },
  "language_info": {
   "codemirror_mode": "r",
   "file_extension": ".r",
   "mimetype": "text/x-r-source",
   "name": "R",
   "pygments_lexer": "r",
   "version": "3.6.1"
  }
 },
 "nbformat": 4,
 "nbformat_minor": 4
}
