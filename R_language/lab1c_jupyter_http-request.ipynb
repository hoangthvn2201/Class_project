{
 "cells": [
  {
   "cell_type": "markdown",
   "metadata": {},
   "source": [
    "<center>\n",
    "<img src=\"https://cf-courses-data.s3.us.cloud-object-storage.appdomain.cloud/IBMDeveloperSkillsNetwork-RP0101EN-Coursera/v2/M3_R_Foundamentals/images/SN_web_lightmode.png\" width=\"300\"> \n",
    "<center/>\n"
   ]
  },
  {
   "cell_type": "markdown",
   "metadata": {},
   "source": [
    "<h1> HTTP Requests in R</h1>\n",
    "\n",
    "\n",
    "\n",
    "## Objectives\n",
    "\n",
    "After completing this lab you will be able to:\n",
    "\n",
    "-   Understand HTTP    \n",
    "-   Handle the HTTP Requests and response using R\n"
   ]
  },
  {
   "cell_type": "markdown",
   "metadata": {},
   "source": [
    "<h2>Table of Contents</h2>\n",
    "\n",
    "<div class=\"alert alert-block alert-info\" style=\"margin-top: 20px\">\n",
    "    <ul>\n",
    "        <li><a href=\"#Overview-of-HTTP\">Overview of HTTP</a></li>\n",
    "        <li><a href=\"#The-httr-library\">The httr library</a></li> \n",
    "</div>\n",
    "\n",
    "<hr>\n"
   ]
  },
  {
   "cell_type": "markdown",
   "metadata": {},
   "source": [
    "<a id=\"ref0\"></a>\n",
    "\n",
    "<h2 id=\"http\">Overview of HTTP</h2>\n"
   ]
  },
  {
   "cell_type": "markdown",
   "metadata": {},
   "source": [
    "When the **client** uses a web page your browser sends an **HTTP** request to the **server** where the page is hosted. The server tries to find the desired **resource** such as the home page (index.html). \n",
    "\n",
    "If your request is successful, the server will send the resource to the client in an **HTTP response**; this includes information like the type of the **resource**, the length of the **resource**, and other information.   \n",
    "\n",
    "<p>\n",
    "The figure below represents the process; the circle on the left represents the client, the circle on the right represents the  Web server.  The table under the Web server represents a list of resources stored in the web server. In  this case an <code>HTML</code> file, <code>png</code> image, and <code>txt</code> file .\n",
    "</p>\n",
    "<p>\n",
    "The <b>HTTP</b> protocol allows you to send and receive information through the web including webpages, images, and other web resources.\n",
    "</p\n"
   ]
  },
  {
   "cell_type": "markdown",
   "metadata": {},
   "source": [
    "<div class=\"alert alert-block alert-info\" style=\"margin-top: 20px\">\n",
    "         <img src=\"https://s3-api.us-geo.objectstorage.softlayer.net/cf-courses-data/CognitiveClass/PY0101EN/images/reqest_basics.png\" width=\"750\" align=\"center\">\n",
    "   \n",
    "</div>\n"
   ]
  },
  {
   "cell_type": "markdown",
   "metadata": {},
   "source": [
    "<h2 id=\"URL\">Uniform Resource Locator:URL</h2>\n"
   ]
  },
  {
   "cell_type": "markdown",
   "metadata": {},
   "source": [
    "Uniform resource locator (URL) is the most popular way to find resources on the web.  We can break the URL into four parts. \n",
    "\n",
    "<ul>\n",
    "    <li><b>scheme</b> this is this protocol, for this lab it will always be <code>http://</code>  </li>\n",
    "    <li><b>Internet address or  Base URL </b> this will be used to find the location here are some examples: <code>www.ibm.com</code> and  <code> www.gitlab.com </code> </li>\n",
    "    <li><b>route</b> location on the web server for example: <code>/images/IDSNlogo.png</code> </li>\n",
    "    <li><b>URL parameters</b> parameters included in an URL for example: <code>?userid=1</code> </li>\n",
    "\n",
    "</ul>\n"
   ]
  },
  {
   "cell_type": "markdown",
   "metadata": {},
   "source": [
    "You may also here the term uniform resource identifier (URI), URL are actually a subset of URIs. Another popular term is endpoint, this is the URL of an operation provided by a Web server.\n"
   ]
  },
  {
   "cell_type": "markdown",
   "metadata": {},
   "source": [
    "<h2 id=\"RE\">Request </h2>\n"
   ]
  },
  {
   "cell_type": "markdown",
   "metadata": {},
   "source": [
    "The process can be broken into the <b>request</b> and <b>response </b> process.  \n",
    "\n",
    "The request using the get method is partially illustrated below. In the start line we have the <code>GET</code> method, this is an <code>HTTP</code> method. Also the location of the resource <code>/index.html</code> and the <code>HTTP</code> version.\n",
    "\n",
    "The Request header passes additional information with an <code>HTTP</code> request:\n"
   ]
  },
  {
   "cell_type": "markdown",
   "metadata": {},
   "source": [
    "<div class=\"alert alert-block alert-info\" style=\"margin-top: 20px\">\n",
    "         <img src=\"https://s3-api.us-geo.objectstorage.softlayer.net/cf-courses-data/CognitiveClass/PY0101EN/images/reqest_messege.png\" width=\"400\" align=\"center\">\n",
    "</div>\n"
   ]
  },
  {
   "cell_type": "markdown",
   "metadata": {},
   "source": [
    "When an <code>HTTP</code> request is made, an <code>HTTP</code> method is sent, this tells the server what action to perform.  \n",
    "\n",
    "A list of several <code>HTTP</code> methods is shown below.\n"
   ]
  },
  {
   "cell_type": "markdown",
   "metadata": {},
   "source": [
    "<div class=\"alert alert-block alert-info\" style=\"margin-top: 20px\">\n",
    "         <img src=\"https://s3-api.us-geo.objectstorage.softlayer.net/cf-courses-data/CognitiveClass/PY0101EN/images/http_methods.png\" width=\"400\" align=\"center\">\n",
    "</div>\n"
   ]
  },
  {
   "cell_type": "markdown",
   "metadata": {},
   "source": [
    "<h2 id=\"RES\">Response</h2>\n"
   ]
  },
  {
   "cell_type": "markdown",
   "metadata": {},
   "source": [
    "The figure below represents the response; the response start line contains the version number <code>HTTP/1.0</code>, a status code (200)  meaning success, followed by a descriptive phrase (OK). \n",
    "\n",
    "The response header contains useful meta information. \n",
    "\n",
    "Finally, we have the response body containing the requested file an <code> HTML </code> document. It should be noted that some request have headers.\n"
   ]
  },
  {
   "cell_type": "markdown",
   "metadata": {},
   "source": [
    "<div class=\"alert alert-block alert-info\" style=\"margin-top: 20px\">\n",
    "         <img src=\"https://s3-api.us-geo.objectstorage.softlayer.net/cf-courses-data/CognitiveClass/PY0101EN/images/response_message.png\" width=\"400\" align=\"center\">\n",
    "</div>\n"
   ]
  },
  {
   "cell_type": "markdown",
   "metadata": {},
   "source": [
    "Some status code examples are shown in the table below, the prefix indicates the class; these are shown in yellow, with actual status codes shown in  white. Check out the following  <a href=\"https://developer.mozilla.org/en-US/docs/Web/HTTP/Status?utm_medium=Exinfluencer&utm_source=Exinfluencer&utm_content=000026UJ&utm_term=10006555&utm_id=NA-SkillsNetwork-Channel-SkillsNetworkCoursesIBMDeveloperSkillsNetworkRP0101ENCoursera889-2022-01-01\">link </a>  for more descriptions.\n"
   ]
  },
  {
   "cell_type": "markdown",
   "metadata": {},
   "source": [
    "<div class=\"alert alert-block alert-info\" style=\"margin-top: 20px\">\n",
    "         <img src=\"https://s3-api.us-geo.objectstorage.softlayer.net/cf-courses-data/CognitiveClass/PY0101EN/images/status_code.png\" width=\"300\" align=\"center\">\n",
    "</div>\n"
   ]
  },
  {
   "cell_type": "markdown",
   "metadata": {},
   "source": [
    "<a id=\"ref1\"></a>\n",
    "\n",
    "<h2 id=\"#httr\">The httr library</h2>\n"
   ]
  },
  {
   "cell_type": "markdown",
   "metadata": {},
   "source": [
    "`httr` is a R library that allows you to build and send <code>HTTP</code> requests, as well as process <code>HTTP</code> requests easily.  We can import the package as follows (may take less than minute to import):\n"
   ]
  },
  {
   "cell_type": "code",
   "execution_count": 4,
   "metadata": {},
   "outputs": [],
   "source": [
    "#install.packages(\"httr\")\n",
    "library(httr)"
   ]
  },
  {
   "cell_type": "markdown",
   "metadata": {},
   "source": [
    " You can make a <code>GET</code> request via the method <code>get</code> to [www.ibm.com](http://www.ibm.com?cm_mmc=Email_Newsletter-_-Developer_Ed%2BTech-_-WW_WW-_-SkillsNetwork-Courses-IBMDeveloperSkillsNetwork-PY0101EN-SkillsNetwork-19487395&cm_mmca1=000026UJ&cm_mmca2=10006555&cm_mmca3=M12345678&cvosrc=email.Newsletter.M12345678&cvo_campaign=000026UJ&cm_mmc=Email_Newsletter-_-Developer_Ed%2BTech-_-WW_WW-_-SkillsNetwork-Courses-IBMDeveloperSkillsNetwork-PY0101EN-SkillsNetwork-19487395&cm_mmca1=000026UJ&cm_mmca2=10006555&cm_mmca3=M12345678&cvosrc=email.Newsletter.M12345678&cvo_campaign=000026UJ&cm_mmc=Email_Newsletter-_-Developer_Ed%2BTech-_-WW_WW-_-SkillsNetwork-Courses-IBMDeveloperSkillsNetwork-PY0101EN-SkillsNetwork-19487395&cm_mmca1=000026UJ&cm_mmca2=10006555&cm_mmca3=M12345678&cvosrc=email.Newsletter.M12345678&cvo_campaign=000026UJ&cm_mmc=Email_Newsletter-_-Developer_Ed%2BTech-_-WW_WW-_-SkillsNetwork-Courses-IBMDeveloperSkillsNetwork-PY0101EN-SkillsNetwork-19487395&cm_mmca1=000026UJ&cm_mmca2=10006555&cm_mmca3=M12345678&cvosrc=email.Newsletter.M12345678&cvo_campaign=000026UJ&cm_mmc=Email_Newsletter-_-Developer_Ed%2BTech-_-WW_WW-_-SkillsNetwork-Courses-IBMDeveloperSkillsNetwork-PY0101EN-SkillsNetwork-19487395&cm_mmca1=000026UJ&cm_mmca2=10006555&cm_mmca3=M12345678&cvosrc=email.Newsletter.M12345678&cvo_campaign=000026UJ&cm_mmc=Email_Newsletter-_-Developer_Ed%2BTech-_-WW_WW-_-SkillsNetwork-Courses-IBMDeveloperSkillsNetwork-PY0101EN-SkillsNetwork-19487395&cm_mmca1=000026UJ&cm_mmca2=10006555&cm_mmca3=M12345678&cvosrc=email.Newsletter.M12345678&cvo_campaign=000026UJ&cm_mmc=Email_Newsletter-_-Developer_Ed%2BTech-_-WW_WW-_-SkillsNetwork-Courses-IBMDeveloperSkillsNetwork-PY0101EN-SkillsNetwork-19487395&cm_mmca1=000026UJ&cm_mmca2=10006555&cm_mmca3=M12345678&cvosrc=email.Newsletter.M12345678&cvo_campaign=000026UJ&cm_mmc=Email_Newsletter-_-Developer_Ed%2BTech-_-WW_WW-_-SkillsNetwork-Courses-IBMDeveloperSkillsNetwork-PY0101EN-SkillsNetwork-19487395&cm_mmca1=000026UJ&cm_mmca2=10006555&cm_mmca3=M12345678&cvosrc=email.Newsletter.M12345678&cvo_campaign=000026UJ&cm_mmc=Email_Newsletter-_-Developer_Ed%2BTech-_-WW_WW-_-SkillsNetwork-Courses-IBMDeveloperSkillsNetwork-PY0101EN-SkillsNetwork-19487395&cm_mmca1=000026UJ&cm_mmca2=10006555&cm_mmca3=M12345678&cvosrc=email.Newsletter.M12345678&cvo_campaign=000026UJ&cm_mmc=Email_Newsletter-_-Developer_Ed%2BTech-_-WW_WW-_-SkillsNetwork-Courses-IBMDeveloperSkillsNetwork-PY0101EN-SkillsNetwork-19487395&cm_mmca1=000026UJ&cm_mmca2=10006555&cm_mmca3=M12345678&cvosrc=email.Newsletter.M12345678&cvo_campaign=000026UJ): \n"
   ]
  },
  {
   "cell_type": "code",
   "execution_count": 5,
   "metadata": {},
   "outputs": [
    {
     "data": {
      "text/plain": [
       "Response [https://www.ibm.com/us-en]\n",
       "  Date: 2024-05-14 01:48\n",
       "  Status: 200\n",
       "  Content-Type: text/html;charset=utf-8\n",
       "  Size: 96.2 kB\n",
       "\n",
       "<!DOCTYPE HTML>\n",
       "<html lang=\"en-us\">\n",
       "<head>\r\n",
       "    \r\n",
       "    \r\n",
       "    \r\n",
       "    \r\n",
       "    \r\n",
       "    <meta charset=\"UTF-8\"/>\r\n",
       "..."
      ]
     },
     "metadata": {},
     "output_type": "display_data"
    }
   ],
   "source": [
    "url<-'https://www.ibm.com/'\n",
    "response<-GET(url)\n",
    "response"
   ]
  },
  {
   "cell_type": "markdown",
   "metadata": {},
   "source": [
    "We have the response object <code>response</code> , this has information about the response, like the status of the request. We can view the status code using the attribute <code>status</code>\n"
   ]
  },
  {
   "cell_type": "code",
   "execution_count": 6,
   "metadata": {},
   "outputs": [
    {
     "data": {
      "text/html": [
       "200"
      ],
      "text/latex": [
       "200"
      ],
      "text/markdown": [
       "200"
      ],
      "text/plain": [
       "[1] 200"
      ]
     },
     "metadata": {},
     "output_type": "display_data"
    }
   ],
   "source": [
    "response$status"
   ]
  },
  {
   "cell_type": "code",
   "execution_count": 7,
   "metadata": {},
   "outputs": [
    {
     "data": {
      "text/html": [
       "200"
      ],
      "text/latex": [
       "200"
      ],
      "text/markdown": [
       "200"
      ],
      "text/plain": [
       "[1] 200"
      ]
     },
     "metadata": {},
     "output_type": "display_data"
    }
   ],
   "source": [
    "response$status"
   ]
  },
  {
   "cell_type": "markdown",
   "metadata": {},
   "source": [
    "You can also check the headers of the response\n"
   ]
  },
  {
   "cell_type": "code",
   "execution_count": 8,
   "metadata": {},
   "outputs": [
    {
     "data": {
      "text/html": [
       "<dl>\n",
       "\t<dt>$`content-security-policy`</dt>\n",
       "\t\t<dd>'upgrade-insecure-requests'</dd>\n",
       "\t<dt>$`x-frame-options`</dt>\n",
       "\t\t<dd>'SAMEORIGIN'</dd>\n",
       "\t<dt>$`last-modified`</dt>\n",
       "\t\t<dd>'Tue, 14 May 2024 01:47:05 GMT'</dd>\n",
       "\t<dt>$etag</dt>\n",
       "\t\t<dd>'W/\"175d5-618602dd4851d-gzip\"'</dd>\n",
       "\t<dt>$`accept-ranges`</dt>\n",
       "\t\t<dd>'bytes'</dd>\n",
       "\t<dt>$`content-type`</dt>\n",
       "\t\t<dd>'text/html;charset=utf-8'</dd>\n",
       "\t<dt>$`x-content-type-options`</dt>\n",
       "\t\t<dd>'nosniff'</dd>\n",
       "\t<dt>$`cache-control`</dt>\n",
       "\t\t<dd>'max-age=600'</dd>\n",
       "\t<dt>$expires</dt>\n",
       "\t\t<dd>'Tue, 14 May 2024 01:58:45 GMT'</dd>\n",
       "\t<dt>$`x-akamai-transformed`</dt>\n",
       "\t\t<dd>'9 12731 0 pmb=mTOE,2'</dd>\n",
       "\t<dt>$`content-encoding`</dt>\n",
       "\t\t<dd>'gzip'</dd>\n",
       "\t<dt>$date</dt>\n",
       "\t\t<dd>'Tue, 14 May 2024 01:48:45 GMT'</dd>\n",
       "\t<dt>$`content-length`</dt>\n",
       "\t\t<dd>'12918'</dd>\n",
       "\t<dt>$connection</dt>\n",
       "\t\t<dd>'keep-alive'</dd>\n",
       "\t<dt>$vary</dt>\n",
       "\t\t<dd>'Accept-Encoding'</dd>\n",
       "\t<dt>$`strict-transport-security`</dt>\n",
       "\t\t<dd>'max-age=31536000'</dd>\n",
       "</dl>\n"
      ],
      "text/latex": [
       "\\begin{description}\n",
       "\\item[\\$`content-security-policy`] 'upgrade-insecure-requests'\n",
       "\\item[\\$`x-frame-options`] 'SAMEORIGIN'\n",
       "\\item[\\$`last-modified`] 'Tue, 14 May 2024 01:47:05 GMT'\n",
       "\\item[\\$etag] 'W/\"175d5-618602dd4851d-gzip\"'\n",
       "\\item[\\$`accept-ranges`] 'bytes'\n",
       "\\item[\\$`content-type`] 'text/html;charset=utf-8'\n",
       "\\item[\\$`x-content-type-options`] 'nosniff'\n",
       "\\item[\\$`cache-control`] 'max-age=600'\n",
       "\\item[\\$expires] 'Tue, 14 May 2024 01:58:45 GMT'\n",
       "\\item[\\$`x-akamai-transformed`] '9 12731 0 pmb=mTOE,2'\n",
       "\\item[\\$`content-encoding`] 'gzip'\n",
       "\\item[\\$date] 'Tue, 14 May 2024 01:48:45 GMT'\n",
       "\\item[\\$`content-length`] '12918'\n",
       "\\item[\\$connection] 'keep-alive'\n",
       "\\item[\\$vary] 'Accept-Encoding'\n",
       "\\item[\\$`strict-transport-security`] 'max-age=31536000'\n",
       "\\end{description}\n"
      ],
      "text/markdown": [
       "$`content-security-policy`\n",
       ":   'upgrade-insecure-requests'\n",
       "$`x-frame-options`\n",
       ":   'SAMEORIGIN'\n",
       "$`last-modified`\n",
       ":   'Tue, 14 May 2024 01:47:05 GMT'\n",
       "$etag\n",
       ":   'W/\"175d5-618602dd4851d-gzip\"'\n",
       "$`accept-ranges`\n",
       ":   'bytes'\n",
       "$`content-type`\n",
       ":   'text/html;charset=utf-8'\n",
       "$`x-content-type-options`\n",
       ":   'nosniff'\n",
       "$`cache-control`\n",
       ":   'max-age=600'\n",
       "$expires\n",
       ":   'Tue, 14 May 2024 01:58:45 GMT'\n",
       "$`x-akamai-transformed`\n",
       ":   '9 12731 0 pmb=mTOE,2'\n",
       "$`content-encoding`\n",
       ":   'gzip'\n",
       "$date\n",
       ":   'Tue, 14 May 2024 01:48:45 GMT'\n",
       "$`content-length`\n",
       ":   '12918'\n",
       "$connection\n",
       ":   'keep-alive'\n",
       "$vary\n",
       ":   'Accept-Encoding'\n",
       "$`strict-transport-security`\n",
       ":   'max-age=31536000'\n",
       "\n",
       "\n"
      ],
      "text/plain": [
       "$`content-security-policy`\n",
       "[1] \"upgrade-insecure-requests\"\n",
       "\n",
       "$`x-frame-options`\n",
       "[1] \"SAMEORIGIN\"\n",
       "\n",
       "$`last-modified`\n",
       "[1] \"Tue, 14 May 2024 01:47:05 GMT\"\n",
       "\n",
       "$etag\n",
       "[1] \"W/\\\"175d5-618602dd4851d-gzip\\\"\"\n",
       "\n",
       "$`accept-ranges`\n",
       "[1] \"bytes\"\n",
       "\n",
       "$`content-type`\n",
       "[1] \"text/html;charset=utf-8\"\n",
       "\n",
       "$`x-content-type-options`\n",
       "[1] \"nosniff\"\n",
       "\n",
       "$`cache-control`\n",
       "[1] \"max-age=600\"\n",
       "\n",
       "$expires\n",
       "[1] \"Tue, 14 May 2024 01:58:45 GMT\"\n",
       "\n",
       "$`x-akamai-transformed`\n",
       "[1] \"9 12731 0 pmb=mTOE,2\"\n",
       "\n",
       "$`content-encoding`\n",
       "[1] \"gzip\"\n",
       "\n",
       "$date\n",
       "[1] \"Tue, 14 May 2024 01:48:45 GMT\"\n",
       "\n",
       "$`content-length`\n",
       "[1] \"12918\"\n",
       "\n",
       "$connection\n",
       "[1] \"keep-alive\"\n",
       "\n",
       "$vary\n",
       "[1] \"Accept-Encoding\"\n",
       "\n",
       "$`strict-transport-security`\n",
       "[1] \"max-age=31536000\"\n",
       "\n",
       "attr(,\"class\")\n",
       "[1] \"insensitive\" \"list\"       "
      ]
     },
     "metadata": {},
     "output_type": "display_data"
    }
   ],
   "source": [
    "response_headers <- headers(response)\n",
    "response_headers"
   ]
  },
  {
   "cell_type": "markdown",
   "metadata": {},
   "source": [
    "We can obtain the date the request was sent using the key <code>Date</code>\n"
   ]
  },
  {
   "cell_type": "code",
   "execution_count": 9,
   "metadata": {},
   "outputs": [
    {
     "data": {
      "text/html": [
       "<strong>$date</strong> = 'Tue, 14 May 2024 01:48:45 GMT'"
      ],
      "text/latex": [
       "\\textbf{\\$date} = 'Tue, 14 May 2024 01:48:45 GMT'"
      ],
      "text/markdown": [
       "**$date** = 'Tue, 14 May 2024 01:48:45 GMT'"
      ],
      "text/plain": [
       "$date\n",
       "[1] \"Tue, 14 May 2024 01:48:45 GMT\"\n"
      ]
     },
     "metadata": {},
     "output_type": "display_data"
    }
   ],
   "source": [
    "response_headers['date']"
   ]
  },
  {
   "cell_type": "markdown",
   "metadata": {},
   "source": [
    "<code>Content-Type</code> indicates the type of data:\n"
   ]
  },
  {
   "cell_type": "code",
   "execution_count": 10,
   "metadata": {},
   "outputs": [
    {
     "data": {
      "text/html": [
       "<strong>$`content-type`</strong> = 'text/html;charset=utf-8'"
      ],
      "text/latex": [
       "\\textbf{\\$`content-type`} = 'text/html;charset=utf-8'"
      ],
      "text/markdown": [
       "**$`content-type`** = 'text/html;charset=utf-8'"
      ],
      "text/plain": [
       "$`content-type`\n",
       "[1] \"text/html;charset=utf-8\"\n"
      ]
     },
     "metadata": {},
     "output_type": "display_data"
    }
   ],
   "source": [
    "response_headers['content-type']"
   ]
  },
  {
   "cell_type": "markdown",
   "metadata": {},
   "source": [
    "To obtain the original request, you can view it via response object:\n"
   ]
  },
  {
   "cell_type": "code",
   "execution_count": 11,
   "metadata": {},
   "outputs": [
    {
     "data": {
      "text/html": [
       "<strong>Accept:</strong> 'application/json, text/xml, application/xml, */*'"
      ],
      "text/latex": [
       "\\textbf{Accept:} 'application/json, text/xml, application/xml, */*'"
      ],
      "text/markdown": [
       "**Accept:** 'application/json, text/xml, application/xml, */*'"
      ],
      "text/plain": [
       "                                            Accept \n",
       "\"application/json, text/xml, application/xml, */*\" "
      ]
     },
     "metadata": {},
     "output_type": "display_data"
    }
   ],
   "source": [
    "response$request$headers"
   ]
  },
  {
   "cell_type": "markdown",
   "metadata": {},
   "source": [
    "<hr>\n",
    "\n",
    "**Coding Exercise:** in the code cell below, find the content-length attribute in the response header\n"
   ]
  },
  {
   "cell_type": "code",
   "execution_count": 13,
   "metadata": {},
   "outputs": [
    {
     "data": {
      "text/html": [
       "<strong>$`content-length`</strong> = '12918'"
      ],
      "text/latex": [
       "\\textbf{\\$`content-length`} = '12918'"
      ],
      "text/markdown": [
       "**$`content-length`** = '12918'"
      ],
      "text/plain": [
       "$`content-length`\n",
       "[1] \"12918\"\n"
      ]
     },
     "metadata": {},
     "output_type": "display_data"
    }
   ],
   "source": [
    "# Write your code below. Don't forget to press Shift+Enter to execute the cell\n",
    "response_headers['content-length']"
   ]
  },
  {
   "cell_type": "markdown",
   "metadata": {},
   "source": [
    "<details><summary>Click here for the solution</summary>\n",
    "\n",
    "```R\n",
    "response_headers['content-length']\n",
    "\n",
    "```\n",
    "\n",
    "</details>\n",
    "\n",
    "<hr>\n"
   ]
  },
  {
   "cell_type": "markdown",
   "metadata": {},
   "source": [
    "Now, let's get the content of HTTP response\n"
   ]
  },
  {
   "cell_type": "code",
   "execution_count": 14,
   "metadata": {},
   "outputs": [
    {
     "data": {
      "text/plain": [
       "{xml_document}\n",
       "<html lang=\"en-us\">\n",
       "[1] <head>\\n<meta http-equiv=\"Content-Type\" content=\"text/html; charset=UTF-8 ...\n",
       "[2] <body class=\"content-page page basicpage publish\" id=\"content-page-c8104b ..."
      ]
     },
     "metadata": {},
     "output_type": "display_data"
    }
   ],
   "source": [
    "content(response)"
   ]
  },
  {
   "cell_type": "markdown",
   "metadata": {},
   "source": [
    "which is the IBM home page (in fact, HTML page which you will learn later in this course) \n"
   ]
  },
  {
   "cell_type": "markdown",
   "metadata": {},
   "source": [
    "You can load other types of data for non-text requests like images, consider the URL of the following image:\n"
   ]
  },
  {
   "cell_type": "code",
   "execution_count": 15,
   "metadata": {},
   "outputs": [],
   "source": [
    "image_url<-'https://gitlab.com/ibm/skills-network/courses/placeholder101/-/raw/master/labs/module%201/images/IDSNlogo.png'"
   ]
  },
  {
   "cell_type": "markdown",
   "metadata": {},
   "source": [
    "We can make a get request:\n"
   ]
  },
  {
   "cell_type": "code",
   "execution_count": 16,
   "metadata": {},
   "outputs": [],
   "source": [
    "image_response<-GET(image_url)"
   ]
  },
  {
   "cell_type": "markdown",
   "metadata": {},
   "source": [
    "We can look at the response  header:\n"
   ]
  },
  {
   "cell_type": "code",
   "execution_count": 17,
   "metadata": {},
   "outputs": [],
   "source": [
    "image_headers <- headers(image_response)\n"
   ]
  },
  {
   "cell_type": "code",
   "execution_count": 18,
   "metadata": {},
   "outputs": [
    {
     "data": {
      "text/html": [
       "<dl>\n",
       "\t<dt>$date</dt>\n",
       "\t\t<dd>'Tue, 14 May 2024 01:52:58 GMT'</dd>\n",
       "\t<dt>$`content-type`</dt>\n",
       "\t\t<dd>'text/html; charset=utf-8'</dd>\n",
       "\t<dt>$`transfer-encoding`</dt>\n",
       "\t\t<dd>'chunked'</dd>\n",
       "\t<dt>$connection</dt>\n",
       "\t\t<dd>'keep-alive'</dd>\n",
       "\t<dt>$`cache-control`</dt>\n",
       "\t\t<dd>'no-cache'</dd>\n",
       "\t<dt>$`content-security-policy`</dt>\n",
       "\t\t<dd>'base-uri \\'self\\'; child-src https://www.google.com/recaptcha/ https://www.recaptcha.net/ https://www.googletagmanager.com/ns.html https://*.zuora.com/apps/PublicHostedPageLite.do https://gitlab.com/admin/ https://gitlab.com/assets/ https://gitlab.com/-/speedscope/index.html https://gitlab.com/-/sandbox/ \\'self\\' https://gitlab.com/assets/ blob: data:; connect-src \\'self\\' https://gitlab.com wss://gitlab.com https://sentry.gitlab.net https://new-sentry.gitlab.net https://customers.gitlab.com https://snowplow.trx.gitlab.net https://sourcegraph.com https://collector.prd-278964.gl-product-analytics.com snowplow.trx.gitlab.net; default-src \\'self\\'; font-src \\'self\\'; form-action \\'self\\' https: http:; frame-ancestors \\'self\\'; frame-src https://www.google.com/recaptcha/ https://www.recaptcha.net/ https://www.googletagmanager.com/ns.html https://*.zuora.com/apps/PublicHostedPageLite.do https://gitlab.com/admin/ https://gitlab.com/assets/ https://gitlab.com/-/speedscope/index.html https://gitlab.com/-/sandbox/; img-src \\'self\\' data: blob: http: https:; manifest-src \\'self\\'; media-src \\'self\\' data: blob: http: https:; object-src \\'none\\'; report-uri https://new-sentry.gitlab.net/api/4/security/?sentry_key=f5573e26de8f4293b285e556c35dfd6e&amp;sentry_environment=gprd; script-src \\'strict-dynamic\\' \\'self\\' \\'unsafe-inline\\' \\'unsafe-eval\\' https://www.google.com/recaptcha/ https://www.gstatic.com/recaptcha/ https://www.recaptcha.net/ https://apis.google.com https://*.zuora.com/apps/PublicHostedPageLite.do \\'nonce-LheF/5o3cFXPscEjiJnVMw==\\'; style-src \\'self\\' \\'unsafe-inline\\'; worker-src \\'self\\' https://gitlab.com/assets/ blob: data:'</dd>\n",
       "\t<dt>$`permissions-policy`</dt>\n",
       "\t\t<dd>'interest-cohort=()'</dd>\n",
       "\t<dt>$`referrer-policy`</dt>\n",
       "\t\t<dd>'strict-origin-when-cross-origin'</dd>\n",
       "\t<dt>$`set-cookie`</dt>\n",
       "\t\t<dd>'_gitlab_session=53e255fe0ceda7a71231d03468c91236; path=/; expires=Tue, 14 May 2024 03:52:57 GMT; secure; HttpOnly; SameSite=None'</dd>\n",
       "\t<dt>$`x-content-type-options`</dt>\n",
       "\t\t<dd>'nosniff'</dd>\n",
       "\t<dt>$`x-download-options`</dt>\n",
       "\t\t<dd>'noopen'</dd>\n",
       "\t<dt>$`x-frame-options`</dt>\n",
       "\t\t<dd>'SAMEORIGIN'</dd>\n",
       "\t<dt>$`x-gitlab-custom-error`</dt>\n",
       "\t\t<dd>'1'</dd>\n",
       "\t<dt>$`x-gitlab-meta`</dt>\n",
       "\t\t<dd>'{\"correlation_id\":\"01HXTCV20Y6QGTGY6J01DJZQGJ\",\"version\":\"1\"}'</dd>\n",
       "\t<dt>$`x-permitted-cross-domain-policies`</dt>\n",
       "\t\t<dd>'none'</dd>\n",
       "\t<dt>$`x-request-id`</dt>\n",
       "\t\t<dd>'01HXTCV20Y6QGTGY6J01DJZQGJ'</dd>\n",
       "\t<dt>$`x-runtime`</dt>\n",
       "\t\t<dd>'0.105580'</dd>\n",
       "\t<dt>$`x-ua-compatible`</dt>\n",
       "\t\t<dd>'IE=edge'</dd>\n",
       "\t<dt>$`x-xss-protection`</dt>\n",
       "\t\t<dd>'1; mode=block'</dd>\n",
       "\t<dt>$`gitlab-lb`</dt>\n",
       "\t\t<dd>'haproxy-main-05-lb-gprd'</dd>\n",
       "\t<dt>$`gitlab-sv`</dt>\n",
       "\t\t<dd>'web-gke-us-east1-d'</dd>\n",
       "\t<dt>$`cf-cache-status`</dt>\n",
       "\t\t<dd>'MISS'</dd>\n",
       "\t<dt>$`report-to`</dt>\n",
       "\t\t<dd>'{\"endpoints\":[{\"url\":\"https:\\\\/\\\\/a.nel.cloudflare.com\\\\/report\\\\/v4?s=66WvOwVitD6DgSdCtja4epb769E9tRIZZqOoG4rvu9K2H9rvtG1Fw9WwA%2B3dWMl3IhPePV8nUMHzsV55VuITjML1H%2Bx2dqikvBmJ3OwWp7X9uY%2F8ne1CA0o0u3E%3D\"}],\"group\":\"cf-nel\",\"max_age\":604800}'</dd>\n",
       "\t<dt>$nel</dt>\n",
       "\t\t<dd>'{\"success_fraction\":0.01,\"report_to\":\"cf-nel\",\"max_age\":604800}'</dd>\n",
       "\t<dt>$vary</dt>\n",
       "\t\t<dd>'Accept-Encoding'</dd>\n",
       "\t<dt>$`strict-transport-security`</dt>\n",
       "\t\t<dd>'max-age=31536000'</dd>\n",
       "\t<dt>$server</dt>\n",
       "\t\t<dd>'cloudflare'</dd>\n",
       "\t<dt>$`cf-ray`</dt>\n",
       "\t\t<dd>'88374078eb6ea07b-SIN'</dd>\n",
       "\t<dt>$`content-encoding`</dt>\n",
       "\t\t<dd>'gzip'</dd>\n",
       "</dl>\n"
      ],
      "text/latex": [
       "\\begin{description}\n",
       "\\item[\\$date] 'Tue, 14 May 2024 01:52:58 GMT'\n",
       "\\item[\\$`content-type`] 'text/html; charset=utf-8'\n",
       "\\item[\\$`transfer-encoding`] 'chunked'\n",
       "\\item[\\$connection] 'keep-alive'\n",
       "\\item[\\$`cache-control`] 'no-cache'\n",
       "\\item[\\$`content-security-policy`] 'base-uri \\textbackslash{}'self\\textbackslash{}'; child-src https://www.google.com/recaptcha/ https://www.recaptcha.net/ https://www.googletagmanager.com/ns.html https://*.zuora.com/apps/PublicHostedPageLite.do https://gitlab.com/admin/ https://gitlab.com/assets/ https://gitlab.com/-/speedscope/index.html https://gitlab.com/-/sandbox/ \\textbackslash{}'self\\textbackslash{}' https://gitlab.com/assets/ blob: data:; connect-src \\textbackslash{}'self\\textbackslash{}' https://gitlab.com wss://gitlab.com https://sentry.gitlab.net https://new-sentry.gitlab.net https://customers.gitlab.com https://snowplow.trx.gitlab.net https://sourcegraph.com https://collector.prd-278964.gl-product-analytics.com snowplow.trx.gitlab.net; default-src \\textbackslash{}'self\\textbackslash{}'; font-src \\textbackslash{}'self\\textbackslash{}'; form-action \\textbackslash{}'self\\textbackslash{}' https: http:; frame-ancestors \\textbackslash{}'self\\textbackslash{}'; frame-src https://www.google.com/recaptcha/ https://www.recaptcha.net/ https://www.googletagmanager.com/ns.html https://*.zuora.com/apps/PublicHostedPageLite.do https://gitlab.com/admin/ https://gitlab.com/assets/ https://gitlab.com/-/speedscope/index.html https://gitlab.com/-/sandbox/; img-src \\textbackslash{}'self\\textbackslash{}' data: blob: http: https:; manifest-src \\textbackslash{}'self\\textbackslash{}'; media-src \\textbackslash{}'self\\textbackslash{}' data: blob: http: https:; object-src \\textbackslash{}'none\\textbackslash{}'; report-uri https://new-sentry.gitlab.net/api/4/security/?sentry\\_key=f5573e26de8f4293b285e556c35dfd6e\\&sentry\\_environment=gprd; script-src \\textbackslash{}'strict-dynamic\\textbackslash{}' \\textbackslash{}'self\\textbackslash{}' \\textbackslash{}'unsafe-inline\\textbackslash{}' \\textbackslash{}'unsafe-eval\\textbackslash{}' https://www.google.com/recaptcha/ https://www.gstatic.com/recaptcha/ https://www.recaptcha.net/ https://apis.google.com https://*.zuora.com/apps/PublicHostedPageLite.do \\textbackslash{}'nonce-LheF/5o3cFXPscEjiJnVMw==\\textbackslash{}'; style-src \\textbackslash{}'self\\textbackslash{}' \\textbackslash{}'unsafe-inline\\textbackslash{}'; worker-src \\textbackslash{}'self\\textbackslash{}' https://gitlab.com/assets/ blob: data:'\n",
       "\\item[\\$`permissions-policy`] 'interest-cohort=()'\n",
       "\\item[\\$`referrer-policy`] 'strict-origin-when-cross-origin'\n",
       "\\item[\\$`set-cookie`] '\\_gitlab\\_session=53e255fe0ceda7a71231d03468c91236; path=/; expires=Tue, 14 May 2024 03:52:57 GMT; secure; HttpOnly; SameSite=None'\n",
       "\\item[\\$`x-content-type-options`] 'nosniff'\n",
       "\\item[\\$`x-download-options`] 'noopen'\n",
       "\\item[\\$`x-frame-options`] 'SAMEORIGIN'\n",
       "\\item[\\$`x-gitlab-custom-error`] '1'\n",
       "\\item[\\$`x-gitlab-meta`] '\\{\"correlation\\_id\":\"01HXTCV20Y6QGTGY6J01DJZQGJ\",\"version\":\"1\"\\}'\n",
       "\\item[\\$`x-permitted-cross-domain-policies`] 'none'\n",
       "\\item[\\$`x-request-id`] '01HXTCV20Y6QGTGY6J01DJZQGJ'\n",
       "\\item[\\$`x-runtime`] '0.105580'\n",
       "\\item[\\$`x-ua-compatible`] 'IE=edge'\n",
       "\\item[\\$`x-xss-protection`] '1; mode=block'\n",
       "\\item[\\$`gitlab-lb`] 'haproxy-main-05-lb-gprd'\n",
       "\\item[\\$`gitlab-sv`] 'web-gke-us-east1-d'\n",
       "\\item[\\$`cf-cache-status`] 'MISS'\n",
       "\\item[\\$`report-to`] '\\{\"endpoints\":{[}\\{\"url\":\"https:\\textbackslash{}\\textbackslash{}/\\textbackslash{}\\textbackslash{}/a.nel.cloudflare.com\\textbackslash{}\\textbackslash{}/report\\textbackslash{}\\textbackslash{}/v4?s=66WvOwVitD6DgSdCtja4epb769E9tRIZZqOoG4rvu9K2H9rvtG1Fw9WwA\\%2B3dWMl3IhPePV8nUMHzsV55VuITjML1H\\%2Bx2dqikvBmJ3OwWp7X9uY\\%2F8ne1CA0o0u3E\\%3D\"\\}{]},\"group\":\"cf-nel\",\"max\\_age\":604800\\}'\n",
       "\\item[\\$nel] '\\{\"success\\_fraction\":0.01,\"report\\_to\":\"cf-nel\",\"max\\_age\":604800\\}'\n",
       "\\item[\\$vary] 'Accept-Encoding'\n",
       "\\item[\\$`strict-transport-security`] 'max-age=31536000'\n",
       "\\item[\\$server] 'cloudflare'\n",
       "\\item[\\$`cf-ray`] '88374078eb6ea07b-SIN'\n",
       "\\item[\\$`content-encoding`] 'gzip'\n",
       "\\end{description}\n"
      ],
      "text/markdown": [
       "$date\n",
       ":   'Tue, 14 May 2024 01:52:58 GMT'\n",
       "$`content-type`\n",
       ":   'text/html; charset=utf-8'\n",
       "$`transfer-encoding`\n",
       ":   'chunked'\n",
       "$connection\n",
       ":   'keep-alive'\n",
       "$`cache-control`\n",
       ":   'no-cache'\n",
       "$`content-security-policy`\n",
       ":   'base-uri \\'self\\'; child-src https://www.google.com/recaptcha/ https://www.recaptcha.net/ https://www.googletagmanager.com/ns.html https://*.zuora.com/apps/PublicHostedPageLite.do https://gitlab.com/admin/ https://gitlab.com/assets/ https://gitlab.com/-/speedscope/index.html https://gitlab.com/-/sandbox/ \\'self\\' https://gitlab.com/assets/ blob: data:; connect-src \\'self\\' https://gitlab.com wss://gitlab.com https://sentry.gitlab.net https://new-sentry.gitlab.net https://customers.gitlab.com https://snowplow.trx.gitlab.net https://sourcegraph.com https://collector.prd-278964.gl-product-analytics.com snowplow.trx.gitlab.net; default-src \\'self\\'; font-src \\'self\\'; form-action \\'self\\' https: http:; frame-ancestors \\'self\\'; frame-src https://www.google.com/recaptcha/ https://www.recaptcha.net/ https://www.googletagmanager.com/ns.html https://*.zuora.com/apps/PublicHostedPageLite.do https://gitlab.com/admin/ https://gitlab.com/assets/ https://gitlab.com/-/speedscope/index.html https://gitlab.com/-/sandbox/; img-src \\'self\\' data: blob: http: https:; manifest-src \\'self\\'; media-src \\'self\\' data: blob: http: https:; object-src \\'none\\'; report-uri https://new-sentry.gitlab.net/api/4/security/?sentry_key=f5573e26de8f4293b285e556c35dfd6e&amp;sentry_environment=gprd; script-src \\'strict-dynamic\\' \\'self\\' \\'unsafe-inline\\' \\'unsafe-eval\\' https://www.google.com/recaptcha/ https://www.gstatic.com/recaptcha/ https://www.recaptcha.net/ https://apis.google.com https://*.zuora.com/apps/PublicHostedPageLite.do \\'nonce-LheF/5o3cFXPscEjiJnVMw==\\'; style-src \\'self\\' \\'unsafe-inline\\'; worker-src \\'self\\' https://gitlab.com/assets/ blob: data:'\n",
       "$`permissions-policy`\n",
       ":   'interest-cohort=()'\n",
       "$`referrer-policy`\n",
       ":   'strict-origin-when-cross-origin'\n",
       "$`set-cookie`\n",
       ":   '_gitlab_session=53e255fe0ceda7a71231d03468c91236; path=/; expires=Tue, 14 May 2024 03:52:57 GMT; secure; HttpOnly; SameSite=None'\n",
       "$`x-content-type-options`\n",
       ":   'nosniff'\n",
       "$`x-download-options`\n",
       ":   'noopen'\n",
       "$`x-frame-options`\n",
       ":   'SAMEORIGIN'\n",
       "$`x-gitlab-custom-error`\n",
       ":   '1'\n",
       "$`x-gitlab-meta`\n",
       ":   '{\"correlation_id\":\"01HXTCV20Y6QGTGY6J01DJZQGJ\",\"version\":\"1\"}'\n",
       "$`x-permitted-cross-domain-policies`\n",
       ":   'none'\n",
       "$`x-request-id`\n",
       ":   '01HXTCV20Y6QGTGY6J01DJZQGJ'\n",
       "$`x-runtime`\n",
       ":   '0.105580'\n",
       "$`x-ua-compatible`\n",
       ":   'IE=edge'\n",
       "$`x-xss-protection`\n",
       ":   '1; mode=block'\n",
       "$`gitlab-lb`\n",
       ":   'haproxy-main-05-lb-gprd'\n",
       "$`gitlab-sv`\n",
       ":   'web-gke-us-east1-d'\n",
       "$`cf-cache-status`\n",
       ":   'MISS'\n",
       "$`report-to`\n",
       ":   '{\"endpoints\":[{\"url\":\"https:\\\\/\\\\/a.nel.cloudflare.com\\\\/report\\\\/v4?s=66WvOwVitD6DgSdCtja4epb769E9tRIZZqOoG4rvu9K2H9rvtG1Fw9WwA%2B3dWMl3IhPePV8nUMHzsV55VuITjML1H%2Bx2dqikvBmJ3OwWp7X9uY%2F8ne1CA0o0u3E%3D\"}],\"group\":\"cf-nel\",\"max_age\":604800}'\n",
       "$nel\n",
       ":   '{\"success_fraction\":0.01,\"report_to\":\"cf-nel\",\"max_age\":604800}'\n",
       "$vary\n",
       ":   'Accept-Encoding'\n",
       "$`strict-transport-security`\n",
       ":   'max-age=31536000'\n",
       "$server\n",
       ":   'cloudflare'\n",
       "$`cf-ray`\n",
       ":   '88374078eb6ea07b-SIN'\n",
       "$`content-encoding`\n",
       ":   'gzip'\n",
       "\n",
       "\n"
      ],
      "text/plain": [
       "$date\n",
       "[1] \"Tue, 14 May 2024 01:52:58 GMT\"\n",
       "\n",
       "$`content-type`\n",
       "[1] \"text/html; charset=utf-8\"\n",
       "\n",
       "$`transfer-encoding`\n",
       "[1] \"chunked\"\n",
       "\n",
       "$connection\n",
       "[1] \"keep-alive\"\n",
       "\n",
       "$`cache-control`\n",
       "[1] \"no-cache\"\n",
       "\n",
       "$`content-security-policy`\n",
       "[1] \"base-uri 'self'; child-src https://www.google.com/recaptcha/ https://www.recaptcha.net/ https://www.googletagmanager.com/ns.html https://*.zuora.com/apps/PublicHostedPageLite.do https://gitlab.com/admin/ https://gitlab.com/assets/ https://gitlab.com/-/speedscope/index.html https://gitlab.com/-/sandbox/ 'self' https://gitlab.com/assets/ blob: data:; connect-src 'self' https://gitlab.com wss://gitlab.com https://sentry.gitlab.net https://new-sentry.gitlab.net https://customers.gitlab.com https://snowplow.trx.gitlab.net https://sourcegraph.com https://collector.prd-278964.gl-product-analytics.com snowplow.trx.gitlab.net; default-src 'self'; font-src 'self'; form-action 'self' https: http:; frame-ancestors 'self'; frame-src https://www.google.com/recaptcha/ https://www.recaptcha.net/ https://www.googletagmanager.com/ns.html https://*.zuora.com/apps/PublicHostedPageLite.do https://gitlab.com/admin/ https://gitlab.com/assets/ https://gitlab.com/-/speedscope/index.html https://gitlab.com/-/sandbox/; img-src 'self' data: blob: http: https:; manifest-src 'self'; media-src 'self' data: blob: http: https:; object-src 'none'; report-uri https://new-sentry.gitlab.net/api/4/security/?sentry_key=f5573e26de8f4293b285e556c35dfd6e&sentry_environment=gprd; script-src 'strict-dynamic' 'self' 'unsafe-inline' 'unsafe-eval' https://www.google.com/recaptcha/ https://www.gstatic.com/recaptcha/ https://www.recaptcha.net/ https://apis.google.com https://*.zuora.com/apps/PublicHostedPageLite.do 'nonce-LheF/5o3cFXPscEjiJnVMw=='; style-src 'self' 'unsafe-inline'; worker-src 'self' https://gitlab.com/assets/ blob: data:\"\n",
       "\n",
       "$`permissions-policy`\n",
       "[1] \"interest-cohort=()\"\n",
       "\n",
       "$`referrer-policy`\n",
       "[1] \"strict-origin-when-cross-origin\"\n",
       "\n",
       "$`set-cookie`\n",
       "[1] \"_gitlab_session=53e255fe0ceda7a71231d03468c91236; path=/; expires=Tue, 14 May 2024 03:52:57 GMT; secure; HttpOnly; SameSite=None\"\n",
       "\n",
       "$`x-content-type-options`\n",
       "[1] \"nosniff\"\n",
       "\n",
       "$`x-download-options`\n",
       "[1] \"noopen\"\n",
       "\n",
       "$`x-frame-options`\n",
       "[1] \"SAMEORIGIN\"\n",
       "\n",
       "$`x-gitlab-custom-error`\n",
       "[1] \"1\"\n",
       "\n",
       "$`x-gitlab-meta`\n",
       "[1] \"{\\\"correlation_id\\\":\\\"01HXTCV20Y6QGTGY6J01DJZQGJ\\\",\\\"version\\\":\\\"1\\\"}\"\n",
       "\n",
       "$`x-permitted-cross-domain-policies`\n",
       "[1] \"none\"\n",
       "\n",
       "$`x-request-id`\n",
       "[1] \"01HXTCV20Y6QGTGY6J01DJZQGJ\"\n",
       "\n",
       "$`x-runtime`\n",
       "[1] \"0.105580\"\n",
       "\n",
       "$`x-ua-compatible`\n",
       "[1] \"IE=edge\"\n",
       "\n",
       "$`x-xss-protection`\n",
       "[1] \"1; mode=block\"\n",
       "\n",
       "$`gitlab-lb`\n",
       "[1] \"haproxy-main-05-lb-gprd\"\n",
       "\n",
       "$`gitlab-sv`\n",
       "[1] \"web-gke-us-east1-d\"\n",
       "\n",
       "$`cf-cache-status`\n",
       "[1] \"MISS\"\n",
       "\n",
       "$`report-to`\n",
       "[1] \"{\\\"endpoints\\\":[{\\\"url\\\":\\\"https:\\\\/\\\\/a.nel.cloudflare.com\\\\/report\\\\/v4?s=66WvOwVitD6DgSdCtja4epb769E9tRIZZqOoG4rvu9K2H9rvtG1Fw9WwA%2B3dWMl3IhPePV8nUMHzsV55VuITjML1H%2Bx2dqikvBmJ3OwWp7X9uY%2F8ne1CA0o0u3E%3D\\\"}],\\\"group\\\":\\\"cf-nel\\\",\\\"max_age\\\":604800}\"\n",
       "\n",
       "$nel\n",
       "[1] \"{\\\"success_fraction\\\":0.01,\\\"report_to\\\":\\\"cf-nel\\\",\\\"max_age\\\":604800}\"\n",
       "\n",
       "$vary\n",
       "[1] \"Accept-Encoding\"\n",
       "\n",
       "$`strict-transport-security`\n",
       "[1] \"max-age=31536000\"\n",
       "\n",
       "$server\n",
       "[1] \"cloudflare\"\n",
       "\n",
       "$`cf-ray`\n",
       "[1] \"88374078eb6ea07b-SIN\"\n",
       "\n",
       "$`content-encoding`\n",
       "[1] \"gzip\"\n",
       "\n",
       "attr(,\"class\")\n",
       "[1] \"insensitive\" \"list\"       "
      ]
     },
     "metadata": {},
     "output_type": "display_data"
    }
   ],
   "source": [
    "image_headers"
   ]
  },
  {
   "cell_type": "markdown",
   "metadata": {},
   "source": [
    "We can we can see the <code>'Content-Type'</code>, which is an image\n"
   ]
  },
  {
   "cell_type": "code",
   "execution_count": 19,
   "metadata": {},
   "outputs": [
    {
     "data": {
      "text/html": [
       "<strong>$`content-type`</strong> = 'text/html; charset=utf-8'"
      ],
      "text/latex": [
       "\\textbf{\\$`content-type`} = 'text/html; charset=utf-8'"
      ],
      "text/markdown": [
       "**$`content-type`** = 'text/html; charset=utf-8'"
      ],
      "text/plain": [
       "$`content-type`\n",
       "[1] \"text/html; charset=utf-8\"\n"
      ]
     },
     "metadata": {},
     "output_type": "display_data"
    }
   ],
   "source": [
    "image_headers['content-type']"
   ]
  },
  {
   "cell_type": "markdown",
   "metadata": {},
   "source": [
    "An image is a response object that contains the image as a  <a href=\"https://docs.python.org/3/glossary.html?utm_medium=Exinfluencer&utm_source=Exinfluencer&utm_content=000026UJ&utm_term=10006555&utm_id=NA-SkillsNetwork-Channel-SkillsNetworkCoursesIBMDeveloperSkillsNetworkRP0101ENCoursera889-2022-01-01#term-bytes-like-object\">bytes-like object</a>. As a result, we must save it using a file object. First, we specify the file path and\n",
    "name \n"
   ]
  },
  {
   "cell_type": "code",
   "execution_count": 20,
   "metadata": {},
   "outputs": [],
   "source": [
    "image <- content(image_response, \"raw\")\n",
    "writeBin(image, \"logo.png\")"
   ]
  },
  {
   "cell_type": "markdown",
   "metadata": {},
   "source": [
    "Then you should be able to find the `log.png` at the file explorer on the left\n"
   ]
  },
  {
   "cell_type": "markdown",
   "metadata": {},
   "source": [
    "<hr>\n",
    "\n",
    "**Coding Exercise:** in the code cell below, find another image url and use above code to request and download the image\n",
    "\n",
    "<hr>\n"
   ]
  },
  {
   "cell_type": "code",
   "execution_count": 21,
   "metadata": {},
   "outputs": [],
   "source": [
    "# Find another image URL you are interested, and download the image using above example\n",
    "url_image <- 'https://www.google.com/url?sa=i&url=https%3A%2F%2Fyody.vn%2Fhinh-anh-meo-hai-huoc&psig=AOvVaw2qVKM5-MOjBtn0NxLLlvgA&ust=1715738053541000&source=images&cd=vfe&opi=89978449&ved=0CBIQjRxqFwoTCJjY1b2EjIYDFQAAAAAdAAAAABAE'\n",
    "\n",
    "response <- GET(url_image)\n",
    "\n",
    "image <- content(image_response,'raw')\n",
    "writeBin(image, 'meo.png')"
   ]
  },
  {
   "cell_type": "markdown",
   "metadata": {},
   "source": [
    "<h2 id=\"URL_P\">Get Request with URL Parameters </h2>\n"
   ]
  },
  {
   "cell_type": "markdown",
   "metadata": {},
   "source": [
    "You can also add URL parameters to HTTP GET request to filter resources. For example, instead of return all users from an API, I only want to get the user with id 1. To do so, I can add a URL parameter like `userid = 1` in my GET request.\n"
   ]
  },
  {
   "cell_type": "markdown",
   "metadata": {},
   "source": [
    "Let's see an GET example with URL parameters:\n"
   ]
  },
  {
   "cell_type": "markdown",
   "metadata": {},
   "source": [
    "Suppose we have a simple GET API with base URL for <code>[http://httpbin.org/](http://httpbin.org?cm_mmc=Email_Newsletter-_-Developer_Ed%2BTech-_-WW_WW-_-SkillsNetwork-Courses-IBMDeveloperSkillsNetwork-PY0101EN-SkillsNetwork-19487395&cm_mmca1=000026UJ&cm_mmca2=10006555&cm_mmca3=M12345678&cvosrc=email.Newsletter.M12345678&cvo_campaign=000026UJ&cm_mmc=Email_Newsletter-_-Developer_Ed%2BTech-_-WW_WW-_-SkillsNetwork-Courses-IBMDeveloperSkillsNetwork-PY0101EN-SkillsNetwork-19487395&cm_mmca1=000026UJ&cm_mmca2=10006555&cm_mmca3=M12345678&cvosrc=email.Newsletter.M12345678&cvo_campaign=000026UJ&cm_mmc=Email_Newsletter-_-Developer_Ed%2BTech-_-WW_WW-_-SkillsNetwork-Courses-IBMDeveloperSkillsNetwork-PY0101EN-SkillsNetwork-19487395&cm_mmca1=000026UJ&cm_mmca2=10006555&cm_mmca3=M12345678&cvosrc=email.Newsletter.M12345678&cvo_campaign=000026UJ)</code> \n"
   ]
  },
  {
   "cell_type": "code",
   "execution_count": 23,
   "metadata": {},
   "outputs": [],
   "source": [
    "url_get <- 'http://httpbin.org/get'"
   ]
  },
  {
   "cell_type": "markdown",
   "metadata": {},
   "source": [
    "and we want to add some URL parameters to above GET API. To do so, we simply create a named list with parameter names and values:\n"
   ]
  },
  {
   "cell_type": "code",
   "execution_count": 24,
   "metadata": {},
   "outputs": [],
   "source": [
    "query_params <- list(name = \"Yan\", ID = \"123\")"
   ]
  },
  {
   "cell_type": "markdown",
   "metadata": {},
   "source": [
    "Then passing the list <code>query_params</code> to the <code>query</code> argument of the <code> GET()</code> function. \n",
    "\n",
    "It basically tells the GET API I only want to get resources with name equals `Yan` and id equals `123`.\n",
    "\n",
    "OK, let's make the GET request to 'http://httpbin.org/get' with the two arameters\n"
   ]
  },
  {
   "cell_type": "code",
   "execution_count": 25,
   "metadata": {},
   "outputs": [],
   "source": [
    "response <- GET(url_get, query=query_params)"
   ]
  },
  {
   "cell_type": "markdown",
   "metadata": {},
   "source": [
    "We can print out the updated <code>URL</code> and see the attached URL parameters.\n"
   ]
  },
  {
   "cell_type": "code",
   "execution_count": 26,
   "metadata": {},
   "outputs": [
    {
     "data": {
      "text/html": [
       "'http://httpbin.org/get?name=Yan&amp;ID=123'"
      ],
      "text/latex": [
       "'http://httpbin.org/get?name=Yan\\&ID=123'"
      ],
      "text/markdown": [
       "'http://httpbin.org/get?name=Yan&amp;ID=123'"
      ],
      "text/plain": [
       "[1] \"http://httpbin.org/get?name=Yan&ID=123\""
      ]
     },
     "metadata": {},
     "output_type": "display_data"
    }
   ],
   "source": [
    "response$request$url"
   ]
  },
  {
   "cell_type": "markdown",
   "metadata": {},
   "source": [
    "After the base URL http://httpbin.org/get, you can see the URL parameters `name=Yan&ID=123` are seperated by `?`\n"
   ]
  },
  {
   "cell_type": "markdown",
   "metadata": {},
   "source": [
    "The attribute <code>args</code> of the response had the name and values:\n"
   ]
  },
  {
   "cell_type": "code",
   "execution_count": 27,
   "metadata": {},
   "outputs": [
    {
     "data": {
      "text/html": [
       "<dl>\n",
       "\t<dt>$ID</dt>\n",
       "\t\t<dd>'123'</dd>\n",
       "\t<dt>$name</dt>\n",
       "\t\t<dd>'Yan'</dd>\n",
       "</dl>\n"
      ],
      "text/latex": [
       "\\begin{description}\n",
       "\\item[\\$ID] '123'\n",
       "\\item[\\$name] 'Yan'\n",
       "\\end{description}\n"
      ],
      "text/markdown": [
       "$ID\n",
       ":   '123'\n",
       "$name\n",
       ":   'Yan'\n",
       "\n",
       "\n"
      ],
      "text/plain": [
       "$ID\n",
       "[1] \"123\"\n",
       "\n",
       "$name\n",
       "[1] \"Yan\"\n"
      ]
     },
     "metadata": {},
     "output_type": "display_data"
    }
   ],
   "source": [
    "content(response)$args"
   ]
  },
  {
   "cell_type": "markdown",
   "metadata": {},
   "source": [
    "<h2 id=\"POST\">Post Requests  </h2>\n"
   ]
  },
  {
   "cell_type": "markdown",
   "metadata": {},
   "source": [
    "Like a <code>GET</code> request a <code>POST</code> is used to send data to a server in a request body. In order to send the Post Request in Python in the <code>URL</code> we change the route to <code>POST</code>:\n"
   ]
  },
  {
   "cell_type": "code",
   "execution_count": 28,
   "metadata": {},
   "outputs": [],
   "source": [
    "url_post <- 'http://httpbin.org/post'"
   ]
  },
  {
   "cell_type": "markdown",
   "metadata": {},
   "source": [
    "This endpoint will expect data as a file or as a form, a from is convenient way to configure an HTTP request to send data to a server.\n"
   ]
  },
  {
   "cell_type": "markdown",
   "metadata": {},
   "source": [
    "To make a <code>POST</code> request we use the <code>POST()</code> function, the list <code>body</code>  is passed to the parameter <code> body </code>:\n"
   ]
  },
  {
   "cell_type": "code",
   "execution_count": 29,
   "metadata": {},
   "outputs": [
    {
     "data": {
      "text/plain": [
       "Response [http://httpbin.org/post]\n",
       "  Date: 2024-05-14 01:58\n",
       "  Status: 200\n",
       "  Content-Type: application/json\n",
       "  Size: 623 B\n",
       "{\n",
       "  \"args\": {}, \n",
       "  \"data\": \"\", \n",
       "  \"files\": {}, \n",
       "  \"form\": {\n",
       "    \"course_name\": \"Introduction to R\", \n",
       "    \"instructor\": \"Yan\"\n",
       "  }, \n",
       "  \"headers\": {\n",
       "    \"Accept\": \"application/json, text/xml, application/xml, */*\", \n",
       "..."
      ]
     },
     "metadata": {},
     "output_type": "display_data"
    }
   ],
   "source": [
    "body<- list(course_name='Introduction to R', instructor='Yan')\n",
    "response<-POST('http://httpbin.org/post', body = body)\n",
    "response"
   ]
  },
  {
   "cell_type": "markdown",
   "metadata": {},
   "source": [
    "We can see POST request has a body stored in fields attribute\n"
   ]
  },
  {
   "cell_type": "code",
   "execution_count": 30,
   "metadata": {},
   "outputs": [
    {
     "data": {
      "text/html": [
       "<dl>\n",
       "\t<dt>$course_name</dt>\n",
       "\t\t<dd>'Introduction to R'</dd>\n",
       "\t<dt>$instructor</dt>\n",
       "\t\t<dd>'Yan'</dd>\n",
       "</dl>\n"
      ],
      "text/latex": [
       "\\begin{description}\n",
       "\\item[\\$course\\_name] 'Introduction to R'\n",
       "\\item[\\$instructor] 'Yan'\n",
       "\\end{description}\n"
      ],
      "text/markdown": [
       "$course_name\n",
       ":   'Introduction to R'\n",
       "$instructor\n",
       ":   'Yan'\n",
       "\n",
       "\n"
      ],
      "text/plain": [
       "$course_name\n",
       "[1] \"Introduction to R\"\n",
       "\n",
       "$instructor\n",
       "[1] \"Yan\"\n"
      ]
     },
     "metadata": {},
     "output_type": "display_data"
    }
   ],
   "source": [
    "response$request$fields"
   ]
  },
  {
   "cell_type": "markdown",
   "metadata": {},
   "source": [
    "There is a lot more you can do check out <a href=\"https://cran.r-project.org/web/packages/httr/vignettes/quickstart.html?utm_medium=Exinfluencer&utm_source=Exinfluencer&utm_content=000026UJ&utm_term=10006555&utm_id=NA-SkillsNetwork-Channel-SkillsNetworkCoursesIBMDeveloperSkillsNetworkRP0101ENCoursera889-2022-01-01\">httr </a> here.\n"
   ]
  },
  {
   "cell_type": "markdown",
   "metadata": {},
   "source": [
    "<hr>\n"
   ]
  },
  {
   "cell_type": "markdown",
   "metadata": {},
   "source": [
    "## Authors\n",
    "\n",
    "Hi, this is <a href=\"https://www.linkedin.com/in/yan-luo-96288783/?utm_medium=Exinfluencer&utm_source=Exinfluencer&utm_content=000026UJ&utm_term=10006555&utm_id=NA-SkillsNetwork-Channel-SkillsNetworkCoursesIBMDeveloperSkillsNetworkRP0101ENCoursera889-2022-01-01\" target=\"_blank\">Yan Luo</a> the author of this notebook. \n",
    "\n",
    "I hope you found it easy to learn how to HTTP requests in R! Feel free to connect with us if you have any questions.\n"
   ]
  },
  {
   "cell_type": "markdown",
   "metadata": {},
   "source": [
    "### Other Contributors\n"
   ]
  },
  {
   "cell_type": "markdown",
   "metadata": {},
   "source": [
    "## Change Log\n",
    "\n",
    "| Date (YYYY-MM-DD) | Version | Changed By | Change Description           |\n",
    "| ----------------- | ------- | ---------- | ---------------------------- |\n",
    "| 2021-03-05        | 1.0     | Yan        | Initial version created      |\n",
    "|                   |         |            |                              |\n",
    "|                   |         |            |                              |\n",
    "\n",
    "## <h3 align=\"center\"> © IBM Corporation 2021. All rights reserved. <h3/>\n"
   ]
  }
 ],
 "metadata": {
  "kernelspec": {
   "display_name": "R",
   "language": "R",
   "name": "ir"
  },
  "language_info": {
   "codemirror_mode": "r",
   "file_extension": ".r",
   "mimetype": "text/x-r-source",
   "name": "R",
   "pygments_lexer": "r",
   "version": "3.6.1"
  }
 },
 "nbformat": 4,
 "nbformat_minor": 4
}
