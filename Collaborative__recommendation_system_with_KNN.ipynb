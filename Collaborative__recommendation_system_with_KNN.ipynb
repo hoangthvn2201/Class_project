{
  "nbformat": 4,
  "nbformat_minor": 0,
  "metadata": {
    "colab": {
      "provenance": []
    },
    "kernelspec": {
      "name": "python3",
      "display_name": "Python 3"
    },
    "language_info": {
      "name": "python"
    }
  },
  "cells": [
    {
      "cell_type": "markdown",
      "source": [
        "# EDA"
      ],
      "metadata": {
        "id": "I1dLnPhSwSlz"
      }
    },
    {
      "cell_type": "code",
      "execution_count": null,
      "metadata": {
        "colab": {
          "base_uri": "https://localhost:8080/",
          "height": 206
        },
        "id": "O5s7sa7fQn3m",
        "outputId": "215e780d-8eab-47f8-e2a8-5d6ae3e220bc"
      },
      "outputs": [
        {
          "output_type": "execute_result",
          "data": {
            "text/plain": [
              "      user        item  rating\n",
              "0  1889878    CC0101EN     3.0\n",
              "1  1342067    CL0101EN     3.0\n",
              "2  1990814  ML0120ENv3     3.0\n",
              "3   380098    BD0211EN     3.0\n",
              "4   779563    DS0101EN     3.0"
            ],
            "text/html": [
              "\n",
              "  <div id=\"df-8fc0854a-b71f-4973-8286-2334195da59a\" class=\"colab-df-container\">\n",
              "    <div>\n",
              "<style scoped>\n",
              "    .dataframe tbody tr th:only-of-type {\n",
              "        vertical-align: middle;\n",
              "    }\n",
              "\n",
              "    .dataframe tbody tr th {\n",
              "        vertical-align: top;\n",
              "    }\n",
              "\n",
              "    .dataframe thead th {\n",
              "        text-align: right;\n",
              "    }\n",
              "</style>\n",
              "<table border=\"1\" class=\"dataframe\">\n",
              "  <thead>\n",
              "    <tr style=\"text-align: right;\">\n",
              "      <th></th>\n",
              "      <th>user</th>\n",
              "      <th>item</th>\n",
              "      <th>rating</th>\n",
              "    </tr>\n",
              "  </thead>\n",
              "  <tbody>\n",
              "    <tr>\n",
              "      <th>0</th>\n",
              "      <td>1889878</td>\n",
              "      <td>CC0101EN</td>\n",
              "      <td>3.0</td>\n",
              "    </tr>\n",
              "    <tr>\n",
              "      <th>1</th>\n",
              "      <td>1342067</td>\n",
              "      <td>CL0101EN</td>\n",
              "      <td>3.0</td>\n",
              "    </tr>\n",
              "    <tr>\n",
              "      <th>2</th>\n",
              "      <td>1990814</td>\n",
              "      <td>ML0120ENv3</td>\n",
              "      <td>3.0</td>\n",
              "    </tr>\n",
              "    <tr>\n",
              "      <th>3</th>\n",
              "      <td>380098</td>\n",
              "      <td>BD0211EN</td>\n",
              "      <td>3.0</td>\n",
              "    </tr>\n",
              "    <tr>\n",
              "      <th>4</th>\n",
              "      <td>779563</td>\n",
              "      <td>DS0101EN</td>\n",
              "      <td>3.0</td>\n",
              "    </tr>\n",
              "  </tbody>\n",
              "</table>\n",
              "</div>\n",
              "    <div class=\"colab-df-buttons\">\n",
              "\n",
              "  <div class=\"colab-df-container\">\n",
              "    <button class=\"colab-df-convert\" onclick=\"convertToInteractive('df-8fc0854a-b71f-4973-8286-2334195da59a')\"\n",
              "            title=\"Convert this dataframe to an interactive table.\"\n",
              "            style=\"display:none;\">\n",
              "\n",
              "  <svg xmlns=\"http://www.w3.org/2000/svg\" height=\"24px\" viewBox=\"0 -960 960 960\">\n",
              "    <path d=\"M120-120v-720h720v720H120Zm60-500h600v-160H180v160Zm220 220h160v-160H400v160Zm0 220h160v-160H400v160ZM180-400h160v-160H180v160Zm440 0h160v-160H620v160ZM180-180h160v-160H180v160Zm440 0h160v-160H620v160Z\"/>\n",
              "  </svg>\n",
              "    </button>\n",
              "\n",
              "  <style>\n",
              "    .colab-df-container {\n",
              "      display:flex;\n",
              "      gap: 12px;\n",
              "    }\n",
              "\n",
              "    .colab-df-convert {\n",
              "      background-color: #E8F0FE;\n",
              "      border: none;\n",
              "      border-radius: 50%;\n",
              "      cursor: pointer;\n",
              "      display: none;\n",
              "      fill: #1967D2;\n",
              "      height: 32px;\n",
              "      padding: 0 0 0 0;\n",
              "      width: 32px;\n",
              "    }\n",
              "\n",
              "    .colab-df-convert:hover {\n",
              "      background-color: #E2EBFA;\n",
              "      box-shadow: 0px 1px 2px rgba(60, 64, 67, 0.3), 0px 1px 3px 1px rgba(60, 64, 67, 0.15);\n",
              "      fill: #174EA6;\n",
              "    }\n",
              "\n",
              "    .colab-df-buttons div {\n",
              "      margin-bottom: 4px;\n",
              "    }\n",
              "\n",
              "    [theme=dark] .colab-df-convert {\n",
              "      background-color: #3B4455;\n",
              "      fill: #D2E3FC;\n",
              "    }\n",
              "\n",
              "    [theme=dark] .colab-df-convert:hover {\n",
              "      background-color: #434B5C;\n",
              "      box-shadow: 0px 1px 3px 1px rgba(0, 0, 0, 0.15);\n",
              "      filter: drop-shadow(0px 1px 2px rgba(0, 0, 0, 0.3));\n",
              "      fill: #FFFFFF;\n",
              "    }\n",
              "  </style>\n",
              "\n",
              "    <script>\n",
              "      const buttonEl =\n",
              "        document.querySelector('#df-8fc0854a-b71f-4973-8286-2334195da59a button.colab-df-convert');\n",
              "      buttonEl.style.display =\n",
              "        google.colab.kernel.accessAllowed ? 'block' : 'none';\n",
              "\n",
              "      async function convertToInteractive(key) {\n",
              "        const element = document.querySelector('#df-8fc0854a-b71f-4973-8286-2334195da59a');\n",
              "        const dataTable =\n",
              "          await google.colab.kernel.invokeFunction('convertToInteractive',\n",
              "                                                    [key], {});\n",
              "        if (!dataTable) return;\n",
              "\n",
              "        const docLinkHtml = 'Like what you see? Visit the ' +\n",
              "          '<a target=\"_blank\" href=https://colab.research.google.com/notebooks/data_table.ipynb>data table notebook</a>'\n",
              "          + ' to learn more about interactive tables.';\n",
              "        element.innerHTML = '';\n",
              "        dataTable['output_type'] = 'display_data';\n",
              "        await google.colab.output.renderOutput(dataTable, element);\n",
              "        const docLink = document.createElement('div');\n",
              "        docLink.innerHTML = docLinkHtml;\n",
              "        element.appendChild(docLink);\n",
              "      }\n",
              "    </script>\n",
              "  </div>\n",
              "\n",
              "\n",
              "<div id=\"df-e95840a1-b237-4689-a2bc-b3cbf5787017\">\n",
              "  <button class=\"colab-df-quickchart\" onclick=\"quickchart('df-e95840a1-b237-4689-a2bc-b3cbf5787017')\"\n",
              "            title=\"Suggest charts\"\n",
              "            style=\"display:none;\">\n",
              "\n",
              "<svg xmlns=\"http://www.w3.org/2000/svg\" height=\"24px\"viewBox=\"0 0 24 24\"\n",
              "     width=\"24px\">\n",
              "    <g>\n",
              "        <path d=\"M19 3H5c-1.1 0-2 .9-2 2v14c0 1.1.9 2 2 2h14c1.1 0 2-.9 2-2V5c0-1.1-.9-2-2-2zM9 17H7v-7h2v7zm4 0h-2V7h2v10zm4 0h-2v-4h2v4z\"/>\n",
              "    </g>\n",
              "</svg>\n",
              "  </button>\n",
              "\n",
              "<style>\n",
              "  .colab-df-quickchart {\n",
              "      --bg-color: #E8F0FE;\n",
              "      --fill-color: #1967D2;\n",
              "      --hover-bg-color: #E2EBFA;\n",
              "      --hover-fill-color: #174EA6;\n",
              "      --disabled-fill-color: #AAA;\n",
              "      --disabled-bg-color: #DDD;\n",
              "  }\n",
              "\n",
              "  [theme=dark] .colab-df-quickchart {\n",
              "      --bg-color: #3B4455;\n",
              "      --fill-color: #D2E3FC;\n",
              "      --hover-bg-color: #434B5C;\n",
              "      --hover-fill-color: #FFFFFF;\n",
              "      --disabled-bg-color: #3B4455;\n",
              "      --disabled-fill-color: #666;\n",
              "  }\n",
              "\n",
              "  .colab-df-quickchart {\n",
              "    background-color: var(--bg-color);\n",
              "    border: none;\n",
              "    border-radius: 50%;\n",
              "    cursor: pointer;\n",
              "    display: none;\n",
              "    fill: var(--fill-color);\n",
              "    height: 32px;\n",
              "    padding: 0;\n",
              "    width: 32px;\n",
              "  }\n",
              "\n",
              "  .colab-df-quickchart:hover {\n",
              "    background-color: var(--hover-bg-color);\n",
              "    box-shadow: 0 1px 2px rgba(60, 64, 67, 0.3), 0 1px 3px 1px rgba(60, 64, 67, 0.15);\n",
              "    fill: var(--button-hover-fill-color);\n",
              "  }\n",
              "\n",
              "  .colab-df-quickchart-complete:disabled,\n",
              "  .colab-df-quickchart-complete:disabled:hover {\n",
              "    background-color: var(--disabled-bg-color);\n",
              "    fill: var(--disabled-fill-color);\n",
              "    box-shadow: none;\n",
              "  }\n",
              "\n",
              "  .colab-df-spinner {\n",
              "    border: 2px solid var(--fill-color);\n",
              "    border-color: transparent;\n",
              "    border-bottom-color: var(--fill-color);\n",
              "    animation:\n",
              "      spin 1s steps(1) infinite;\n",
              "  }\n",
              "\n",
              "  @keyframes spin {\n",
              "    0% {\n",
              "      border-color: transparent;\n",
              "      border-bottom-color: var(--fill-color);\n",
              "      border-left-color: var(--fill-color);\n",
              "    }\n",
              "    20% {\n",
              "      border-color: transparent;\n",
              "      border-left-color: var(--fill-color);\n",
              "      border-top-color: var(--fill-color);\n",
              "    }\n",
              "    30% {\n",
              "      border-color: transparent;\n",
              "      border-left-color: var(--fill-color);\n",
              "      border-top-color: var(--fill-color);\n",
              "      border-right-color: var(--fill-color);\n",
              "    }\n",
              "    40% {\n",
              "      border-color: transparent;\n",
              "      border-right-color: var(--fill-color);\n",
              "      border-top-color: var(--fill-color);\n",
              "    }\n",
              "    60% {\n",
              "      border-color: transparent;\n",
              "      border-right-color: var(--fill-color);\n",
              "    }\n",
              "    80% {\n",
              "      border-color: transparent;\n",
              "      border-right-color: var(--fill-color);\n",
              "      border-bottom-color: var(--fill-color);\n",
              "    }\n",
              "    90% {\n",
              "      border-color: transparent;\n",
              "      border-bottom-color: var(--fill-color);\n",
              "    }\n",
              "  }\n",
              "</style>\n",
              "\n",
              "  <script>\n",
              "    async function quickchart(key) {\n",
              "      const quickchartButtonEl =\n",
              "        document.querySelector('#' + key + ' button');\n",
              "      quickchartButtonEl.disabled = true;  // To prevent multiple clicks.\n",
              "      quickchartButtonEl.classList.add('colab-df-spinner');\n",
              "      try {\n",
              "        const charts = await google.colab.kernel.invokeFunction(\n",
              "            'suggestCharts', [key], {});\n",
              "      } catch (error) {\n",
              "        console.error('Error during call to suggestCharts:', error);\n",
              "      }\n",
              "      quickchartButtonEl.classList.remove('colab-df-spinner');\n",
              "      quickchartButtonEl.classList.add('colab-df-quickchart-complete');\n",
              "    }\n",
              "    (() => {\n",
              "      let quickchartButtonEl =\n",
              "        document.querySelector('#df-e95840a1-b237-4689-a2bc-b3cbf5787017 button');\n",
              "      quickchartButtonEl.style.display =\n",
              "        google.colab.kernel.accessAllowed ? 'block' : 'none';\n",
              "    })();\n",
              "  </script>\n",
              "</div>\n",
              "\n",
              "    </div>\n",
              "  </div>\n"
            ],
            "application/vnd.google.colaboratory.intrinsic+json": {
              "type": "dataframe",
              "variable_name": "rating_df"
            }
          },
          "metadata": {},
          "execution_count": 1
        }
      ],
      "source": [
        "import pandas as pd\n",
        "import numpy as np\n",
        "import math\n",
        "from sklearn.metrics.pairwise import cosine_similarity\n",
        "rating_url = \"https://cf-courses-data.s3.us.cloud-object-storage.appdomain.cloud/IBM-ML321EN-SkillsNetwork/labs/datasets/ratings.csv\"\n",
        "rating_df = pd.read_csv(rating_url)\n",
        "\n",
        "rating_df.head()"
      ]
    },
    {
      "cell_type": "code",
      "source": [
        "rating_df.info()"
      ],
      "metadata": {
        "colab": {
          "base_uri": "https://localhost:8080/"
        },
        "id": "ikGM9kMbWR2M",
        "outputId": "1fcb3e84-025b-4325-bb2b-fafaa26e20f1"
      },
      "execution_count": null,
      "outputs": [
        {
          "output_type": "stream",
          "name": "stdout",
          "text": [
            "<class 'pandas.core.frame.DataFrame'>\n",
            "RangeIndex: 233306 entries, 0 to 233305\n",
            "Data columns (total 3 columns):\n",
            " #   Column  Non-Null Count   Dtype  \n",
            "---  ------  --------------   -----  \n",
            " 0   user    233306 non-null  int64  \n",
            " 1   item    233306 non-null  object \n",
            " 2   rating  233306 non-null  float64\n",
            "dtypes: float64(1), int64(1), object(1)\n",
            "memory usage: 5.3+ MB\n"
          ]
        }
      ]
    },
    {
      "cell_type": "code",
      "source": [
        "print(f\"Number of users : {len(rating_df['user'].unique())}\")"
      ],
      "metadata": {
        "colab": {
          "base_uri": "https://localhost:8080/"
        },
        "id": "aiwl4LJsWf-n",
        "outputId": "482d3977-e3ad-4d73-8481-75554b178d82"
      },
      "execution_count": null,
      "outputs": [
        {
          "output_type": "stream",
          "name": "stdout",
          "text": [
            "Number of users : 33901\n"
          ]
        }
      ]
    },
    {
      "cell_type": "code",
      "source": [
        "print(f\"Number of items : {len(rating_df['item'].unique())}\")"
      ],
      "metadata": {
        "colab": {
          "base_uri": "https://localhost:8080/"
        },
        "id": "lgvoi2yTXDNs",
        "outputId": "d211b106-45f5-4781-f2f4-2b2e1a86ff5a"
      },
      "execution_count": null,
      "outputs": [
        {
          "output_type": "stream",
          "name": "stdout",
          "text": [
            "Number of items : 126\n"
          ]
        }
      ]
    },
    {
      "cell_type": "code",
      "source": [
        "import matplotlib.pyplot as plt\n",
        "import seaborn as sns\n",
        "\n",
        "# Count the number of ratings for each rating level\n",
        "rating_counts = rating_df['rating'].value_counts()\n",
        "\n",
        "# Extract the counts for ratings 3.0 and 2.0\n",
        "rating_3_count = rating_counts[3.0]\n",
        "rating_2_count = rating_counts[2.0]\n",
        "\n",
        "# Create a list of colors for the pie chart\n",
        "colors = ['lightgreen', 'gold']\n",
        "\n",
        "# Create the pie chart\n",
        "plt.figure(figsize=(5, 5))\n",
        "plt.pie([rating_3_count, rating_2_count], labels=['Rating 3.0', 'Rating 2.0'], colors=colors, autopct='%1.1f%%')\n",
        "plt.title('Proportion of Ratings 3.0 and 2.0')\n",
        "plt.show()\n"
      ],
      "metadata": {
        "colab": {
          "base_uri": "https://localhost:8080/",
          "height": 444
        },
        "id": "TWTBk1BeXTxg",
        "outputId": "5f2c1f9d-561f-46c5-8d76-4e454ed5cfef"
      },
      "execution_count": null,
      "outputs": [
        {
          "output_type": "display_data",
          "data": {
            "text/plain": [
              "<Figure size 500x500 with 1 Axes>"
            ],
            "image/png": "[encoded data removed]"
          },
          "metadata": {}
        }
      ]
    },
    {
      "cell_type": "code",
      "source": [
        "sum_datapoints = len(rating_df['user'].unique()) * len(rating_df['item'].unique())\n",
        "\n",
        "sum_filled_datapoints = len(rating_df)\n",
        "\n",
        "plt.figure(figsize=(5, 5))\n",
        "plt.pie([ sum_datapoints - sum_filled_datapoints,sum_filled_datapoints], labels=['Unfill', 'Filled'], colors=colors, autopct='%1.3f%%')\n",
        "plt.title('Proportion of Filled datapoints and unfill datapoints')\n",
        "plt.show()"
      ],
      "metadata": {
        "colab": {
          "base_uri": "https://localhost:8080/",
          "height": 444
        },
        "id": "LNqfdvT5XunU",
        "outputId": "a2066a2c-e763-4c8c-a3ba-bc18166ae53e"
      },
      "execution_count": null,
      "outputs": [
        {
          "output_type": "display_data",
          "data": {
            "text/plain": [
              "<Figure size 500x500 with 1 Axes>"
            ],
            "image/png": "[encoded data removed]"
          },
          "metadata": {}
        }
      ]
    },
    {
      "cell_type": "markdown",
      "source": [
        "# Convert to user-item matrix"
      ],
      "metadata": {
        "id": "_cscHknxZvyL"
      }
    },
    {
      "cell_type": "code",
      "source": [
        "rating_sparse_df = rating_df.pivot(index='user', columns='item',\n",
        "                                   values='rating').fillna(0).reset_index().rename_axis(index=None, columns=None)\n",
        "rating_sparse_df = rating_sparse_df.set_index('user')\n",
        "rating_sparse_df.head()"
      ],
      "metadata": {
        "colab": {
          "base_uri": "https://localhost:8080/",
          "height": 287
        },
        "id": "kivOGE6KZWXS",
        "outputId": "e6458ca4-1e4f-4661-ff70-f04566c2a3ce"
      },
      "execution_count": null,
      "outputs": [
        {
          "output_type": "execute_result",
          "data": {
            "text/plain": [
              "      AI0111EN  BC0101EN  BC0201EN  BC0202EN  BD0101EN  BD0111EN  BD0115EN  \\\n",
              "user                                                                         \n",
              "2          0.0       3.0       0.0       0.0       3.0       2.0       0.0   \n",
              "4          0.0       0.0       0.0       0.0       2.0       2.0       2.0   \n",
              "5          2.0       2.0       2.0       0.0       2.0       0.0       0.0   \n",
              "7          0.0       0.0       0.0       0.0       0.0       0.0       0.0   \n",
              "8          0.0       0.0       0.0       0.0       0.0       2.0       0.0   \n",
              "\n",
              "      BD0121EN  BD0123EN  BD0131EN  ...  SW0201EN  TA0105  TA0105EN  TA0106EN  \\\n",
              "user                                ...                                         \n",
              "2          2.0       2.0       3.0  ...       0.0     2.0       0.0       3.0   \n",
              "4          2.0       2.0       2.0  ...       0.0     2.0       0.0       0.0   \n",
              "5          0.0       2.0       0.0  ...       0.0     0.0       2.0       2.0   \n",
              "7          0.0       0.0       0.0  ...       0.0     0.0       0.0       0.0   \n",
              "8          0.0       0.0       0.0  ...       0.0     0.0       0.0       0.0   \n",
              "\n",
              "      TMP0101EN  TMP0105EN  TMP0106  TMP107  WA0101EN  WA0103EN  \n",
              "user                                                             \n",
              "2           0.0        2.0      2.0     0.0       3.0       0.0  \n",
              "4           0.0        2.0      2.0     0.0       2.0       2.0  \n",
              "5           2.0        2.0      2.0     2.0       0.0       2.0  \n",
              "7           0.0        0.0      0.0     0.0       0.0       0.0  \n",
              "8           0.0        0.0      0.0     0.0       0.0       0.0  \n",
              "\n",
              "[5 rows x 126 columns]"
            ],
            "text/html": [
              "\n",
              "  <div id=\"df-70522a50-a863-45d5-85d0-9af9aaadf115\" class=\"colab-df-container\">\n",
              "    <div>\n",
              "<style scoped>\n",
              "    .dataframe tbody tr th:only-of-type {\n",
              "        vertical-align: middle;\n",
              "    }\n",
              "\n",
              "    .dataframe tbody tr th {\n",
              "        vertical-align: top;\n",
              "    }\n",
              "\n",
              "    .dataframe thead th {\n",
              "        text-align: right;\n",
              "    }\n",
              "</style>\n",
              "<table border=\"1\" class=\"dataframe\">\n",
              "  <thead>\n",
              "    <tr style=\"text-align: right;\">\n",
              "      <th></th>\n",
              "      <th>AI0111EN</th>\n",
              "      <th>BC0101EN</th>\n",
              "      <th>BC0201EN</th>\n",
              "      <th>BC0202EN</th>\n",
              "      <th>BD0101EN</th>\n",
              "      <th>BD0111EN</th>\n",
              "      <th>BD0115EN</th>\n",
              "      <th>BD0121EN</th>\n",
              "      <th>BD0123EN</th>\n",
              "      <th>BD0131EN</th>\n",
              "      <th>...</th>\n",
              "      <th>SW0201EN</th>\n",
              "      <th>TA0105</th>\n",
              "      <th>TA0105EN</th>\n",
              "      <th>TA0106EN</th>\n",
              "      <th>TMP0101EN</th>\n",
              "      <th>TMP0105EN</th>\n",
              "      <th>TMP0106</th>\n",
              "      <th>TMP107</th>\n",
              "      <th>WA0101EN</th>\n",
              "      <th>WA0103EN</th>\n",
              "    </tr>\n",
              "    <tr>\n",
              "      <th>user</th>\n",
              "      <th></th>\n",
              "      <th></th>\n",
              "      <th></th>\n",
              "      <th></th>\n",
              "      <th></th>\n",
              "      <th></th>\n",
              "      <th></th>\n",
              "      <th></th>\n",
              "      <th></th>\n",
              "      <th></th>\n",
              "      <th></th>\n",
              "      <th></th>\n",
              "      <th></th>\n",
              "      <th></th>\n",
              "      <th></th>\n",
              "      <th></th>\n",
              "      <th></th>\n",
              "      <th></th>\n",
              "      <th></th>\n",
              "      <th></th>\n",
              "      <th></th>\n",
              "    </tr>\n",
              "  </thead>\n",
              "  <tbody>\n",
              "    <tr>\n",
              "      <th>2</th>\n",
              "      <td>0.0</td>\n",
              "      <td>3.0</td>\n",
              "      <td>0.0</td>\n",
              "      <td>0.0</td>\n",
              "      <td>3.0</td>\n",
              "      <td>2.0</td>\n",
              "      <td>0.0</td>\n",
              "      <td>2.0</td>\n",
              "      <td>2.0</td>\n",
              "      <td>3.0</td>\n",
              "      <td>...</td>\n",
              "      <td>0.0</td>\n",
              "      <td>2.0</td>\n",
              "      <td>0.0</td>\n",
              "      <td>3.0</td>\n",
              "      <td>0.0</td>\n",
              "      <td>2.0</td>\n",
              "      <td>2.0</td>\n",
              "      <td>0.0</td>\n",
              "      <td>3.0</td>\n",
              "      <td>0.0</td>\n",
              "    </tr>\n",
              "    <tr>\n",
              "      <th>4</th>\n",
              "      <td>0.0</td>\n",
              "      <td>0.0</td>\n",
              "      <td>0.0</td>\n",
              "      <td>0.0</td>\n",
              "      <td>2.0</td>\n",
              "      <td>2.0</td>\n",
              "      <td>2.0</td>\n",
              "      <td>2.0</td>\n",
              "      <td>2.0</td>\n",
              "      <td>2.0</td>\n",
              "      <td>...</td>\n",
              "      <td>0.0</td>\n",
              "      <td>2.0</td>\n",
              "      <td>0.0</td>\n",
              "      <td>0.0</td>\n",
              "      <td>0.0</td>\n",
              "      <td>2.0</td>\n",
              "      <td>2.0</td>\n",
              "      <td>0.0</td>\n",
              "      <td>2.0</td>\n",
              "      <td>2.0</td>\n",
              "    </tr>\n",
              "    <tr>\n",
              "      <th>5</th>\n",
              "      <td>2.0</td>\n",
              "      <td>2.0</td>\n",
              "      <td>2.0</td>\n",
              "      <td>0.0</td>\n",
              "      <td>2.0</td>\n",
              "      <td>0.0</td>\n",
              "      <td>0.0</td>\n",
              "      <td>0.0</td>\n",
              "      <td>2.0</td>\n",
              "      <td>0.0</td>\n",
              "      <td>...</td>\n",
              "      <td>0.0</td>\n",
              "      <td>0.0</td>\n",
              "      <td>2.0</td>\n",
              "      <td>2.0</td>\n",
              "      <td>2.0</td>\n",
              "      <td>2.0</td>\n",
              "      <td>2.0</td>\n",
              "      <td>2.0</td>\n",
              "      <td>0.0</td>\n",
              "      <td>2.0</td>\n",
              "    </tr>\n",
              "    <tr>\n",
              "      <th>7</th>\n",
              "      <td>0.0</td>\n",
              "      <td>0.0</td>\n",
              "      <td>0.0</td>\n",
              "      <td>0.0</td>\n",
              "      <td>0.0</td>\n",
              "      <td>0.0</td>\n",
              "      <td>0.0</td>\n",
              "      <td>0.0</td>\n",
              "      <td>0.0</td>\n",
              "      <td>0.0</td>\n",
              "      <td>...</td>\n",
              "      <td>0.0</td>\n",
              "      <td>0.0</td>\n",
              "      <td>0.0</td>\n",
              "      <td>0.0</td>\n",
              "      <td>0.0</td>\n",
              "      <td>0.0</td>\n",
              "      <td>0.0</td>\n",
              "      <td>0.0</td>\n",
              "      <td>0.0</td>\n",
              "      <td>0.0</td>\n",
              "    </tr>\n",
              "    <tr>\n",
              "      <th>8</th>\n",
              "      <td>0.0</td>\n",
              "      <td>0.0</td>\n",
              "      <td>0.0</td>\n",
              "      <td>0.0</td>\n",
              "      <td>0.0</td>\n",
              "      <td>2.0</td>\n",
              "      <td>0.0</td>\n",
              "      <td>0.0</td>\n",
              "      <td>0.0</td>\n",
              "      <td>0.0</td>\n",
              "      <td>...</td>\n",
              "      <td>0.0</td>\n",
              "      <td>0.0</td>\n",
              "      <td>0.0</td>\n",
              "      <td>0.0</td>\n",
              "      <td>0.0</td>\n",
              "      <td>0.0</td>\n",
              "      <td>0.0</td>\n",
              "      <td>0.0</td>\n",
              "      <td>0.0</td>\n",
              "      <td>0.0</td>\n",
              "    </tr>\n",
              "  </tbody>\n",
              "</table>\n",
              "<p>5 rows × 126 columns</p>\n",
              "</div>\n",
              "    <div class=\"colab-df-buttons\">\n",
              "\n",
              "  <div class=\"colab-df-container\">\n",
              "    <button class=\"colab-df-convert\" onclick=\"convertToInteractive('df-70522a50-a863-45d5-85d0-9af9aaadf115')\"\n",
              "            title=\"Convert this dataframe to an interactive table.\"\n",
              "            style=\"display:none;\">\n",
              "\n",
              "  <svg xmlns=\"http://www.w3.org/2000/svg\" height=\"24px\" viewBox=\"0 -960 960 960\">\n",
              "    <path d=\"M120-120v-720h720v720H120Zm60-500h600v-160H180v160Zm220 220h160v-160H400v160Zm0 220h160v-160H400v160ZM180-400h160v-160H180v160Zm440 0h160v-160H620v160ZM180-180h160v-160H180v160Zm440 0h160v-160H620v160Z\"/>\n",
              "  </svg>\n",
              "    </button>\n",
              "\n",
              "  <style>\n",
              "    .colab-df-container {\n",
              "      display:flex;\n",
              "      gap: 12px;\n",
              "    }\n",
              "\n",
              "    .colab-df-convert {\n",
              "      background-color: #E8F0FE;\n",
              "      border: none;\n",
              "      border-radius: 50%;\n",
              "      cursor: pointer;\n",
              "      display: none;\n",
              "      fill: #1967D2;\n",
              "      height: 32px;\n",
              "      padding: 0 0 0 0;\n",
              "      width: 32px;\n",
              "    }\n",
              "\n",
              "    .colab-df-convert:hover {\n",
              "      background-color: #E2EBFA;\n",
              "      box-shadow: 0px 1px 2px rgba(60, 64, 67, 0.3), 0px 1px 3px 1px rgba(60, 64, 67, 0.15);\n",
              "      fill: #174EA6;\n",
              "    }\n",
              "\n",
              "    .colab-df-buttons div {\n",
              "      margin-bottom: 4px;\n",
              "    }\n",
              "\n",
              "    [theme=dark] .colab-df-convert {\n",
              "      background-color: #3B4455;\n",
              "      fill: #D2E3FC;\n",
              "    }\n",
              "\n",
              "    [theme=dark] .colab-df-convert:hover {\n",
              "      background-color: #434B5C;\n",
              "      box-shadow: 0px 1px 3px 1px rgba(0, 0, 0, 0.15);\n",
              "      filter: drop-shadow(0px 1px 2px rgba(0, 0, 0, 0.3));\n",
              "      fill: #FFFFFF;\n",
              "    }\n",
              "  </style>\n",
              "\n",
              "    <script>\n",
              "      const buttonEl =\n",
              "        document.querySelector('#df-70522a50-a863-45d5-85d0-9af9aaadf115 button.colab-df-convert');\n",
              "      buttonEl.style.display =\n",
              "        google.colab.kernel.accessAllowed ? 'block' : 'none';\n",
              "\n",
              "      async function convertToInteractive(key) {\n",
              "        const element = document.querySelector('#df-70522a50-a863-45d5-85d0-9af9aaadf115');\n",
              "        const dataTable =\n",
              "          await google.colab.kernel.invokeFunction('convertToInteractive',\n",
              "                                                    [key], {});\n",
              "        if (!dataTable) return;\n",
              "\n",
              "        const docLinkHtml = 'Like what you see? Visit the ' +\n",
              "          '<a target=\"_blank\" href=https://colab.research.google.com/notebooks/data_table.ipynb>data table notebook</a>'\n",
              "          + ' to learn more about interactive tables.';\n",
              "        element.innerHTML = '';\n",
              "        dataTable['output_type'] = 'display_data';\n",
              "        await google.colab.output.renderOutput(dataTable, element);\n",
              "        const docLink = document.createElement('div');\n",
              "        docLink.innerHTML = docLinkHtml;\n",
              "        element.appendChild(docLink);\n",
              "      }\n",
              "    </script>\n",
              "  </div>\n",
              "\n",
              "\n",
              "<div id=\"df-ab3a0435-71f9-47ff-a341-dca78e749a13\">\n",
              "  <button class=\"colab-df-quickchart\" onclick=\"quickchart('df-ab3a0435-71f9-47ff-a341-dca78e749a13')\"\n",
              "            title=\"Suggest charts\"\n",
              "            style=\"display:none;\">\n",
              "\n",
              "<svg xmlns=\"http://www.w3.org/2000/svg\" height=\"24px\"viewBox=\"0 0 24 24\"\n",
              "     width=\"24px\">\n",
              "    <g>\n",
              "        <path d=\"M19 3H5c-1.1 0-2 .9-2 2v14c0 1.1.9 2 2 2h14c1.1 0 2-.9 2-2V5c0-1.1-.9-2-2-2zM9 17H7v-7h2v7zm4 0h-2V7h2v10zm4 0h-2v-4h2v4z\"/>\n",
              "    </g>\n",
              "</svg>\n",
              "  </button>\n",
              "\n",
              "<style>\n",
              "  .colab-df-quickchart {\n",
              "      --bg-color: #E8F0FE;\n",
              "      --fill-color: #1967D2;\n",
              "      --hover-bg-color: #E2EBFA;\n",
              "      --hover-fill-color: #174EA6;\n",
              "      --disabled-fill-color: #AAA;\n",
              "      --disabled-bg-color: #DDD;\n",
              "  }\n",
              "\n",
              "  [theme=dark] .colab-df-quickchart {\n",
              "      --bg-color: #3B4455;\n",
              "      --fill-color: #D2E3FC;\n",
              "      --hover-bg-color: #434B5C;\n",
              "      --hover-fill-color: #FFFFFF;\n",
              "      --disabled-bg-color: #3B4455;\n",
              "      --disabled-fill-color: #666;\n",
              "  }\n",
              "\n",
              "  .colab-df-quickchart {\n",
              "    background-color: var(--bg-color);\n",
              "    border: none;\n",
              "    border-radius: 50%;\n",
              "    cursor: pointer;\n",
              "    display: none;\n",
              "    fill: var(--fill-color);\n",
              "    height: 32px;\n",
              "    padding: 0;\n",
              "    width: 32px;\n",
              "  }\n",
              "\n",
              "  .colab-df-quickchart:hover {\n",
              "    background-color: var(--hover-bg-color);\n",
              "    box-shadow: 0 1px 2px rgba(60, 64, 67, 0.3), 0 1px 3px 1px rgba(60, 64, 67, 0.15);\n",
              "    fill: var(--button-hover-fill-color);\n",
              "  }\n",
              "\n",
              "  .colab-df-quickchart-complete:disabled,\n",
              "  .colab-df-quickchart-complete:disabled:hover {\n",
              "    background-color: var(--disabled-bg-color);\n",
              "    fill: var(--disabled-fill-color);\n",
              "    box-shadow: none;\n",
              "  }\n",
              "\n",
              "  .colab-df-spinner {\n",
              "    border: 2px solid var(--fill-color);\n",
              "    border-color: transparent;\n",
              "    border-bottom-color: var(--fill-color);\n",
              "    animation:\n",
              "      spin 1s steps(1) infinite;\n",
              "  }\n",
              "\n",
              "  @keyframes spin {\n",
              "    0% {\n",
              "      border-color: transparent;\n",
              "      border-bottom-color: var(--fill-color);\n",
              "      border-left-color: var(--fill-color);\n",
              "    }\n",
              "    20% {\n",
              "      border-color: transparent;\n",
              "      border-left-color: var(--fill-color);\n",
              "      border-top-color: var(--fill-color);\n",
              "    }\n",
              "    30% {\n",
              "      border-color: transparent;\n",
              "      border-left-color: var(--fill-color);\n",
              "      border-top-color: var(--fill-color);\n",
              "      border-right-color: var(--fill-color);\n",
              "    }\n",
              "    40% {\n",
              "      border-color: transparent;\n",
              "      border-right-color: var(--fill-color);\n",
              "      border-top-color: var(--fill-color);\n",
              "    }\n",
              "    60% {\n",
              "      border-color: transparent;\n",
              "      border-right-color: var(--fill-color);\n",
              "    }\n",
              "    80% {\n",
              "      border-color: transparent;\n",
              "      border-right-color: var(--fill-color);\n",
              "      border-bottom-color: var(--fill-color);\n",
              "    }\n",
              "    90% {\n",
              "      border-color: transparent;\n",
              "      border-bottom-color: var(--fill-color);\n",
              "    }\n",
              "  }\n",
              "</style>\n",
              "\n",
              "  <script>\n",
              "    async function quickchart(key) {\n",
              "      const quickchartButtonEl =\n",
              "        document.querySelector('#' + key + ' button');\n",
              "      quickchartButtonEl.disabled = true;  // To prevent multiple clicks.\n",
              "      quickchartButtonEl.classList.add('colab-df-spinner');\n",
              "      try {\n",
              "        const charts = await google.colab.kernel.invokeFunction(\n",
              "            'suggestCharts', [key], {});\n",
              "      } catch (error) {\n",
              "        console.error('Error during call to suggestCharts:', error);\n",
              "      }\n",
              "      quickchartButtonEl.classList.remove('colab-df-spinner');\n",
              "      quickchartButtonEl.classList.add('colab-df-quickchart-complete');\n",
              "    }\n",
              "    (() => {\n",
              "      let quickchartButtonEl =\n",
              "        document.querySelector('#df-ab3a0435-71f9-47ff-a341-dca78e749a13 button');\n",
              "      quickchartButtonEl.style.display =\n",
              "        google.colab.kernel.accessAllowed ? 'block' : 'none';\n",
              "    })();\n",
              "  </script>\n",
              "</div>\n",
              "\n",
              "    </div>\n",
              "  </div>\n"
            ],
            "application/vnd.google.colaboratory.intrinsic+json": {
              "type": "dataframe",
              "variable_name": "rating_sparse_df"
            }
          },
          "metadata": {},
          "execution_count": 7
        }
      ]
    },
    {
      "cell_type": "code",
      "source": [
        "train_set = rating_sparse_df.copy()"
      ],
      "metadata": {
        "id": "4SlBrAPqaMnS"
      },
      "execution_count": null,
      "outputs": []
    },
    {
      "cell_type": "markdown",
      "source": [
        "![image.png](data:image/png;base64,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)"
      ],
      "metadata": {
        "id": "WsMHlMUfwayI"
      }
    },
    {
      "cell_type": "code",
      "source": [
        "item_similarity = cosine_similarity(train_set.T)\n",
        "item_similarity.shape"
      ],
      "metadata": {
        "colab": {
          "base_uri": "https://localhost:8080/"
        },
        "id": "eApJHQTIaD5w",
        "outputId": "4a706b0c-91a2-4427-8385-bc0409cbb01a"
      },
      "execution_count": null,
      "outputs": [
        {
          "output_type": "execute_result",
          "data": {
            "text/plain": [
              "(126, 126)"
            ]
          },
          "metadata": {},
          "execution_count": 9
        }
      ]
    },
    {
      "cell_type": "code",
      "source": [
        "item_sim_df = pd.DataFrame(item_similarity,index=train_set.columns,columns = train_set.columns)\n",
        "item_sim_df.head()"
      ],
      "metadata": {
        "colab": {
          "base_uri": "https://localhost:8080/",
          "height": 255
        },
        "id": "BnrJbbQzaUt8",
        "outputId": "039b8209-2e1b-4e76-c840-d0f2a8926a36"
      },
      "execution_count": null,
      "outputs": [
        {
          "output_type": "execute_result",
          "data": {
            "text/plain": [
              "          AI0111EN  BC0101EN  BC0201EN  BC0202EN  BD0101EN  BD0111EN  \\\n",
              "AI0111EN  1.000000  0.105708  0.093261  0.158023  0.081823  0.071958   \n",
              "BC0101EN  0.105708  1.000000  0.381801  0.262163  0.384545  0.312488   \n",
              "BC0201EN  0.093261  0.381801  1.000000  0.338096  0.165998  0.139687   \n",
              "BC0202EN  0.158023  0.262163  0.338096  1.000000  0.111778  0.099261   \n",
              "BD0101EN  0.081823  0.384545  0.165998  0.111778  1.000000  0.733963   \n",
              "\n",
              "          BD0115EN  BD0121EN  BD0123EN  BD0131EN  ...  SW0201EN    TA0105  \\\n",
              "AI0111EN  0.050822  0.035848  0.060667  0.043973  ...  0.101413  0.015380   \n",
              "BC0101EN  0.150896  0.080234  0.113649  0.126583  ...  0.120289  0.086303   \n",
              "BC0201EN  0.091785  0.054832  0.086070  0.072654  ...  0.100588  0.023002   \n",
              "BC0202EN  0.065476  0.055781  0.075561  0.057100  ...  0.068099  0.009607   \n",
              "BD0101EN  0.418689  0.277713  0.201113  0.365474  ...  0.086475  0.181796   \n",
              "\n",
              "          TA0105EN  TA0106EN  TMP0101EN  TMP0105EN   TMP0106    TMP107  \\\n",
              "AI0111EN  0.085273  0.004320   0.024105   0.001451  0.005567  0.018910   \n",
              "BC0101EN  0.160478  0.044557   0.005751   0.024492  0.005313  0.004512   \n",
              "BC0201EN  0.083121  0.010301   0.009832   0.006362  0.002271  0.007713   \n",
              "BC0202EN  0.058334  0.010508   0.000000   0.006883  0.000000  0.000000   \n",
              "BD0101EN  0.190855  0.104190   0.008269   0.070181  0.011458  0.010541   \n",
              "\n",
              "          WA0101EN  WA0103EN  \n",
              "AI0111EN  0.010874  0.003331  \n",
              "BC0101EN  0.205472  0.011523  \n",
              "BC0201EN  0.072589  0.004415  \n",
              "BC0202EN  0.017575  0.000000  \n",
              "BD0101EN  0.287737  0.037563  \n",
              "\n",
              "[5 rows x 126 columns]"
            ],
            "text/html": [
              "\n",
              "  <div id=\"df-8fb27740-ab66-4307-ac13-2905ab91bede\" class=\"colab-df-container\">\n",
              "    <div>\n",
              "<style scoped>\n",
              "    .dataframe tbody tr th:only-of-type {\n",
              "        vertical-align: middle;\n",
              "    }\n",
              "\n",
              "    .dataframe tbody tr th {\n",
              "        vertical-align: top;\n",
              "    }\n",
              "\n",
              "    .dataframe thead th {\n",
              "        text-align: right;\n",
              "    }\n",
              "</style>\n",
              "<table border=\"1\" class=\"dataframe\">\n",
              "  <thead>\n",
              "    <tr style=\"text-align: right;\">\n",
              "      <th></th>\n",
              "      <th>AI0111EN</th>\n",
              "      <th>BC0101EN</th>\n",
              "      <th>BC0201EN</th>\n",
              "      <th>BC0202EN</th>\n",
              "      <th>BD0101EN</th>\n",
              "      <th>BD0111EN</th>\n",
              "      <th>BD0115EN</th>\n",
              "      <th>BD0121EN</th>\n",
              "      <th>BD0123EN</th>\n",
              "      <th>BD0131EN</th>\n",
              "      <th>...</th>\n",
              "      <th>SW0201EN</th>\n",
              "      <th>TA0105</th>\n",
              "      <th>TA0105EN</th>\n",
              "      <th>TA0106EN</th>\n",
              "      <th>TMP0101EN</th>\n",
              "      <th>TMP0105EN</th>\n",
              "      <th>TMP0106</th>\n",
              "      <th>TMP107</th>\n",
              "      <th>WA0101EN</th>\n",
              "      <th>WA0103EN</th>\n",
              "    </tr>\n",
              "  </thead>\n",
              "  <tbody>\n",
              "    <tr>\n",
              "      <th>AI0111EN</th>\n",
              "      <td>1.000000</td>\n",
              "      <td>0.105708</td>\n",
              "      <td>0.093261</td>\n",
              "      <td>0.158023</td>\n",
              "      <td>0.081823</td>\n",
              "      <td>0.071958</td>\n",
              "      <td>0.050822</td>\n",
              "      <td>0.035848</td>\n",
              "      <td>0.060667</td>\n",
              "      <td>0.043973</td>\n",
              "      <td>...</td>\n",
              "      <td>0.101413</td>\n",
              "      <td>0.015380</td>\n",
              "      <td>0.085273</td>\n",
              "      <td>0.004320</td>\n",
              "      <td>0.024105</td>\n",
              "      <td>0.001451</td>\n",
              "      <td>0.005567</td>\n",
              "      <td>0.018910</td>\n",
              "      <td>0.010874</td>\n",
              "      <td>0.003331</td>\n",
              "    </tr>\n",
              "    <tr>\n",
              "      <th>BC0101EN</th>\n",
              "      <td>0.105708</td>\n",
              "      <td>1.000000</td>\n",
              "      <td>0.381801</td>\n",
              "      <td>0.262163</td>\n",
              "      <td>0.384545</td>\n",
              "      <td>0.312488</td>\n",
              "      <td>0.150896</td>\n",
              "      <td>0.080234</td>\n",
              "      <td>0.113649</td>\n",
              "      <td>0.126583</td>\n",
              "      <td>...</td>\n",
              "      <td>0.120289</td>\n",
              "      <td>0.086303</td>\n",
              "      <td>0.160478</td>\n",
              "      <td>0.044557</td>\n",
              "      <td>0.005751</td>\n",
              "      <td>0.024492</td>\n",
              "      <td>0.005313</td>\n",
              "      <td>0.004512</td>\n",
              "      <td>0.205472</td>\n",
              "      <td>0.011523</td>\n",
              "    </tr>\n",
              "    <tr>\n",
              "      <th>BC0201EN</th>\n",
              "      <td>0.093261</td>\n",
              "      <td>0.381801</td>\n",
              "      <td>1.000000</td>\n",
              "      <td>0.338096</td>\n",
              "      <td>0.165998</td>\n",
              "      <td>0.139687</td>\n",
              "      <td>0.091785</td>\n",
              "      <td>0.054832</td>\n",
              "      <td>0.086070</td>\n",
              "      <td>0.072654</td>\n",
              "      <td>...</td>\n",
              "      <td>0.100588</td>\n",
              "      <td>0.023002</td>\n",
              "      <td>0.083121</td>\n",
              "      <td>0.010301</td>\n",
              "      <td>0.009832</td>\n",
              "      <td>0.006362</td>\n",
              "      <td>0.002271</td>\n",
              "      <td>0.007713</td>\n",
              "      <td>0.072589</td>\n",
              "      <td>0.004415</td>\n",
              "    </tr>\n",
              "    <tr>\n",
              "      <th>BC0202EN</th>\n",
              "      <td>0.158023</td>\n",
              "      <td>0.262163</td>\n",
              "      <td>0.338096</td>\n",
              "      <td>1.000000</td>\n",
              "      <td>0.111778</td>\n",
              "      <td>0.099261</td>\n",
              "      <td>0.065476</td>\n",
              "      <td>0.055781</td>\n",
              "      <td>0.075561</td>\n",
              "      <td>0.057100</td>\n",
              "      <td>...</td>\n",
              "      <td>0.068099</td>\n",
              "      <td>0.009607</td>\n",
              "      <td>0.058334</td>\n",
              "      <td>0.010508</td>\n",
              "      <td>0.000000</td>\n",
              "      <td>0.006883</td>\n",
              "      <td>0.000000</td>\n",
              "      <td>0.000000</td>\n",
              "      <td>0.017575</td>\n",
              "      <td>0.000000</td>\n",
              "    </tr>\n",
              "    <tr>\n",
              "      <th>BD0101EN</th>\n",
              "      <td>0.081823</td>\n",
              "      <td>0.384545</td>\n",
              "      <td>0.165998</td>\n",
              "      <td>0.111778</td>\n",
              "      <td>1.000000</td>\n",
              "      <td>0.733963</td>\n",
              "      <td>0.418689</td>\n",
              "      <td>0.277713</td>\n",
              "      <td>0.201113</td>\n",
              "      <td>0.365474</td>\n",
              "      <td>...</td>\n",
              "      <td>0.086475</td>\n",
              "      <td>0.181796</td>\n",
              "      <td>0.190855</td>\n",
              "      <td>0.104190</td>\n",
              "      <td>0.008269</td>\n",
              "      <td>0.070181</td>\n",
              "      <td>0.011458</td>\n",
              "      <td>0.010541</td>\n",
              "      <td>0.287737</td>\n",
              "      <td>0.037563</td>\n",
              "    </tr>\n",
              "  </tbody>\n",
              "</table>\n",
              "<p>5 rows × 126 columns</p>\n",
              "</div>\n",
              "    <div class=\"colab-df-buttons\">\n",
              "\n",
              "  <div class=\"colab-df-container\">\n",
              "    <button class=\"colab-df-convert\" onclick=\"convertToInteractive('df-8fb27740-ab66-4307-ac13-2905ab91bede')\"\n",
              "            title=\"Convert this dataframe to an interactive table.\"\n",
              "            style=\"display:none;\">\n",
              "\n",
              "  <svg xmlns=\"http://www.w3.org/2000/svg\" height=\"24px\" viewBox=\"0 -960 960 960\">\n",
              "    <path d=\"M120-120v-720h720v720H120Zm60-500h600v-160H180v160Zm220 220h160v-160H400v160Zm0 220h160v-160H400v160ZM180-400h160v-160H180v160Zm440 0h160v-160H620v160ZM180-180h160v-160H180v160Zm440 0h160v-160H620v160Z\"/>\n",
              "  </svg>\n",
              "    </button>\n",
              "\n",
              "  <style>\n",
              "    .colab-df-container {\n",
              "      display:flex;\n",
              "      gap: 12px;\n",
              "    }\n",
              "\n",
              "    .colab-df-convert {\n",
              "      background-color: #E8F0FE;\n",
              "      border: none;\n",
              "      border-radius: 50%;\n",
              "      cursor: pointer;\n",
              "      display: none;\n",
              "      fill: #1967D2;\n",
              "      height: 32px;\n",
              "      padding: 0 0 0 0;\n",
              "      width: 32px;\n",
              "    }\n",
              "\n",
              "    .colab-df-convert:hover {\n",
              "      background-color: #E2EBFA;\n",
              "      box-shadow: 0px 1px 2px rgba(60, 64, 67, 0.3), 0px 1px 3px 1px rgba(60, 64, 67, 0.15);\n",
              "      fill: #174EA6;\n",
              "    }\n",
              "\n",
              "    .colab-df-buttons div {\n",
              "      margin-bottom: 4px;\n",
              "    }\n",
              "\n",
              "    [theme=dark] .colab-df-convert {\n",
              "      background-color: #3B4455;\n",
              "      fill: #D2E3FC;\n",
              "    }\n",
              "\n",
              "    [theme=dark] .colab-df-convert:hover {\n",
              "      background-color: #434B5C;\n",
              "      box-shadow: 0px 1px 3px 1px rgba(0, 0, 0, 0.15);\n",
              "      filter: drop-shadow(0px 1px 2px rgba(0, 0, 0, 0.3));\n",
              "      fill: #FFFFFF;\n",
              "    }\n",
              "  </style>\n",
              "\n",
              "    <script>\n",
              "      const buttonEl =\n",
              "        document.querySelector('#df-8fb27740-ab66-4307-ac13-2905ab91bede button.colab-df-convert');\n",
              "      buttonEl.style.display =\n",
              "        google.colab.kernel.accessAllowed ? 'block' : 'none';\n",
              "\n",
              "      async function convertToInteractive(key) {\n",
              "        const element = document.querySelector('#df-8fb27740-ab66-4307-ac13-2905ab91bede');\n",
              "        const dataTable =\n",
              "          await google.colab.kernel.invokeFunction('convertToInteractive',\n",
              "                                                    [key], {});\n",
              "        if (!dataTable) return;\n",
              "\n",
              "        const docLinkHtml = 'Like what you see? Visit the ' +\n",
              "          '<a target=\"_blank\" href=https://colab.research.google.com/notebooks/data_table.ipynb>data table notebook</a>'\n",
              "          + ' to learn more about interactive tables.';\n",
              "        element.innerHTML = '';\n",
              "        dataTable['output_type'] = 'display_data';\n",
              "        await google.colab.output.renderOutput(dataTable, element);\n",
              "        const docLink = document.createElement('div');\n",
              "        docLink.innerHTML = docLinkHtml;\n",
              "        element.appendChild(docLink);\n",
              "      }\n",
              "    </script>\n",
              "  </div>\n",
              "\n",
              "\n",
              "<div id=\"df-edf3a347-cf15-4628-8b62-1eea05749ac4\">\n",
              "  <button class=\"colab-df-quickchart\" onclick=\"quickchart('df-edf3a347-cf15-4628-8b62-1eea05749ac4')\"\n",
              "            title=\"Suggest charts\"\n",
              "            style=\"display:none;\">\n",
              "\n",
              "<svg xmlns=\"http://www.w3.org/2000/svg\" height=\"24px\"viewBox=\"0 0 24 24\"\n",
              "     width=\"24px\">\n",
              "    <g>\n",
              "        <path d=\"M19 3H5c-1.1 0-2 .9-2 2v14c0 1.1.9 2 2 2h14c1.1 0 2-.9 2-2V5c0-1.1-.9-2-2-2zM9 17H7v-7h2v7zm4 0h-2V7h2v10zm4 0h-2v-4h2v4z\"/>\n",
              "    </g>\n",
              "</svg>\n",
              "  </button>\n",
              "\n",
              "<style>\n",
              "  .colab-df-quickchart {\n",
              "      --bg-color: #E8F0FE;\n",
              "      --fill-color: #1967D2;\n",
              "      --hover-bg-color: #E2EBFA;\n",
              "      --hover-fill-color: #174EA6;\n",
              "      --disabled-fill-color: #AAA;\n",
              "      --disabled-bg-color: #DDD;\n",
              "  }\n",
              "\n",
              "  [theme=dark] .colab-df-quickchart {\n",
              "      --bg-color: #3B4455;\n",
              "      --fill-color: #D2E3FC;\n",
              "      --hover-bg-color: #434B5C;\n",
              "      --hover-fill-color: #FFFFFF;\n",
              "      --disabled-bg-color: #3B4455;\n",
              "      --disabled-fill-color: #666;\n",
              "  }\n",
              "\n",
              "  .colab-df-quickchart {\n",
              "    background-color: var(--bg-color);\n",
              "    border: none;\n",
              "    border-radius: 50%;\n",
              "    cursor: pointer;\n",
              "    display: none;\n",
              "    fill: var(--fill-color);\n",
              "    height: 32px;\n",
              "    padding: 0;\n",
              "    width: 32px;\n",
              "  }\n",
              "\n",
              "  .colab-df-quickchart:hover {\n",
              "    background-color: var(--hover-bg-color);\n",
              "    box-shadow: 0 1px 2px rgba(60, 64, 67, 0.3), 0 1px 3px 1px rgba(60, 64, 67, 0.15);\n",
              "    fill: var(--button-hover-fill-color);\n",
              "  }\n",
              "\n",
              "  .colab-df-quickchart-complete:disabled,\n",
              "  .colab-df-quickchart-complete:disabled:hover {\n",
              "    background-color: var(--disabled-bg-color);\n",
              "    fill: var(--disabled-fill-color);\n",
              "    box-shadow: none;\n",
              "  }\n",
              "\n",
              "  .colab-df-spinner {\n",
              "    border: 2px solid var(--fill-color);\n",
              "    border-color: transparent;\n",
              "    border-bottom-color: var(--fill-color);\n",
              "    animation:\n",
              "      spin 1s steps(1) infinite;\n",
              "  }\n",
              "\n",
              "  @keyframes spin {\n",
              "    0% {\n",
              "      border-color: transparent;\n",
              "      border-bottom-color: var(--fill-color);\n",
              "      border-left-color: var(--fill-color);\n",
              "    }\n",
              "    20% {\n",
              "      border-color: transparent;\n",
              "      border-left-color: var(--fill-color);\n",
              "      border-top-color: var(--fill-color);\n",
              "    }\n",
              "    30% {\n",
              "      border-color: transparent;\n",
              "      border-left-color: var(--fill-color);\n",
              "      border-top-color: var(--fill-color);\n",
              "      border-right-color: var(--fill-color);\n",
              "    }\n",
              "    40% {\n",
              "      border-color: transparent;\n",
              "      border-right-color: var(--fill-color);\n",
              "      border-top-color: var(--fill-color);\n",
              "    }\n",
              "    60% {\n",
              "      border-color: transparent;\n",
              "      border-right-color: var(--fill-color);\n",
              "    }\n",
              "    80% {\n",
              "      border-color: transparent;\n",
              "      border-right-color: var(--fill-color);\n",
              "      border-bottom-color: var(--fill-color);\n",
              "    }\n",
              "    90% {\n",
              "      border-color: transparent;\n",
              "      border-bottom-color: var(--fill-color);\n",
              "    }\n",
              "  }\n",
              "</style>\n",
              "\n",
              "  <script>\n",
              "    async function quickchart(key) {\n",
              "      const quickchartButtonEl =\n",
              "        document.querySelector('#' + key + ' button');\n",
              "      quickchartButtonEl.disabled = true;  // To prevent multiple clicks.\n",
              "      quickchartButtonEl.classList.add('colab-df-spinner');\n",
              "      try {\n",
              "        const charts = await google.colab.kernel.invokeFunction(\n",
              "            'suggestCharts', [key], {});\n",
              "      } catch (error) {\n",
              "        console.error('Error during call to suggestCharts:', error);\n",
              "      }\n",
              "      quickchartButtonEl.classList.remove('colab-df-spinner');\n",
              "      quickchartButtonEl.classList.add('colab-df-quickchart-complete');\n",
              "    }\n",
              "    (() => {\n",
              "      let quickchartButtonEl =\n",
              "        document.querySelector('#df-edf3a347-cf15-4628-8b62-1eea05749ac4 button');\n",
              "      quickchartButtonEl.style.display =\n",
              "        google.colab.kernel.accessAllowed ? 'block' : 'none';\n",
              "    })();\n",
              "  </script>\n",
              "</div>\n",
              "\n",
              "    </div>\n",
              "  </div>\n"
            ],
            "application/vnd.google.colaboratory.intrinsic+json": {
              "type": "dataframe",
              "variable_name": "item_sim_df"
            }
          },
          "metadata": {},
          "execution_count": 10
        }
      ]
    },
    {
      "cell_type": "code",
      "source": [
        "array = item_sim_df.apply(pd.Series.value_counts).loc[0]\n",
        "print(f'Number of item similarity points equal to 0: {int(array.sum())}')"
      ],
      "metadata": {
        "colab": {
          "base_uri": "https://localhost:8080/"
        },
        "id": "pui9TQR-a7Lt",
        "outputId": "9af96ad6-6859-476b-f799-fa140651788d"
      },
      "execution_count": null,
      "outputs": [
        {
          "output_type": "stream",
          "name": "stdout",
          "text": [
            "Number of item similarity points equal to 0: 3262\n"
          ]
        }
      ]
    },
    {
      "cell_type": "code",
      "source": [
        "plt.figure(figsize=(5, 5))\n",
        "plt.pie([126*126-array.sum(),array.sum()], labels=['Have similarity','No similarity'], colors=colors, autopct='%1.3f%%')\n",
        "plt.title('Proportion of number item similarity points equal to 0')\n",
        "plt.show()"
      ],
      "metadata": {
        "colab": {
          "base_uri": "https://localhost:8080/",
          "height": 444
        },
        "id": "OAqTF4QabDe0",
        "outputId": "74647660-1dd6-498a-d385-0bfc970f76a5"
      },
      "execution_count": null,
      "outputs": [
        {
          "output_type": "display_data",
          "data": {
            "text/plain": [
              "<Figure size 500x500 with 1 Axes>"
            ],
            "image/png": "[encoded data removed]"
          },
          "metadata": {}
        }
      ]
    },
    {
      "cell_type": "markdown",
      "source": [
        "## Create model"
      ],
      "metadata": {
        "id": "e0pYXsaqwrjZ"
      }
    },
    {
      "cell_type": "code",
      "source": [
        "def get_similar_course(course_name):\n",
        "  similar_course = item_sim_df[course_name]\n",
        "  similar_course = similar_course.sort_values(ascending=False)\n",
        "  return similar_course"
      ],
      "metadata": {
        "id": "nkYPzqu-hYnR"
      },
      "execution_count": null,
      "outputs": []
    },
    {
      "cell_type": "markdown",
      "source": [
        "![image.png](data:image/png;base64,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)"
      ],
      "metadata": {
        "id": "culUjqPpj7ht"
      }
    },
    {
      "cell_type": "code",
      "source": [
        "class KNN:\n",
        "  def __init__(self, train_set, k):\n",
        "    self.train_set = train_set\n",
        "    self.k = k\n",
        "\n",
        "  def fill_data(self,course_name): #this is function that implement item-item method based on K nearest neighbours\n",
        "    for i in self.train_set.index:\n",
        "      bxh = get_similar_course(course_name)[1:(self.k)+1]\n",
        "      sum1 = 0\n",
        "      sum2 = 0\n",
        "      for j in bxh.index:\n",
        "        sum1 += bxh[j]*rating_sparse_df.loc[i,j]\n",
        "        sum2 += abs(bxh[j])\n",
        "      if self.train_set.loc[i, course_name] == 0:\n",
        "        self.train_set.loc[i,course_name] = sum1/sum2\n",
        "\n",
        "  def fill_all(self):\n",
        "    for i in self.train_set.columns:\n",
        "      fill_data(self.train_set,i,self.k)\n",
        "      normalize_data(self.train_set[i])\n",
        "\n",
        "  def fill_data2(self,course_name): #this is function that implement item-item method based on K nearest neighbours\n",
        "    result = self.train_set.copy()\n",
        "    for i in self.train_set.index:\n",
        "        bxh = get_similar_course(course_name)[1:(self.k)+1]\n",
        "        sum1 = 0\n",
        "        sum2 = 0\n",
        "        for j in bxh.index:\n",
        "          sum1 += bxh[j]*rating_sparse_df.loc[i,j]\n",
        "          sum2 += abs(bxh[j])\n",
        "        if self.train_set.loc[i, course_name] == 0:\n",
        "          result.loc[i,course_name] = sum1/sum2\n",
        "    return result[course_name]\n"
      ],
      "metadata": {
        "id": "Bi-WD8icgbQc"
      },
      "execution_count": null,
      "outputs": []
    },
    {
      "cell_type": "code",
      "source": [
        "\n",
        "def normalize_data(train_set):\n",
        "    for i in train_set.columns:\n",
        "      avg = train_set[i].sum()/(len(train_set.index)-len(train_set.loc[train_set[i]==0,i]))\n",
        "      for j in train_set.index:\n",
        "        if train_set.loc[j,i] != 0 and train_set.loc[j,i] != 3 and train_set.loc[j,i] != 2:\n",
        "          if train_set.loc[j,i] >= avg:\n",
        "            train_set.loc[j,i] = 3\n",
        "          elif train_set.loc[j,i] < avg:\n",
        "            train_set.loc[j,i] = 2"
      ],
      "metadata": {
        "id": "1jAamHtPqLjo"
      },
      "execution_count": null,
      "outputs": []
    },
    {
      "cell_type": "code",
      "source": [
        "def RMSE(train_set, test_set):\n",
        "\n",
        "\n",
        "  # Calculate the difference between the predicted ratings and the actual ratings.\n",
        "  differences = train_set - test_set\n",
        "\n",
        "  # Square the differences.\n",
        "  squared_differences = differences ** 2\n",
        "\n",
        "  # Calculate the mean squared error.\n",
        "  mean_squared_error = squared_differences.mean()\n",
        "\n",
        "  # Take the square root of the mean squared error to get the RMSE.\n",
        "  rmse = np.sqrt(mean_squared_error)\n",
        "\n",
        "  return rmse\n",
        "\n"
      ],
      "metadata": {
        "id": "JiaSdmEmpPtd"
      },
      "execution_count": null,
      "outputs": []
    },
    {
      "cell_type": "markdown",
      "source": [
        "# Assessment"
      ],
      "metadata": {
        "id": "vJ2PTE3G1Ean"
      }
    },
    {
      "cell_type": "markdown",
      "source": [
        "![image.png](data:image/png;base64,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)"
      ],
      "metadata": {
        "id": "cOO7hIuq1CKb"
      }
    },
    {
      "cell_type": "markdown",
      "source": [
        "## Group 1: have highest similarity with each other items"
      ],
      "metadata": {
        "id": "kOzXxVBFmb4R"
      }
    },
    {
      "cell_type": "code",
      "source": [
        "most_similar_column = item_sim_df.max(axis=0).sort_values(ascending=False).index[0]\n",
        "most_similar_column"
      ],
      "metadata": {
        "colab": {
          "base_uri": "https://localhost:8080/",
          "height": 36
        },
        "id": "KaGEKRmwlBO1",
        "outputId": "d0f7a4f1-43ef-4cb4-c4fa-cd6c14bb0315"
      },
      "execution_count": null,
      "outputs": [
        {
          "output_type": "execute_result",
          "data": {
            "text/plain": [
              "'DA0101EN'"
            ],
            "application/vnd.google.colaboratory.intrinsic+json": {
              "type": "string"
            }
          },
          "metadata": {},
          "execution_count": 17
        }
      ]
    },
    {
      "cell_type": "code",
      "source": [
        "get_similar_course('DA0101EN')"
      ],
      "metadata": {
        "colab": {
          "base_uri": "https://localhost:8080/"
        },
        "id": "GapzhP_WlT9a",
        "outputId": "d6ad02d5-a14e-4125-88ce-9937fdb120a9"
      },
      "execution_count": null,
      "outputs": [
        {
          "output_type": "execute_result",
          "data": {
            "text/plain": [
              "DA0101EN      1.000000\n",
              "DV0101EN      0.760875\n",
              "PY0101EN      0.680904\n",
              "ML0101ENv3    0.577509\n",
              "DS0101EN      0.469943\n",
              "                ...   \n",
              "DB0113EN      0.000000\n",
              "TMP0101EN     0.000000\n",
              "BENTEST4      0.000000\n",
              "DB0115EN      0.000000\n",
              "ST0301EN      0.000000\n",
              "Name: DA0101EN, Length: 126, dtype: float64"
            ]
          },
          "metadata": {},
          "execution_count": 18
        }
      ]
    },
    {
      "cell_type": "code",
      "source": [
        "DA0101EN_frame = train_set.DA0101EN.to_frame()\n",
        "DA0101EN_frame.value_counts()"
      ],
      "metadata": {
        "colab": {
          "base_uri": "https://localhost:8080/"
        },
        "id": "Zl766RkFmeOQ",
        "outputId": "c00f0f28-4768-4c16-a21d-a0138c54a192"
      },
      "execution_count": null,
      "outputs": [
        {
          "output_type": "execute_result",
          "data": {
            "text/plain": [
              "DA0101EN\n",
              "0.0         25598\n",
              "3.0          8303\n",
              "dtype: int64"
            ]
          },
          "metadata": {},
          "execution_count": 19
        }
      ]
    },
    {
      "cell_type": "code",
      "source": [
        "train1 =  DA0101EN_frame[DA0101EN_frame['DA0101EN'] != 0].copy()\n",
        "test1 =  DA0101EN_frame[DA0101EN_frame['DA0101EN'] != 0].copy()"
      ],
      "metadata": {
        "id": "LZWjMOaGmuWj"
      },
      "execution_count": null,
      "outputs": []
    },
    {
      "cell_type": "code",
      "source": [
        "import random\n",
        "for i in range(len(train1)):\n",
        "  for j in range(len(train1.columns)):\n",
        "    if random.random() < 0.1:\n",
        "      train1.iloc[i, j] = 0"
      ],
      "metadata": {
        "id": "0PSeq8Xlm5gO"
      },
      "execution_count": null,
      "outputs": []
    },
    {
      "cell_type": "code",
      "source": [
        "knn_train = KNN(train1, 20)\n",
        "result = knn_train.fill_data2('DA0101EN')\n",
        "result = result.to_frame()\n",
        "result.value_counts()"
      ],
      "metadata": {
        "colab": {
          "base_uri": "https://localhost:8080/"
        },
        "id": "YZn537zFnBgv",
        "outputId": "ccfdda4c-6432-48ad-c5f6-d6be9503f6f2"
      },
      "execution_count": null,
      "outputs": [
        {
          "output_type": "execute_result",
          "data": {
            "text/plain": [
              "DA0101EN\n",
              "3.000000    7466\n",
              "0.967352      13\n",
              "1.330591      10\n",
              "1.101249      10\n",
              "0.572564      10\n",
              "            ... \n",
              "1.064730       1\n",
              "1.070470       1\n",
              "1.071189       1\n",
              "1.071363       1\n",
              "3.000000       1\n",
              "Length: 641, dtype: int64"
            ]
          },
          "metadata": {},
          "execution_count": 65
        }
      ]
    },
    {
      "cell_type": "code",
      "source": [
        "normalize_data(result)"
      ],
      "metadata": {
        "id": "2wQzLVW9nLfA"
      },
      "execution_count": null,
      "outputs": []
    },
    {
      "cell_type": "code",
      "source": [
        "    def normalize_data2(train_set):\n",
        "        for i in train_set.columns:\n",
        "          avg = train_set[i].sum()/(len(train_set.index)-len(train_set.loc[train_set[i]==0,i]))\n",
        "          for j in train_set.index:\n",
        "            if train_set.loc[j,i] != 0 and train_set.loc[j,i] != 3 and train_set.loc[j,i] != 2:\n",
        "              if train_set.loc[j,i] >= avg-1:\n",
        "                train_set.loc[j,i] = 3\n",
        "              elif train_set.loc[j,i] < avg-1:\n",
        "                train_set.loc[j,i] = 2\n",
        "    normalize_data2(result)"
      ],
      "metadata": {
        "id": "2GQaiVEun73e"
      },
      "execution_count": null,
      "outputs": []
    },
    {
      "cell_type": "code",
      "source": [
        "DA0101EN_frame = train_set.DA0101EN.to_frame()\n",
        "DA0101EN_frame.value_counts()"
      ],
      "metadata": {
        "id": "vsMUAupV4PWV",
        "outputId": "f7a9f709-bedf-441d-dde0-9c4ddcd00eb6",
        "colab": {
          "base_uri": "https://localhost:8080/"
        }
      },
      "execution_count": null,
      "outputs": [
        {
          "output_type": "execute_result",
          "data": {
            "text/plain": [
              "DA0101EN\n",
              "0.0         25598\n",
              "3.0          8303\n",
              "dtype: int64"
            ]
          },
          "metadata": {},
          "execution_count": 25
        }
      ]
    },
    {
      "cell_type": "code",
      "source": [
        "result.value_counts()"
      ],
      "metadata": {
        "colab": {
          "base_uri": "https://localhost:8080/"
        },
        "id": "OjNrp98wncAv",
        "outputId": "4dc28b60-af9e-44d1-fdb3-0b50e0f942d2"
      },
      "execution_count": null,
      "outputs": [
        {
          "output_type": "execute_result",
          "data": {
            "text/plain": [
              "DA0101EN\n",
              "3.0         7598\n",
              "2.0          705\n",
              "dtype: int64"
            ]
          },
          "metadata": {},
          "execution_count": 67
        }
      ]
    },
    {
      "cell_type": "code",
      "source": [
        "print(RMSE(result,test1))"
      ],
      "metadata": {
        "colab": {
          "base_uri": "https://localhost:8080/"
        },
        "outputId": "1e37f89b-51ae-48eb-dc9b-ca804392c542",
        "id": "OhUDBItznLfH"
      },
      "execution_count": null,
      "outputs": [
        {
          "output_type": "stream",
          "name": "stdout",
          "text": [
            "DA0101EN    0.291392\n",
            "dtype: float64\n"
          ]
        }
      ]
    },
    {
      "cell_type": "markdown",
      "source": [
        "## Group 2: The value 3 more than the value of 2"
      ],
      "metadata": {
        "id": "KK_E8NmeRNo7"
      }
    },
    {
      "cell_type": "code",
      "source": [
        "result = {}\n",
        "for item in rating_sparse_df.columns:\n",
        "  rate_3_count = len(rating_sparse_df[rating_sparse_df[item] == 3])\n",
        "\n",
        "\n",
        "  result[item] = rate_3_count\n",
        "\n",
        "\n",
        "sorted_result = sorted(result.items(), key=lambda x: x[1])\n",
        "print(f'Item have the most number of 3 value : {sorted_result[-1][0]}')"
      ],
      "metadata": {
        "colab": {
          "base_uri": "https://localhost:8080/"
        },
        "id": "y3YoXfQ2RXFz",
        "outputId": "18d7cd98-fdcc-46e8-e569-89e9a01075e8"
      },
      "execution_count": null,
      "outputs": [
        {
          "output_type": "stream",
          "name": "stdout",
          "text": [
            "Item have the most number of 3 value : PY0101EN\n"
          ]
        }
      ]
    },
    {
      "cell_type": "code",
      "source": [
        "get_similar_course('PY0101EN')"
      ],
      "metadata": {
        "colab": {
          "base_uri": "https://localhost:8080/"
        },
        "id": "ARneqpZJsARP",
        "outputId": "b0c90147-5989-4c14-911d-9ccf34357603"
      },
      "execution_count": null,
      "outputs": [
        {
          "output_type": "execute_result",
          "data": {
            "text/plain": [
              "PY0101EN      1.000000\n",
              "DA0101EN      0.680904\n",
              "DS0101EN      0.625944\n",
              "DV0101EN      0.616423\n",
              "ML0101ENv3    0.615440\n",
              "                ...   \n",
              "PA0103EN      0.001929\n",
              "ST0201EN      0.000000\n",
              "ST0301EN      0.000000\n",
              "DS0107        0.000000\n",
              "BENTEST4      0.000000\n",
              "Name: PY0101EN, Length: 126, dtype: float64"
            ]
          },
          "metadata": {},
          "execution_count": 29
        }
      ]
    },
    {
      "cell_type": "code",
      "source": [
        "PY0101EN_frame = train_set.PY0101EN.to_frame()\n",
        "PY0101EN_frame.value_counts()"
      ],
      "metadata": {
        "colab": {
          "base_uri": "https://localhost:8080/"
        },
        "id": "wfPRC1SqR1Te",
        "outputId": "49cb4f86-834f-40b1-8b62-57b272513e2e"
      },
      "execution_count": null,
      "outputs": [
        {
          "output_type": "execute_result",
          "data": {
            "text/plain": [
              "PY0101EN\n",
              "0.0         18965\n",
              "3.0         14922\n",
              "2.0            14\n",
              "dtype: int64"
            ]
          },
          "metadata": {},
          "execution_count": 30
        }
      ]
    },
    {
      "cell_type": "code",
      "source": [
        "train2 =  PY0101EN_frame[PY0101EN_frame['PY0101EN'] != 0].copy()\n",
        "test2 =  PY0101EN_frame[PY0101EN_frame['PY0101EN'] != 0].copy()"
      ],
      "metadata": {
        "id": "jVy7f20LSgQT"
      },
      "execution_count": null,
      "outputs": []
    },
    {
      "cell_type": "code",
      "source": [
        "for i in range(len(train2)):\n",
        "  for j in range(len(train2.columns)):\n",
        "    if random.random() < 0.1:\n",
        "      train2.iloc[i, j] = 0"
      ],
      "metadata": {
        "id": "EAnGTDhKSugj"
      },
      "execution_count": null,
      "outputs": []
    },
    {
      "cell_type": "code",
      "source": [
        "test2.value_counts()"
      ],
      "metadata": {
        "colab": {
          "base_uri": "https://localhost:8080/"
        },
        "id": "eeuKQaycTJQu",
        "outputId": "95761df0-fff7-414c-ae3f-94ed7109b6cb"
      },
      "execution_count": null,
      "outputs": [
        {
          "output_type": "execute_result",
          "data": {
            "text/plain": [
              "PY0101EN\n",
              "3.0         14922\n",
              "2.0            14\n",
              "dtype: int64"
            ]
          },
          "metadata": {},
          "execution_count": 33
        }
      ]
    },
    {
      "cell_type": "code",
      "source": [
        "train2.value_counts()"
      ],
      "metadata": {
        "colab": {
          "base_uri": "https://localhost:8080/"
        },
        "id": "KO_NXsnHTMjG",
        "outputId": "8277d47d-8fa2-4353-c804-36df6a3918bf"
      },
      "execution_count": null,
      "outputs": [
        {
          "output_type": "execute_result",
          "data": {
            "text/plain": [
              "PY0101EN\n",
              "3.0         13406\n",
              "0.0          1520\n",
              "2.0            10\n",
              "dtype: int64"
            ]
          },
          "metadata": {},
          "execution_count": 34
        }
      ]
    },
    {
      "cell_type": "code",
      "source": [
        "knn_train = KNN(train2, 40)\n",
        "result = knn_train.fill_data2('PY0101EN')\n",
        "result = result.to_frame()\n",
        "result.value_counts()"
      ],
      "metadata": {
        "colab": {
          "base_uri": "https://localhost:8080/"
        },
        "id": "iibnzLBLTdEt",
        "outputId": "cb0382e4-0a56-4a2e-b45f-d2c7c9ceea63"
      },
      "execution_count": null,
      "outputs": [
        {
          "output_type": "execute_result",
          "data": {
            "text/plain": [
              "PY0101EN\n",
              "3.000000    13406\n",
              "2.000000       10\n",
              "0.583776        8\n",
              "0.454948        6\n",
              "0.544815        6\n",
              "            ...  \n",
              "0.564903        1\n",
              "0.563474        1\n",
              "0.562463        1\n",
              "0.562350        1\n",
              "0.679449        1\n",
              "Length: 1383, dtype: int64"
            ]
          },
          "metadata": {},
          "execution_count": 35
        }
      ]
    },
    {
      "cell_type": "code",
      "source": [
        "print(f'Mean of result: {result.mean()}')"
      ],
      "metadata": {
        "colab": {
          "base_uri": "https://localhost:8080/"
        },
        "id": "2CdH5wKbq47V",
        "outputId": "79c5e5f5-0248-4cff-8276-4c64187dd0a3"
      },
      "execution_count": null,
      "outputs": [
        {
          "output_type": "stream",
          "name": "stdout",
          "text": [
            "Mean of result: PY0101EN    2.7716\n",
            "dtype: float64\n"
          ]
        }
      ]
    },
    {
      "cell_type": "code",
      "source": [
        "result1 = result.copy()\n",
        "result2 = result.copy()"
      ],
      "metadata": {
        "id": "pdkyOPzWrI4A"
      },
      "execution_count": null,
      "outputs": []
    },
    {
      "cell_type": "code",
      "source": [
        "normalize_data(result1)"
      ],
      "metadata": {
        "id": "3BFOuDY3TybV"
      },
      "execution_count": null,
      "outputs": []
    },
    {
      "cell_type": "code",
      "source": [
        "def normalize_data2(train_set):\n",
        "    for i in train_set.columns:\n",
        "      avg = train_set[i].sum()/(len(train_set.index)-len(train_set.loc[train_set[i]==0,i]))\n",
        "      for j in train_set.index:\n",
        "        if train_set.loc[j,i] != 0 and train_set.loc[j,i] != 3 and train_set.loc[j,i] != 2:\n",
        "          if train_set.loc[j,i] >= avg-2:\n",
        "            train_set.loc[j,i] = 3\n",
        "          elif train_set.loc[j,i] < avg-2:\n",
        "            train_set.loc[j,i] = 2\n",
        "normalize_data2(result2)"
      ],
      "metadata": {
        "id": "np7wkRY6p3oy"
      },
      "execution_count": null,
      "outputs": []
    },
    {
      "cell_type": "code",
      "source": [
        "result1.value_counts()"
      ],
      "metadata": {
        "colab": {
          "base_uri": "https://localhost:8080/"
        },
        "id": "dfM3dLpSpy7a",
        "outputId": "44aeeadb-ab95-4ffc-ab5b-93a548550d52"
      },
      "execution_count": null,
      "outputs": [
        {
          "output_type": "execute_result",
          "data": {
            "text/plain": [
              "PY0101EN\n",
              "3.0         13406\n",
              "2.0          1527\n",
              "0.0             3\n",
              "dtype: int64"
            ]
          },
          "metadata": {},
          "execution_count": 40
        }
      ]
    },
    {
      "cell_type": "code",
      "source": [
        "result2.value_counts()"
      ],
      "metadata": {
        "colab": {
          "base_uri": "https://localhost:8080/"
        },
        "id": "MMY1R0TfrcuB",
        "outputId": "7900f721-ccac-411f-ee51-4c6b79e0a35d"
      },
      "execution_count": null,
      "outputs": [
        {
          "output_type": "execute_result",
          "data": {
            "text/plain": [
              "PY0101EN\n",
              "3.0         13988\n",
              "2.0           945\n",
              "0.0             3\n",
              "dtype: int64"
            ]
          },
          "metadata": {},
          "execution_count": 41
        }
      ]
    },
    {
      "cell_type": "code",
      "source": [
        "print(f'Test on result1 :{RMSE(result1,test2)}')"
      ],
      "metadata": {
        "colab": {
          "base_uri": "https://localhost:8080/"
        },
        "id": "YJtypI8fTzyD",
        "outputId": "ea453e54-e48f-48f4-a5e1-9a41920dcefb"
      },
      "execution_count": null,
      "outputs": [
        {
          "output_type": "stream",
          "name": "stdout",
          "text": [
            "Test on result1 :PY0101EN    0.320685\n",
            "dtype: float64\n"
          ]
        }
      ]
    },
    {
      "cell_type": "code",
      "source": [
        "print(f'Test on result2: {RMSE(result2,test2)}')"
      ],
      "metadata": {
        "colab": {
          "base_uri": "https://localhost:8080/"
        },
        "id": "xE8TLcdLrk87",
        "outputId": "39d36062-8028-48d1-dd10-3e3a4e650bce"
      },
      "execution_count": null,
      "outputs": [
        {
          "output_type": "stream",
          "name": "stdout",
          "text": [
            "Test on result2: PY0101EN    0.25273\n",
            "dtype: float64\n"
          ]
        }
      ]
    },
    {
      "cell_type": "markdown",
      "source": [
        "## Group 3: The value 2 more than the value of 3"
      ],
      "metadata": {
        "id": "S9dZ7gOAMTWC"
      }
    },
    {
      "cell_type": "code",
      "source": [
        "result = {}\n",
        "for item in rating_sparse_df.columns:\n",
        "  rate_2_count = len(rating_sparse_df[rating_sparse_df[item] == 2])\n",
        "\n",
        "\n",
        "  result[item] = rate_2_count\n",
        "\n",
        "\n",
        "sorted_result = sorted(result.items(), key=lambda x: x[1])\n",
        "print(f'Item have the most number of 2 value : {sorted_result[-1][0]}')\n"
      ],
      "metadata": {
        "colab": {
          "base_uri": "https://localhost:8080/"
        },
        "id": "Pm-QTiMlmD1m",
        "outputId": "a124a623-9e99-4606-a1be-cccdaa78e53a"
      },
      "execution_count": null,
      "outputs": [
        {
          "output_type": "stream",
          "name": "stdout",
          "text": [
            "Item have the most number of 2 value : CNSC02EN\n"
          ]
        }
      ]
    },
    {
      "cell_type": "code",
      "source": [
        "CNSC02EN_frame = train_set.CNSC02EN.to_frame()\n",
        "CNSC02EN_frame.value_counts()"
      ],
      "metadata": {
        "colab": {
          "base_uri": "https://localhost:8080/"
        },
        "id": "-rRIqprc2DZK",
        "outputId": "281dee06-6f10-4063-cbb3-58f6974d80c0"
      },
      "execution_count": null,
      "outputs": [
        {
          "output_type": "execute_result",
          "data": {
            "text/plain": [
              "CNSC02EN\n",
              "0.0         32063\n",
              "2.0          1838\n",
              "dtype: int64"
            ]
          },
          "metadata": {},
          "execution_count": 45
        }
      ]
    },
    {
      "cell_type": "code",
      "source": [
        "CNSC02EN_frame = CNSC02EN_frame[CNSC02EN_frame['CNSC02EN'] != 0]\n",
        "CNSC02EN_frame.value_counts()"
      ],
      "metadata": {
        "colab": {
          "base_uri": "https://localhost:8080/"
        },
        "id": "kII5PvTtIVMO",
        "outputId": "2aca4e36-c3ae-455a-d14a-d6d19e75ca64"
      },
      "execution_count": null,
      "outputs": [
        {
          "output_type": "execute_result",
          "data": {
            "text/plain": [
              "CNSC02EN\n",
              "2.0         1838\n",
              "dtype: int64"
            ]
          },
          "metadata": {},
          "execution_count": 46
        }
      ]
    },
    {
      "cell_type": "code",
      "source": [
        "train3 = CNSC02EN_frame.copy()\n",
        "test3 = CNSC02EN_frame.copy()"
      ],
      "metadata": {
        "id": "NAVtUkJOIr0q"
      },
      "execution_count": null,
      "outputs": []
    },
    {
      "cell_type": "code",
      "source": [
        "# Randomly set 10% of the values in the train set to 0\n",
        "for i in range(len(train3)):\n",
        "  for j in range(len(train3.columns)):\n",
        "    if random.random() < 0.1:\n",
        "      train3.iloc[i, j] = 0"
      ],
      "metadata": {
        "id": "-bNDPtDYI2nK"
      },
      "execution_count": null,
      "outputs": []
    },
    {
      "cell_type": "code",
      "source": [
        "test3.value_counts()"
      ],
      "metadata": {
        "colab": {
          "base_uri": "https://localhost:8080/"
        },
        "id": "yMAW8kAiI5rh",
        "outputId": "57512f4b-96a2-4ef0-ecc9-e317de3538e2"
      },
      "execution_count": null,
      "outputs": [
        {
          "output_type": "execute_result",
          "data": {
            "text/plain": [
              "CNSC02EN\n",
              "2.0         1838\n",
              "dtype: int64"
            ]
          },
          "metadata": {},
          "execution_count": 49
        }
      ]
    },
    {
      "cell_type": "code",
      "source": [
        "train3.value_counts()"
      ],
      "metadata": {
        "colab": {
          "base_uri": "https://localhost:8080/"
        },
        "id": "O5dsnSUPJIyi",
        "outputId": "4b054ea3-9795-4ef4-a9b1-f84dc4155f74"
      },
      "execution_count": null,
      "outputs": [
        {
          "output_type": "execute_result",
          "data": {
            "text/plain": [
              "CNSC02EN\n",
              "2.0         1647\n",
              "0.0          191\n",
              "dtype: int64"
            ]
          },
          "metadata": {},
          "execution_count": 50
        }
      ]
    },
    {
      "cell_type": "code",
      "source": [
        "knn_train = KNN(train3, 20)\n",
        "result = knn_train.fill_data2('CNSC02EN')\n",
        "result = result.to_frame()\n",
        "result\n"
      ],
      "metadata": {
        "colab": {
          "base_uri": "https://localhost:8080/",
          "height": 455
        },
        "id": "R0bn0ICEJN5C",
        "outputId": "92366fae-ce8a-4f47-8149-56eb1c94e703"
      },
      "execution_count": null,
      "outputs": [
        {
          "output_type": "execute_result",
          "data": {
            "text/plain": [
              "         CNSC02EN\n",
              "user             \n",
              "5             2.0\n",
              "50348         2.0\n",
              "77114         2.0\n",
              "82579         2.0\n",
              "91852         2.0\n",
              "...           ...\n",
              "2099543       2.0\n",
              "2099941       0.0\n",
              "2101370       2.0\n",
              "2101535       2.0\n",
              "2102356       2.0\n",
              "\n",
              "[1838 rows x 1 columns]"
            ],
            "text/html": [
              "\n",
              "  <div id=\"df-5ded3c74-aa1d-44aa-ab68-f9fc9f09fc44\" class=\"colab-df-container\">\n",
              "    <div>\n",
              "<style scoped>\n",
              "    .dataframe tbody tr th:only-of-type {\n",
              "        vertical-align: middle;\n",
              "    }\n",
              "\n",
              "    .dataframe tbody tr th {\n",
              "        vertical-align: top;\n",
              "    }\n",
              "\n",
              "    .dataframe thead th {\n",
              "        text-align: right;\n",
              "    }\n",
              "</style>\n",
              "<table border=\"1\" class=\"dataframe\">\n",
              "  <thead>\n",
              "    <tr style=\"text-align: right;\">\n",
              "      <th></th>\n",
              "      <th>CNSC02EN</th>\n",
              "    </tr>\n",
              "    <tr>\n",
              "      <th>user</th>\n",
              "      <th></th>\n",
              "    </tr>\n",
              "  </thead>\n",
              "  <tbody>\n",
              "    <tr>\n",
              "      <th>5</th>\n",
              "      <td>2.0</td>\n",
              "    </tr>\n",
              "    <tr>\n",
              "      <th>50348</th>\n",
              "      <td>2.0</td>\n",
              "    </tr>\n",
              "    <tr>\n",
              "      <th>77114</th>\n",
              "      <td>2.0</td>\n",
              "    </tr>\n",
              "    <tr>\n",
              "      <th>82579</th>\n",
              "      <td>2.0</td>\n",
              "    </tr>\n",
              "    <tr>\n",
              "      <th>91852</th>\n",
              "      <td>2.0</td>\n",
              "    </tr>\n",
              "    <tr>\n",
              "      <th>...</th>\n",
              "      <td>...</td>\n",
              "    </tr>\n",
              "    <tr>\n",
              "      <th>2099543</th>\n",
              "      <td>2.0</td>\n",
              "    </tr>\n",
              "    <tr>\n",
              "      <th>2099941</th>\n",
              "      <td>0.0</td>\n",
              "    </tr>\n",
              "    <tr>\n",
              "      <th>2101370</th>\n",
              "      <td>2.0</td>\n",
              "    </tr>\n",
              "    <tr>\n",
              "      <th>2101535</th>\n",
              "      <td>2.0</td>\n",
              "    </tr>\n",
              "    <tr>\n",
              "      <th>2102356</th>\n",
              "      <td>2.0</td>\n",
              "    </tr>\n",
              "  </tbody>\n",
              "</table>\n",
              "<p>1838 rows × 1 columns</p>\n",
              "</div>\n",
              "    <div class=\"colab-df-buttons\">\n",
              "\n",
              "  <div class=\"colab-df-container\">\n",
              "    <button class=\"colab-df-convert\" onclick=\"convertToInteractive('df-5ded3c74-aa1d-44aa-ab68-f9fc9f09fc44')\"\n",
              "            title=\"Convert this dataframe to an interactive table.\"\n",
              "            style=\"display:none;\">\n",
              "\n",
              "  <svg xmlns=\"http://www.w3.org/2000/svg\" height=\"24px\" viewBox=\"0 -960 960 960\">\n",
              "    <path d=\"M120-120v-720h720v720H120Zm60-500h600v-160H180v160Zm220 220h160v-160H400v160Zm0 220h160v-160H400v160ZM180-400h160v-160H180v160Zm440 0h160v-160H620v160ZM180-180h160v-160H180v160Zm440 0h160v-160H620v160Z\"/>\n",
              "  </svg>\n",
              "    </button>\n",
              "\n",
              "  <style>\n",
              "    .colab-df-container {\n",
              "      display:flex;\n",
              "      gap: 12px;\n",
              "    }\n",
              "\n",
              "    .colab-df-convert {\n",
              "      background-color: #E8F0FE;\n",
              "      border: none;\n",
              "      border-radius: 50%;\n",
              "      cursor: pointer;\n",
              "      display: none;\n",
              "      fill: #1967D2;\n",
              "      height: 32px;\n",
              "      padding: 0 0 0 0;\n",
              "      width: 32px;\n",
              "    }\n",
              "\n",
              "    .colab-df-convert:hover {\n",
              "      background-color: #E2EBFA;\n",
              "      box-shadow: 0px 1px 2px rgba(60, 64, 67, 0.3), 0px 1px 3px 1px rgba(60, 64, 67, 0.15);\n",
              "      fill: #174EA6;\n",
              "    }\n",
              "\n",
              "    .colab-df-buttons div {\n",
              "      margin-bottom: 4px;\n",
              "    }\n",
              "\n",
              "    [theme=dark] .colab-df-convert {\n",
              "      background-color: #3B4455;\n",
              "      fill: #D2E3FC;\n",
              "    }\n",
              "\n",
              "    [theme=dark] .colab-df-convert:hover {\n",
              "      background-color: #434B5C;\n",
              "      box-shadow: 0px 1px 3px 1px rgba(0, 0, 0, 0.15);\n",
              "      filter: drop-shadow(0px 1px 2px rgba(0, 0, 0, 0.3));\n",
              "      fill: #FFFFFF;\n",
              "    }\n",
              "  </style>\n",
              "\n",
              "    <script>\n",
              "      const buttonEl =\n",
              "        document.querySelector('#df-5ded3c74-aa1d-44aa-ab68-f9fc9f09fc44 button.colab-df-convert');\n",
              "      buttonEl.style.display =\n",
              "        google.colab.kernel.accessAllowed ? 'block' : 'none';\n",
              "\n",
              "      async function convertToInteractive(key) {\n",
              "        const element = document.querySelector('#df-5ded3c74-aa1d-44aa-ab68-f9fc9f09fc44');\n",
              "        const dataTable =\n",
              "          await google.colab.kernel.invokeFunction('convertToInteractive',\n",
              "                                                    [key], {});\n",
              "        if (!dataTable) return;\n",
              "\n",
              "        const docLinkHtml = 'Like what you see? Visit the ' +\n",
              "          '<a target=\"_blank\" href=https://colab.research.google.com/notebooks/data_table.ipynb>data table notebook</a>'\n",
              "          + ' to learn more about interactive tables.';\n",
              "        element.innerHTML = '';\n",
              "        dataTable['output_type'] = 'display_data';\n",
              "        await google.colab.output.renderOutput(dataTable, element);\n",
              "        const docLink = document.createElement('div');\n",
              "        docLink.innerHTML = docLinkHtml;\n",
              "        element.appendChild(docLink);\n",
              "      }\n",
              "    </script>\n",
              "  </div>\n",
              "\n",
              "\n",
              "<div id=\"df-ff14b9f8-1104-4c19-b91d-1699f52bbf47\">\n",
              "  <button class=\"colab-df-quickchart\" onclick=\"quickchart('df-ff14b9f8-1104-4c19-b91d-1699f52bbf47')\"\n",
              "            title=\"Suggest charts\"\n",
              "            style=\"display:none;\">\n",
              "\n",
              "<svg xmlns=\"http://www.w3.org/2000/svg\" height=\"24px\"viewBox=\"0 0 24 24\"\n",
              "     width=\"24px\">\n",
              "    <g>\n",
              "        <path d=\"M19 3H5c-1.1 0-2 .9-2 2v14c0 1.1.9 2 2 2h14c1.1 0 2-.9 2-2V5c0-1.1-.9-2-2-2zM9 17H7v-7h2v7zm4 0h-2V7h2v10zm4 0h-2v-4h2v4z\"/>\n",
              "    </g>\n",
              "</svg>\n",
              "  </button>\n",
              "\n",
              "<style>\n",
              "  .colab-df-quickchart {\n",
              "      --bg-color: #E8F0FE;\n",
              "      --fill-color: #1967D2;\n",
              "      --hover-bg-color: #E2EBFA;\n",
              "      --hover-fill-color: #174EA6;\n",
              "      --disabled-fill-color: #AAA;\n",
              "      --disabled-bg-color: #DDD;\n",
              "  }\n",
              "\n",
              "  [theme=dark] .colab-df-quickchart {\n",
              "      --bg-color: #3B4455;\n",
              "      --fill-color: #D2E3FC;\n",
              "      --hover-bg-color: #434B5C;\n",
              "      --hover-fill-color: #FFFFFF;\n",
              "      --disabled-bg-color: #3B4455;\n",
              "      --disabled-fill-color: #666;\n",
              "  }\n",
              "\n",
              "  .colab-df-quickchart {\n",
              "    background-color: var(--bg-color);\n",
              "    border: none;\n",
              "    border-radius: 50%;\n",
              "    cursor: pointer;\n",
              "    display: none;\n",
              "    fill: var(--fill-color);\n",
              "    height: 32px;\n",
              "    padding: 0;\n",
              "    width: 32px;\n",
              "  }\n",
              "\n",
              "  .colab-df-quickchart:hover {\n",
              "    background-color: var(--hover-bg-color);\n",
              "    box-shadow: 0 1px 2px rgba(60, 64, 67, 0.3), 0 1px 3px 1px rgba(60, 64, 67, 0.15);\n",
              "    fill: var(--button-hover-fill-color);\n",
              "  }\n",
              "\n",
              "  .colab-df-quickchart-complete:disabled,\n",
              "  .colab-df-quickchart-complete:disabled:hover {\n",
              "    background-color: var(--disabled-bg-color);\n",
              "    fill: var(--disabled-fill-color);\n",
              "    box-shadow: none;\n",
              "  }\n",
              "\n",
              "  .colab-df-spinner {\n",
              "    border: 2px solid var(--fill-color);\n",
              "    border-color: transparent;\n",
              "    border-bottom-color: var(--fill-color);\n",
              "    animation:\n",
              "      spin 1s steps(1) infinite;\n",
              "  }\n",
              "\n",
              "  @keyframes spin {\n",
              "    0% {\n",
              "      border-color: transparent;\n",
              "      border-bottom-color: var(--fill-color);\n",
              "      border-left-color: var(--fill-color);\n",
              "    }\n",
              "    20% {\n",
              "      border-color: transparent;\n",
              "      border-left-color: var(--fill-color);\n",
              "      border-top-color: var(--fill-color);\n",
              "    }\n",
              "    30% {\n",
              "      border-color: transparent;\n",
              "      border-left-color: var(--fill-color);\n",
              "      border-top-color: var(--fill-color);\n",
              "      border-right-color: var(--fill-color);\n",
              "    }\n",
              "    40% {\n",
              "      border-color: transparent;\n",
              "      border-right-color: var(--fill-color);\n",
              "      border-top-color: var(--fill-color);\n",
              "    }\n",
              "    60% {\n",
              "      border-color: transparent;\n",
              "      border-right-color: var(--fill-color);\n",
              "    }\n",
              "    80% {\n",
              "      border-color: transparent;\n",
              "      border-right-color: var(--fill-color);\n",
              "      border-bottom-color: var(--fill-color);\n",
              "    }\n",
              "    90% {\n",
              "      border-color: transparent;\n",
              "      border-bottom-color: var(--fill-color);\n",
              "    }\n",
              "  }\n",
              "</style>\n",
              "\n",
              "  <script>\n",
              "    async function quickchart(key) {\n",
              "      const quickchartButtonEl =\n",
              "        document.querySelector('#' + key + ' button');\n",
              "      quickchartButtonEl.disabled = true;  // To prevent multiple clicks.\n",
              "      quickchartButtonEl.classList.add('colab-df-spinner');\n",
              "      try {\n",
              "        const charts = await google.colab.kernel.invokeFunction(\n",
              "            'suggestCharts', [key], {});\n",
              "      } catch (error) {\n",
              "        console.error('Error during call to suggestCharts:', error);\n",
              "      }\n",
              "      quickchartButtonEl.classList.remove('colab-df-spinner');\n",
              "      quickchartButtonEl.classList.add('colab-df-quickchart-complete');\n",
              "    }\n",
              "    (() => {\n",
              "      let quickchartButtonEl =\n",
              "        document.querySelector('#df-ff14b9f8-1104-4c19-b91d-1699f52bbf47 button');\n",
              "      quickchartButtonEl.style.display =\n",
              "        google.colab.kernel.accessAllowed ? 'block' : 'none';\n",
              "    })();\n",
              "  </script>\n",
              "</div>\n",
              "\n",
              "  <div id=\"id_0ac12b36-7455-4ff9-a249-dd7b1f734ecc\">\n",
              "    <style>\n",
              "      .colab-df-generate {\n",
              "        background-color: #E8F0FE;\n",
              "        border: none;\n",
              "        border-radius: 50%;\n",
              "        cursor: pointer;\n",
              "        display: none;\n",
              "        fill: #1967D2;\n",
              "        height: 32px;\n",
              "        padding: 0 0 0 0;\n",
              "        width: 32px;\n",
              "      }\n",
              "\n",
              "      .colab-df-generate:hover {\n",
              "        background-color: #E2EBFA;\n",
              "        box-shadow: 0px 1px 2px rgba(60, 64, 67, 0.3), 0px 1px 3px 1px rgba(60, 64, 67, 0.15);\n",
              "        fill: #174EA6;\n",
              "      }\n",
              "\n",
              "      [theme=dark] .colab-df-generate {\n",
              "        background-color: #3B4455;\n",
              "        fill: #D2E3FC;\n",
              "      }\n",
              "\n",
              "      [theme=dark] .colab-df-generate:hover {\n",
              "        background-color: #434B5C;\n",
              "        box-shadow: 0px 1px 3px 1px rgba(0, 0, 0, 0.15);\n",
              "        filter: drop-shadow(0px 1px 2px rgba(0, 0, 0, 0.3));\n",
              "        fill: #FFFFFF;\n",
              "      }\n",
              "    </style>\n",
              "    <button class=\"colab-df-generate\" onclick=\"generateWithVariable('result')\"\n",
              "            title=\"Generate code using this dataframe.\"\n",
              "            style=\"display:none;\">\n",
              "\n",
              "  <svg xmlns=\"http://www.w3.org/2000/svg\" height=\"24px\"viewBox=\"0 0 24 24\"\n",
              "       width=\"24px\">\n",
              "    <path d=\"M7,19H8.4L18.45,9,17,7.55,7,17.6ZM5,21V16.75L18.45,3.32a2,2,0,0,1,2.83,0l1.4,1.43a1.91,1.91,0,0,1,.58,1.4,1.91,1.91,0,0,1-.58,1.4L9.25,21ZM18.45,9,17,7.55Zm-12,3A5.31,5.31,0,0,0,4.9,8.1,5.31,5.31,0,0,0,1,6.5,5.31,5.31,0,0,0,4.9,4.9,5.31,5.31,0,0,0,6.5,1,5.31,5.31,0,0,0,8.1,4.9,5.31,5.31,0,0,0,12,6.5,5.46,5.46,0,0,0,6.5,12Z\"/>\n",
              "  </svg>\n",
              "    </button>\n",
              "    <script>\n",
              "      (() => {\n",
              "      const buttonEl =\n",
              "        document.querySelector('#id_0ac12b36-7455-4ff9-a249-dd7b1f734ecc button.colab-df-generate');\n",
              "      buttonEl.style.display =\n",
              "        google.colab.kernel.accessAllowed ? 'block' : 'none';\n",
              "\n",
              "      buttonEl.onclick = () => {\n",
              "        google.colab.notebook.generateWithVariable('result');\n",
              "      }\n",
              "      })();\n",
              "    </script>\n",
              "  </div>\n",
              "\n",
              "    </div>\n",
              "  </div>\n"
            ],
            "application/vnd.google.colaboratory.intrinsic+json": {
              "type": "dataframe",
              "variable_name": "result",
              "summary": "{\n  \"name\": \"result\",\n  \"rows\": 1838,\n  \"fields\": [\n    {\n      \"column\": \"user\",\n      \"properties\": {\n        \"dtype\": \"number\",\n        \"std\": 426895,\n        \"min\": 5,\n        \"max\": 2102356,\n        \"num_unique_values\": 1838,\n        \"samples\": [\n          1922891,\n          1750651,\n          1187856\n        ],\n        \"semantic_type\": \"\",\n        \"description\": \"\"\n      }\n    },\n    {\n      \"column\": \"CNSC02EN\",\n      \"properties\": {\n        \"dtype\": \"number\",\n        \"std\": 0.5888305651881552,\n        \"min\": 0.0,\n        \"max\": 2.202263208931451,\n        \"num_unique_values\": 25,\n        \"samples\": [\n          1.2979000213386065,\n          1.7607856939679556,\n          2.0\n        ],\n        \"semantic_type\": \"\",\n        \"description\": \"\"\n      }\n    }\n  ]\n}"
            }
          },
          "metadata": {},
          "execution_count": 51
        }
      ]
    },
    {
      "cell_type": "code",
      "source": [
        "result.value_counts()"
      ],
      "metadata": {
        "colab": {
          "base_uri": "https://localhost:8080/"
        },
        "id": "GEVp8k0KJm2E",
        "outputId": "8d3b7973-1708-431a-c17d-2a9faa9eba4c"
      },
      "execution_count": null,
      "outputs": [
        {
          "output_type": "execute_result",
          "data": {
            "text/plain": [
              "CNSC02EN\n",
              "2.000000    1647\n",
              "0.000000     165\n",
              "0.100562       3\n",
              "0.107948       2\n",
              "0.832678       1\n",
              "1.824546       1\n",
              "1.760786       1\n",
              "1.725192       1\n",
              "1.488319       1\n",
              "1.297900       1\n",
              "0.924567       1\n",
              "0.920803       1\n",
              "0.916418       1\n",
              "0.819816       1\n",
              "0.825249       1\n",
              "0.081575       1\n",
              "0.700009       1\n",
              "0.652774       1\n",
              "0.617651       1\n",
              "0.579648       1\n",
              "0.524887       1\n",
              "0.495289       1\n",
              "0.428451       1\n",
              "0.122362       1\n",
              "2.202263       1\n",
              "dtype: int64"
            ]
          },
          "metadata": {},
          "execution_count": 52
        }
      ]
    },
    {
      "cell_type": "code",
      "source": [
        "print(f'Mean of result {result.mean()}')"
      ],
      "metadata": {
        "colab": {
          "base_uri": "https://localhost:8080/"
        },
        "id": "495d_6oPs86C",
        "outputId": "7bf3f161-17a8-493e-f662-4a45fd892645"
      },
      "execution_count": null,
      "outputs": [
        {
          "output_type": "stream",
          "name": "stdout",
          "text": [
            "Mean of result CNSC02EN    1.803188\n",
            "dtype: float64\n"
          ]
        }
      ]
    },
    {
      "cell_type": "code",
      "source": [
        "result1 = result.copy()\n",
        "result2 = result.copy()"
      ],
      "metadata": {
        "id": "5wlHd6x6sYVR"
      },
      "execution_count": null,
      "outputs": []
    },
    {
      "cell_type": "code",
      "source": [
        "normalize_data(result1)"
      ],
      "metadata": {
        "id": "9qNcNWSUJtB3"
      },
      "execution_count": null,
      "outputs": []
    },
    {
      "cell_type": "code",
      "source": [
        "def normalize_data2(train_set):\n",
        "    for i in train_set.columns:\n",
        "      avg = train_set[i].sum()/(len(train_set.index)-len(train_set.loc[train_set[i]==0,i]))\n",
        "      for j in train_set.index:\n",
        "        if train_set.loc[j,i] != 0 and train_set.loc[j,i] != 3 and train_set.loc[j,i] != 2:\n",
        "          if train_set.loc[j,i] > avg+0.5:\n",
        "            train_set.loc[j,i] = 3\n",
        "          elif train_set.loc[j,i] <= avg+0.5:\n",
        "            train_set.loc[j,i] = 2\n",
        "normalize_data2(result2)"
      ],
      "metadata": {
        "id": "FR80xqRlsViU"
      },
      "execution_count": null,
      "outputs": []
    },
    {
      "cell_type": "code",
      "source": [
        "result1.value_counts()"
      ],
      "metadata": {
        "colab": {
          "base_uri": "https://localhost:8080/"
        },
        "id": "9FwA8BEUJwtT",
        "outputId": "ced38c74-9397-4f41-c8ef-81072045cb28"
      },
      "execution_count": null,
      "outputs": [
        {
          "output_type": "execute_result",
          "data": {
            "text/plain": [
              "CNSC02EN\n",
              "2.0         1672\n",
              "0.0          165\n",
              "3.0            1\n",
              "dtype: int64"
            ]
          },
          "metadata": {},
          "execution_count": 57
        }
      ]
    },
    {
      "cell_type": "code",
      "source": [
        "result2.value_counts()"
      ],
      "metadata": {
        "colab": {
          "base_uri": "https://localhost:8080/"
        },
        "id": "8KoAAln9soYS",
        "outputId": "b524cc7c-6c26-44e5-8e28-3a5ee87c47b7"
      },
      "execution_count": null,
      "outputs": [
        {
          "output_type": "execute_result",
          "data": {
            "text/plain": [
              "CNSC02EN\n",
              "2.0         1673\n",
              "0.0          165\n",
              "dtype: int64"
            ]
          },
          "metadata": {},
          "execution_count": 58
        }
      ]
    },
    {
      "cell_type": "code",
      "source": [
        "print(f'Test on result1 :{RMSE(result1,test3)}')"
      ],
      "metadata": {
        "colab": {
          "base_uri": "https://localhost:8080/"
        },
        "outputId": "06be5eeb-4ff6-4971-d593-2f6b0f9ade40",
        "id": "82IyH0IKsv0O"
      },
      "execution_count": null,
      "outputs": [
        {
          "output_type": "stream",
          "name": "stdout",
          "text": [
            "Test on result1 :CNSC02EN    0.599692\n",
            "dtype: float64\n"
          ]
        }
      ]
    },
    {
      "cell_type": "code",
      "source": [
        "print(f'Test on result2: {RMSE(result2,test3)}')"
      ],
      "metadata": {
        "colab": {
          "base_uri": "https://localhost:8080/"
        },
        "outputId": "b13d2f9f-9558-44f2-b5d8-c070c0191b2a",
        "id": "wdj5mooLsv0P"
      },
      "execution_count": null,
      "outputs": [
        {
          "output_type": "stream",
          "name": "stdout",
          "text": [
            "Test on result2: CNSC02EN    0.599238\n",
            "dtype: float64\n"
          ]
        }
      ]
    },
    {
      "cell_type": "code",
      "source": [
        "get_similar_course('CNSC02EN')[1:5]"
      ],
      "metadata": {
        "colab": {
          "base_uri": "https://localhost:8080/"
        },
        "id": "EncbsgnHKT02",
        "outputId": "f307471a-8a91-4a8b-cfda-463ad10db83d"
      },
      "execution_count": null,
      "outputs": [
        {
          "output_type": "execute_result",
          "data": {
            "text/plain": [
              "HCC105EN    0.095628\n",
              "HCC104EN    0.091833\n",
              "SECM03EN    0.068882\n",
              "DE0205EN    0.063232\n",
              "Name: CNSC02EN, dtype: float64"
            ]
          },
          "metadata": {},
          "execution_count": 61
        }
      ]
    }
  ]
}